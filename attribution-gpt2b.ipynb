{
  "nbformat": 4,
  "nbformat_minor": 0,
  "metadata": {
    "colab": {
      "name": "attribution-gpt-neo-125.ipynb",
      "provenance": [],
      "collapsed_sections": [],
      "toc_visible": true,
      "include_colab_link": true
    },
    "kernelspec": {
      "name": "python3",
      "display_name": "Python 3"
    },
    "language_info": {
      "name": "python"
    },
    "accelerator": "GPU",
    "widgets": {
      "application/vnd.jupyter.widget-state+json": {
        "18a0b0af70704e5f824278f06d2ed48a": {
          "model_module": "@jupyter-widgets/controls",
          "model_name": "HBoxModel",
          "model_module_version": "1.5.0",
          "state": {
            "_view_name": "HBoxView",
            "_dom_classes": [],
            "_model_name": "HBoxModel",
            "_view_module": "@jupyter-widgets/controls",
            "_model_module_version": "1.5.0",
            "_view_count": null,
            "_view_module_version": "1.5.0",
            "box_style": "",
            "layout": "IPY_MODEL_1087bae3c89543f9a99cc1be07d0a36c",
            "_model_module": "@jupyter-widgets/controls",
            "children": [
              "IPY_MODEL_3dc1458ca58c4b0fb85e495fd6a81262",
              "IPY_MODEL_0d23dbba3f0e4925ab717ff308adf2d2",
              "IPY_MODEL_22e13490f6b7464c84fc76e05fff54cc"
            ]
          }
        },
        "1087bae3c89543f9a99cc1be07d0a36c": {
          "model_module": "@jupyter-widgets/base",
          "model_name": "LayoutModel",
          "model_module_version": "1.2.0",
          "state": {
            "_view_name": "LayoutView",
            "grid_template_rows": null,
            "right": null,
            "justify_content": null,
            "_view_module": "@jupyter-widgets/base",
            "overflow": null,
            "_model_module_version": "1.2.0",
            "_view_count": null,
            "flex_flow": null,
            "width": null,
            "min_width": null,
            "border": null,
            "align_items": null,
            "bottom": null,
            "_model_module": "@jupyter-widgets/base",
            "top": null,
            "grid_column": null,
            "overflow_y": null,
            "overflow_x": null,
            "grid_auto_flow": null,
            "grid_area": null,
            "grid_template_columns": null,
            "flex": null,
            "_model_name": "LayoutModel",
            "justify_items": null,
            "grid_row": null,
            "max_height": null,
            "align_content": null,
            "visibility": null,
            "align_self": null,
            "height": null,
            "min_height": null,
            "padding": null,
            "grid_auto_rows": null,
            "grid_gap": null,
            "max_width": null,
            "order": null,
            "_view_module_version": "1.2.0",
            "grid_template_areas": null,
            "object_position": null,
            "object_fit": null,
            "grid_auto_columns": null,
            "margin": null,
            "display": null,
            "left": null
          }
        },
        "3dc1458ca58c4b0fb85e495fd6a81262": {
          "model_module": "@jupyter-widgets/controls",
          "model_name": "HTMLModel",
          "model_module_version": "1.5.0",
          "state": {
            "_view_name": "HTMLView",
            "style": "IPY_MODEL_1ab1516ea8a343e0a1de0f1d4f06b412",
            "_dom_classes": [],
            "description": "",
            "_model_name": "HTMLModel",
            "placeholder": "​",
            "_view_module": "@jupyter-widgets/controls",
            "_model_module_version": "1.5.0",
            "value": "Downloading: 100%",
            "_view_count": null,
            "_view_module_version": "1.5.0",
            "description_tooltip": null,
            "_model_module": "@jupyter-widgets/controls",
            "layout": "IPY_MODEL_e793941ba76246c69a8cef24f09257d3"
          }
        },
        "0d23dbba3f0e4925ab717ff308adf2d2": {
          "model_module": "@jupyter-widgets/controls",
          "model_name": "FloatProgressModel",
          "model_module_version": "1.5.0",
          "state": {
            "_view_name": "ProgressView",
            "style": "IPY_MODEL_f5210a8586d144d1b4579457b4e5f9d9",
            "_dom_classes": [],
            "description": "",
            "_model_name": "FloatProgressModel",
            "bar_style": "success",
            "max": 665,
            "_view_module": "@jupyter-widgets/controls",
            "_model_module_version": "1.5.0",
            "value": 665,
            "_view_count": null,
            "_view_module_version": "1.5.0",
            "orientation": "horizontal",
            "min": 0,
            "description_tooltip": null,
            "_model_module": "@jupyter-widgets/controls",
            "layout": "IPY_MODEL_c754ae5d7f0e41f0900869ba9ca40b19"
          }
        },
        "22e13490f6b7464c84fc76e05fff54cc": {
          "model_module": "@jupyter-widgets/controls",
          "model_name": "HTMLModel",
          "model_module_version": "1.5.0",
          "state": {
            "_view_name": "HTMLView",
            "style": "IPY_MODEL_d98f6e253cc84f658d8be5e3cc378796",
            "_dom_classes": [],
            "description": "",
            "_model_name": "HTMLModel",
            "placeholder": "​",
            "_view_module": "@jupyter-widgets/controls",
            "_model_module_version": "1.5.0",
            "value": " 665/665 [00:00&lt;00:00, 15.0kB/s]",
            "_view_count": null,
            "_view_module_version": "1.5.0",
            "description_tooltip": null,
            "_model_module": "@jupyter-widgets/controls",
            "layout": "IPY_MODEL_5dd6e725e7734fcdb232464286c94d2e"
          }
        },
        "1ab1516ea8a343e0a1de0f1d4f06b412": {
          "model_module": "@jupyter-widgets/controls",
          "model_name": "DescriptionStyleModel",
          "model_module_version": "1.5.0",
          "state": {
            "_view_name": "StyleView",
            "_model_name": "DescriptionStyleModel",
            "description_width": "",
            "_view_module": "@jupyter-widgets/base",
            "_model_module_version": "1.5.0",
            "_view_count": null,
            "_view_module_version": "1.2.0",
            "_model_module": "@jupyter-widgets/controls"
          }
        },
        "e793941ba76246c69a8cef24f09257d3": {
          "model_module": "@jupyter-widgets/base",
          "model_name": "LayoutModel",
          "model_module_version": "1.2.0",
          "state": {
            "_view_name": "LayoutView",
            "grid_template_rows": null,
            "right": null,
            "justify_content": null,
            "_view_module": "@jupyter-widgets/base",
            "overflow": null,
            "_model_module_version": "1.2.0",
            "_view_count": null,
            "flex_flow": null,
            "width": null,
            "min_width": null,
            "border": null,
            "align_items": null,
            "bottom": null,
            "_model_module": "@jupyter-widgets/base",
            "top": null,
            "grid_column": null,
            "overflow_y": null,
            "overflow_x": null,
            "grid_auto_flow": null,
            "grid_area": null,
            "grid_template_columns": null,
            "flex": null,
            "_model_name": "LayoutModel",
            "justify_items": null,
            "grid_row": null,
            "max_height": null,
            "align_content": null,
            "visibility": null,
            "align_self": null,
            "height": null,
            "min_height": null,
            "padding": null,
            "grid_auto_rows": null,
            "grid_gap": null,
            "max_width": null,
            "order": null,
            "_view_module_version": "1.2.0",
            "grid_template_areas": null,
            "object_position": null,
            "object_fit": null,
            "grid_auto_columns": null,
            "margin": null,
            "display": null,
            "left": null
          }
        },
        "f5210a8586d144d1b4579457b4e5f9d9": {
          "model_module": "@jupyter-widgets/controls",
          "model_name": "ProgressStyleModel",
          "model_module_version": "1.5.0",
          "state": {
            "_view_name": "StyleView",
            "_model_name": "ProgressStyleModel",
            "description_width": "",
            "_view_module": "@jupyter-widgets/base",
            "_model_module_version": "1.5.0",
            "_view_count": null,
            "_view_module_version": "1.2.0",
            "bar_color": null,
            "_model_module": "@jupyter-widgets/controls"
          }
        },
        "c754ae5d7f0e41f0900869ba9ca40b19": {
          "model_module": "@jupyter-widgets/base",
          "model_name": "LayoutModel",
          "model_module_version": "1.2.0",
          "state": {
            "_view_name": "LayoutView",
            "grid_template_rows": null,
            "right": null,
            "justify_content": null,
            "_view_module": "@jupyter-widgets/base",
            "overflow": null,
            "_model_module_version": "1.2.0",
            "_view_count": null,
            "flex_flow": null,
            "width": null,
            "min_width": null,
            "border": null,
            "align_items": null,
            "bottom": null,
            "_model_module": "@jupyter-widgets/base",
            "top": null,
            "grid_column": null,
            "overflow_y": null,
            "overflow_x": null,
            "grid_auto_flow": null,
            "grid_area": null,
            "grid_template_columns": null,
            "flex": null,
            "_model_name": "LayoutModel",
            "justify_items": null,
            "grid_row": null,
            "max_height": null,
            "align_content": null,
            "visibility": null,
            "align_self": null,
            "height": null,
            "min_height": null,
            "padding": null,
            "grid_auto_rows": null,
            "grid_gap": null,
            "max_width": null,
            "order": null,
            "_view_module_version": "1.2.0",
            "grid_template_areas": null,
            "object_position": null,
            "object_fit": null,
            "grid_auto_columns": null,
            "margin": null,
            "display": null,
            "left": null
          }
        },
        "d98f6e253cc84f658d8be5e3cc378796": {
          "model_module": "@jupyter-widgets/controls",
          "model_name": "DescriptionStyleModel",
          "model_module_version": "1.5.0",
          "state": {
            "_view_name": "StyleView",
            "_model_name": "DescriptionStyleModel",
            "description_width": "",
            "_view_module": "@jupyter-widgets/base",
            "_model_module_version": "1.5.0",
            "_view_count": null,
            "_view_module_version": "1.2.0",
            "_model_module": "@jupyter-widgets/controls"
          }
        },
        "5dd6e725e7734fcdb232464286c94d2e": {
          "model_module": "@jupyter-widgets/base",
          "model_name": "LayoutModel",
          "model_module_version": "1.2.0",
          "state": {
            "_view_name": "LayoutView",
            "grid_template_rows": null,
            "right": null,
            "justify_content": null,
            "_view_module": "@jupyter-widgets/base",
            "overflow": null,
            "_model_module_version": "1.2.0",
            "_view_count": null,
            "flex_flow": null,
            "width": null,
            "min_width": null,
            "border": null,
            "align_items": null,
            "bottom": null,
            "_model_module": "@jupyter-widgets/base",
            "top": null,
            "grid_column": null,
            "overflow_y": null,
            "overflow_x": null,
            "grid_auto_flow": null,
            "grid_area": null,
            "grid_template_columns": null,
            "flex": null,
            "_model_name": "LayoutModel",
            "justify_items": null,
            "grid_row": null,
            "max_height": null,
            "align_content": null,
            "visibility": null,
            "align_self": null,
            "height": null,
            "min_height": null,
            "padding": null,
            "grid_auto_rows": null,
            "grid_gap": null,
            "max_width": null,
            "order": null,
            "_view_module_version": "1.2.0",
            "grid_template_areas": null,
            "object_position": null,
            "object_fit": null,
            "grid_auto_columns": null,
            "margin": null,
            "display": null,
            "left": null
          }
        },
        "d6e06668e6f4449ca1390c3ac94407ac": {
          "model_module": "@jupyter-widgets/controls",
          "model_name": "HBoxModel",
          "model_module_version": "1.5.0",
          "state": {
            "_view_name": "HBoxView",
            "_dom_classes": [],
            "_model_name": "HBoxModel",
            "_view_module": "@jupyter-widgets/controls",
            "_model_module_version": "1.5.0",
            "_view_count": null,
            "_view_module_version": "1.5.0",
            "box_style": "",
            "layout": "IPY_MODEL_6b5087f7208c4397b95751cad8dc5f51",
            "_model_module": "@jupyter-widgets/controls",
            "children": [
              "IPY_MODEL_df5a8058272b44799acfd4e9087fbe0d",
              "IPY_MODEL_8cb21f5ea2084791b3956f87df4e1c1b",
              "IPY_MODEL_09d32f4bfdac4a93afd07c0916cda2c4"
            ]
          }
        },
        "6b5087f7208c4397b95751cad8dc5f51": {
          "model_module": "@jupyter-widgets/base",
          "model_name": "LayoutModel",
          "model_module_version": "1.2.0",
          "state": {
            "_view_name": "LayoutView",
            "grid_template_rows": null,
            "right": null,
            "justify_content": null,
            "_view_module": "@jupyter-widgets/base",
            "overflow": null,
            "_model_module_version": "1.2.0",
            "_view_count": null,
            "flex_flow": null,
            "width": null,
            "min_width": null,
            "border": null,
            "align_items": null,
            "bottom": null,
            "_model_module": "@jupyter-widgets/base",
            "top": null,
            "grid_column": null,
            "overflow_y": null,
            "overflow_x": null,
            "grid_auto_flow": null,
            "grid_area": null,
            "grid_template_columns": null,
            "flex": null,
            "_model_name": "LayoutModel",
            "justify_items": null,
            "grid_row": null,
            "max_height": null,
            "align_content": null,
            "visibility": null,
            "align_self": null,
            "height": null,
            "min_height": null,
            "padding": null,
            "grid_auto_rows": null,
            "grid_gap": null,
            "max_width": null,
            "order": null,
            "_view_module_version": "1.2.0",
            "grid_template_areas": null,
            "object_position": null,
            "object_fit": null,
            "grid_auto_columns": null,
            "margin": null,
            "display": null,
            "left": null
          }
        },
        "df5a8058272b44799acfd4e9087fbe0d": {
          "model_module": "@jupyter-widgets/controls",
          "model_name": "HTMLModel",
          "model_module_version": "1.5.0",
          "state": {
            "_view_name": "HTMLView",
            "style": "IPY_MODEL_8e6dd7f0fd9a45a8a864a7c88e087830",
            "_dom_classes": [],
            "description": "",
            "_model_name": "HTMLModel",
            "placeholder": "​",
            "_view_module": "@jupyter-widgets/controls",
            "_model_module_version": "1.5.0",
            "value": "Downloading: 100%",
            "_view_count": null,
            "_view_module_version": "1.5.0",
            "description_tooltip": null,
            "_model_module": "@jupyter-widgets/controls",
            "layout": "IPY_MODEL_f80fe4a02d514123ac5ee17c191d0bca"
          }
        },
        "8cb21f5ea2084791b3956f87df4e1c1b": {
          "model_module": "@jupyter-widgets/controls",
          "model_name": "FloatProgressModel",
          "model_module_version": "1.5.0",
          "state": {
            "_view_name": "ProgressView",
            "style": "IPY_MODEL_4a28be1ebcfe467abb6bc4e3ce4d54b6",
            "_dom_classes": [],
            "description": "",
            "_model_name": "FloatProgressModel",
            "bar_style": "success",
            "max": 1042301,
            "_view_module": "@jupyter-widgets/controls",
            "_model_module_version": "1.5.0",
            "value": 1042301,
            "_view_count": null,
            "_view_module_version": "1.5.0",
            "orientation": "horizontal",
            "min": 0,
            "description_tooltip": null,
            "_model_module": "@jupyter-widgets/controls",
            "layout": "IPY_MODEL_2f0a758321544ce98fb2686ce1ecd853"
          }
        },
        "09d32f4bfdac4a93afd07c0916cda2c4": {
          "model_module": "@jupyter-widgets/controls",
          "model_name": "HTMLModel",
          "model_module_version": "1.5.0",
          "state": {
            "_view_name": "HTMLView",
            "style": "IPY_MODEL_b20040ee689047a297497eeb0eff4c8d",
            "_dom_classes": [],
            "description": "",
            "_model_name": "HTMLModel",
            "placeholder": "​",
            "_view_module": "@jupyter-widgets/controls",
            "_model_module_version": "1.5.0",
            "value": " 1.04M/1.04M [00:01&lt;00:00, 1.13MB/s]",
            "_view_count": null,
            "_view_module_version": "1.5.0",
            "description_tooltip": null,
            "_model_module": "@jupyter-widgets/controls",
            "layout": "IPY_MODEL_6ea34a10d96149cc97ea0d6d29eab6a6"
          }
        },
        "8e6dd7f0fd9a45a8a864a7c88e087830": {
          "model_module": "@jupyter-widgets/controls",
          "model_name": "DescriptionStyleModel",
          "model_module_version": "1.5.0",
          "state": {
            "_view_name": "StyleView",
            "_model_name": "DescriptionStyleModel",
            "description_width": "",
            "_view_module": "@jupyter-widgets/base",
            "_model_module_version": "1.5.0",
            "_view_count": null,
            "_view_module_version": "1.2.0",
            "_model_module": "@jupyter-widgets/controls"
          }
        },
        "f80fe4a02d514123ac5ee17c191d0bca": {
          "model_module": "@jupyter-widgets/base",
          "model_name": "LayoutModel",
          "model_module_version": "1.2.0",
          "state": {
            "_view_name": "LayoutView",
            "grid_template_rows": null,
            "right": null,
            "justify_content": null,
            "_view_module": "@jupyter-widgets/base",
            "overflow": null,
            "_model_module_version": "1.2.0",
            "_view_count": null,
            "flex_flow": null,
            "width": null,
            "min_width": null,
            "border": null,
            "align_items": null,
            "bottom": null,
            "_model_module": "@jupyter-widgets/base",
            "top": null,
            "grid_column": null,
            "overflow_y": null,
            "overflow_x": null,
            "grid_auto_flow": null,
            "grid_area": null,
            "grid_template_columns": null,
            "flex": null,
            "_model_name": "LayoutModel",
            "justify_items": null,
            "grid_row": null,
            "max_height": null,
            "align_content": null,
            "visibility": null,
            "align_self": null,
            "height": null,
            "min_height": null,
            "padding": null,
            "grid_auto_rows": null,
            "grid_gap": null,
            "max_width": null,
            "order": null,
            "_view_module_version": "1.2.0",
            "grid_template_areas": null,
            "object_position": null,
            "object_fit": null,
            "grid_auto_columns": null,
            "margin": null,
            "display": null,
            "left": null
          }
        },
        "4a28be1ebcfe467abb6bc4e3ce4d54b6": {
          "model_module": "@jupyter-widgets/controls",
          "model_name": "ProgressStyleModel",
          "model_module_version": "1.5.0",
          "state": {
            "_view_name": "StyleView",
            "_model_name": "ProgressStyleModel",
            "description_width": "",
            "_view_module": "@jupyter-widgets/base",
            "_model_module_version": "1.5.0",
            "_view_count": null,
            "_view_module_version": "1.2.0",
            "bar_color": null,
            "_model_module": "@jupyter-widgets/controls"
          }
        },
        "2f0a758321544ce98fb2686ce1ecd853": {
          "model_module": "@jupyter-widgets/base",
          "model_name": "LayoutModel",
          "model_module_version": "1.2.0",
          "state": {
            "_view_name": "LayoutView",
            "grid_template_rows": null,
            "right": null,
            "justify_content": null,
            "_view_module": "@jupyter-widgets/base",
            "overflow": null,
            "_model_module_version": "1.2.0",
            "_view_count": null,
            "flex_flow": null,
            "width": null,
            "min_width": null,
            "border": null,
            "align_items": null,
            "bottom": null,
            "_model_module": "@jupyter-widgets/base",
            "top": null,
            "grid_column": null,
            "overflow_y": null,
            "overflow_x": null,
            "grid_auto_flow": null,
            "grid_area": null,
            "grid_template_columns": null,
            "flex": null,
            "_model_name": "LayoutModel",
            "justify_items": null,
            "grid_row": null,
            "max_height": null,
            "align_content": null,
            "visibility": null,
            "align_self": null,
            "height": null,
            "min_height": null,
            "padding": null,
            "grid_auto_rows": null,
            "grid_gap": null,
            "max_width": null,
            "order": null,
            "_view_module_version": "1.2.0",
            "grid_template_areas": null,
            "object_position": null,
            "object_fit": null,
            "grid_auto_columns": null,
            "margin": null,
            "display": null,
            "left": null
          }
        },
        "b20040ee689047a297497eeb0eff4c8d": {
          "model_module": "@jupyter-widgets/controls",
          "model_name": "DescriptionStyleModel",
          "model_module_version": "1.5.0",
          "state": {
            "_view_name": "StyleView",
            "_model_name": "DescriptionStyleModel",
            "description_width": "",
            "_view_module": "@jupyter-widgets/base",
            "_model_module_version": "1.5.0",
            "_view_count": null,
            "_view_module_version": "1.2.0",
            "_model_module": "@jupyter-widgets/controls"
          }
        },
        "6ea34a10d96149cc97ea0d6d29eab6a6": {
          "model_module": "@jupyter-widgets/base",
          "model_name": "LayoutModel",
          "model_module_version": "1.2.0",
          "state": {
            "_view_name": "LayoutView",
            "grid_template_rows": null,
            "right": null,
            "justify_content": null,
            "_view_module": "@jupyter-widgets/base",
            "overflow": null,
            "_model_module_version": "1.2.0",
            "_view_count": null,
            "flex_flow": null,
            "width": null,
            "min_width": null,
            "border": null,
            "align_items": null,
            "bottom": null,
            "_model_module": "@jupyter-widgets/base",
            "top": null,
            "grid_column": null,
            "overflow_y": null,
            "overflow_x": null,
            "grid_auto_flow": null,
            "grid_area": null,
            "grid_template_columns": null,
            "flex": null,
            "_model_name": "LayoutModel",
            "justify_items": null,
            "grid_row": null,
            "max_height": null,
            "align_content": null,
            "visibility": null,
            "align_self": null,
            "height": null,
            "min_height": null,
            "padding": null,
            "grid_auto_rows": null,
            "grid_gap": null,
            "max_width": null,
            "order": null,
            "_view_module_version": "1.2.0",
            "grid_template_areas": null,
            "object_position": null,
            "object_fit": null,
            "grid_auto_columns": null,
            "margin": null,
            "display": null,
            "left": null
          }
        },
        "dc205dc6806d4e95ac7b14ec4af878c3": {
          "model_module": "@jupyter-widgets/controls",
          "model_name": "HBoxModel",
          "model_module_version": "1.5.0",
          "state": {
            "_view_name": "HBoxView",
            "_dom_classes": [],
            "_model_name": "HBoxModel",
            "_view_module": "@jupyter-widgets/controls",
            "_model_module_version": "1.5.0",
            "_view_count": null,
            "_view_module_version": "1.5.0",
            "box_style": "",
            "layout": "IPY_MODEL_5c71b17ee05c4d8e9a2ab42bd6519bbc",
            "_model_module": "@jupyter-widgets/controls",
            "children": [
              "IPY_MODEL_27988a32dce048dd85ff7cbbe33b049f",
              "IPY_MODEL_fcb576c9d23549359e43167285eb02ee",
              "IPY_MODEL_9d30ae7bd0934412b19270b42d10c2f8"
            ]
          }
        },
        "5c71b17ee05c4d8e9a2ab42bd6519bbc": {
          "model_module": "@jupyter-widgets/base",
          "model_name": "LayoutModel",
          "model_module_version": "1.2.0",
          "state": {
            "_view_name": "LayoutView",
            "grid_template_rows": null,
            "right": null,
            "justify_content": null,
            "_view_module": "@jupyter-widgets/base",
            "overflow": null,
            "_model_module_version": "1.2.0",
            "_view_count": null,
            "flex_flow": null,
            "width": null,
            "min_width": null,
            "border": null,
            "align_items": null,
            "bottom": null,
            "_model_module": "@jupyter-widgets/base",
            "top": null,
            "grid_column": null,
            "overflow_y": null,
            "overflow_x": null,
            "grid_auto_flow": null,
            "grid_area": null,
            "grid_template_columns": null,
            "flex": null,
            "_model_name": "LayoutModel",
            "justify_items": null,
            "grid_row": null,
            "max_height": null,
            "align_content": null,
            "visibility": null,
            "align_self": null,
            "height": null,
            "min_height": null,
            "padding": null,
            "grid_auto_rows": null,
            "grid_gap": null,
            "max_width": null,
            "order": null,
            "_view_module_version": "1.2.0",
            "grid_template_areas": null,
            "object_position": null,
            "object_fit": null,
            "grid_auto_columns": null,
            "margin": null,
            "display": null,
            "left": null
          }
        },
        "27988a32dce048dd85ff7cbbe33b049f": {
          "model_module": "@jupyter-widgets/controls",
          "model_name": "HTMLModel",
          "model_module_version": "1.5.0",
          "state": {
            "_view_name": "HTMLView",
            "style": "IPY_MODEL_a2c36980289446aaa84298aafee2b2b1",
            "_dom_classes": [],
            "description": "",
            "_model_name": "HTMLModel",
            "placeholder": "​",
            "_view_module": "@jupyter-widgets/controls",
            "_model_module_version": "1.5.0",
            "value": "Downloading: 100%",
            "_view_count": null,
            "_view_module_version": "1.5.0",
            "description_tooltip": null,
            "_model_module": "@jupyter-widgets/controls",
            "layout": "IPY_MODEL_30e4f9f253974ffc8e382d9ae5575559"
          }
        },
        "fcb576c9d23549359e43167285eb02ee": {
          "model_module": "@jupyter-widgets/controls",
          "model_name": "FloatProgressModel",
          "model_module_version": "1.5.0",
          "state": {
            "_view_name": "ProgressView",
            "style": "IPY_MODEL_9c40afbfb9ee4701ba1d7a123729218b",
            "_dom_classes": [],
            "description": "",
            "_model_name": "FloatProgressModel",
            "bar_style": "success",
            "max": 456318,
            "_view_module": "@jupyter-widgets/controls",
            "_model_module_version": "1.5.0",
            "value": 456318,
            "_view_count": null,
            "_view_module_version": "1.5.0",
            "orientation": "horizontal",
            "min": 0,
            "description_tooltip": null,
            "_model_module": "@jupyter-widgets/controls",
            "layout": "IPY_MODEL_261be609aee545a48f80320a106156bd"
          }
        },
        "9d30ae7bd0934412b19270b42d10c2f8": {
          "model_module": "@jupyter-widgets/controls",
          "model_name": "HTMLModel",
          "model_module_version": "1.5.0",
          "state": {
            "_view_name": "HTMLView",
            "style": "IPY_MODEL_ee2e1996c59e4114ac42a68363d87716",
            "_dom_classes": [],
            "description": "",
            "_model_name": "HTMLModel",
            "placeholder": "​",
            "_view_module": "@jupyter-widgets/controls",
            "_model_module_version": "1.5.0",
            "value": " 456k/456k [00:00&lt;00:00, 566kB/s]",
            "_view_count": null,
            "_view_module_version": "1.5.0",
            "description_tooltip": null,
            "_model_module": "@jupyter-widgets/controls",
            "layout": "IPY_MODEL_041aa2e86d9d4766b16e38222c3af639"
          }
        },
        "a2c36980289446aaa84298aafee2b2b1": {
          "model_module": "@jupyter-widgets/controls",
          "model_name": "DescriptionStyleModel",
          "model_module_version": "1.5.0",
          "state": {
            "_view_name": "StyleView",
            "_model_name": "DescriptionStyleModel",
            "description_width": "",
            "_view_module": "@jupyter-widgets/base",
            "_model_module_version": "1.5.0",
            "_view_count": null,
            "_view_module_version": "1.2.0",
            "_model_module": "@jupyter-widgets/controls"
          }
        },
        "30e4f9f253974ffc8e382d9ae5575559": {
          "model_module": "@jupyter-widgets/base",
          "model_name": "LayoutModel",
          "model_module_version": "1.2.0",
          "state": {
            "_view_name": "LayoutView",
            "grid_template_rows": null,
            "right": null,
            "justify_content": null,
            "_view_module": "@jupyter-widgets/base",
            "overflow": null,
            "_model_module_version": "1.2.0",
            "_view_count": null,
            "flex_flow": null,
            "width": null,
            "min_width": null,
            "border": null,
            "align_items": null,
            "bottom": null,
            "_model_module": "@jupyter-widgets/base",
            "top": null,
            "grid_column": null,
            "overflow_y": null,
            "overflow_x": null,
            "grid_auto_flow": null,
            "grid_area": null,
            "grid_template_columns": null,
            "flex": null,
            "_model_name": "LayoutModel",
            "justify_items": null,
            "grid_row": null,
            "max_height": null,
            "align_content": null,
            "visibility": null,
            "align_self": null,
            "height": null,
            "min_height": null,
            "padding": null,
            "grid_auto_rows": null,
            "grid_gap": null,
            "max_width": null,
            "order": null,
            "_view_module_version": "1.2.0",
            "grid_template_areas": null,
            "object_position": null,
            "object_fit": null,
            "grid_auto_columns": null,
            "margin": null,
            "display": null,
            "left": null
          }
        },
        "9c40afbfb9ee4701ba1d7a123729218b": {
          "model_module": "@jupyter-widgets/controls",
          "model_name": "ProgressStyleModel",
          "model_module_version": "1.5.0",
          "state": {
            "_view_name": "StyleView",
            "_model_name": "ProgressStyleModel",
            "description_width": "",
            "_view_module": "@jupyter-widgets/base",
            "_model_module_version": "1.5.0",
            "_view_count": null,
            "_view_module_version": "1.2.0",
            "bar_color": null,
            "_model_module": "@jupyter-widgets/controls"
          }
        },
        "261be609aee545a48f80320a106156bd": {
          "model_module": "@jupyter-widgets/base",
          "model_name": "LayoutModel",
          "model_module_version": "1.2.0",
          "state": {
            "_view_name": "LayoutView",
            "grid_template_rows": null,
            "right": null,
            "justify_content": null,
            "_view_module": "@jupyter-widgets/base",
            "overflow": null,
            "_model_module_version": "1.2.0",
            "_view_count": null,
            "flex_flow": null,
            "width": null,
            "min_width": null,
            "border": null,
            "align_items": null,
            "bottom": null,
            "_model_module": "@jupyter-widgets/base",
            "top": null,
            "grid_column": null,
            "overflow_y": null,
            "overflow_x": null,
            "grid_auto_flow": null,
            "grid_area": null,
            "grid_template_columns": null,
            "flex": null,
            "_model_name": "LayoutModel",
            "justify_items": null,
            "grid_row": null,
            "max_height": null,
            "align_content": null,
            "visibility": null,
            "align_self": null,
            "height": null,
            "min_height": null,
            "padding": null,
            "grid_auto_rows": null,
            "grid_gap": null,
            "max_width": null,
            "order": null,
            "_view_module_version": "1.2.0",
            "grid_template_areas": null,
            "object_position": null,
            "object_fit": null,
            "grid_auto_columns": null,
            "margin": null,
            "display": null,
            "left": null
          }
        },
        "ee2e1996c59e4114ac42a68363d87716": {
          "model_module": "@jupyter-widgets/controls",
          "model_name": "DescriptionStyleModel",
          "model_module_version": "1.5.0",
          "state": {
            "_view_name": "StyleView",
            "_model_name": "DescriptionStyleModel",
            "description_width": "",
            "_view_module": "@jupyter-widgets/base",
            "_model_module_version": "1.5.0",
            "_view_count": null,
            "_view_module_version": "1.2.0",
            "_model_module": "@jupyter-widgets/controls"
          }
        },
        "041aa2e86d9d4766b16e38222c3af639": {
          "model_module": "@jupyter-widgets/base",
          "model_name": "LayoutModel",
          "model_module_version": "1.2.0",
          "state": {
            "_view_name": "LayoutView",
            "grid_template_rows": null,
            "right": null,
            "justify_content": null,
            "_view_module": "@jupyter-widgets/base",
            "overflow": null,
            "_model_module_version": "1.2.0",
            "_view_count": null,
            "flex_flow": null,
            "width": null,
            "min_width": null,
            "border": null,
            "align_items": null,
            "bottom": null,
            "_model_module": "@jupyter-widgets/base",
            "top": null,
            "grid_column": null,
            "overflow_y": null,
            "overflow_x": null,
            "grid_auto_flow": null,
            "grid_area": null,
            "grid_template_columns": null,
            "flex": null,
            "_model_name": "LayoutModel",
            "justify_items": null,
            "grid_row": null,
            "max_height": null,
            "align_content": null,
            "visibility": null,
            "align_self": null,
            "height": null,
            "min_height": null,
            "padding": null,
            "grid_auto_rows": null,
            "grid_gap": null,
            "max_width": null,
            "order": null,
            "_view_module_version": "1.2.0",
            "grid_template_areas": null,
            "object_position": null,
            "object_fit": null,
            "grid_auto_columns": null,
            "margin": null,
            "display": null,
            "left": null
          }
        },
        "c6edcc4a309b45219ccecfbf24817d42": {
          "model_module": "@jupyter-widgets/controls",
          "model_name": "HBoxModel",
          "model_module_version": "1.5.0",
          "state": {
            "_view_name": "HBoxView",
            "_dom_classes": [],
            "_model_name": "HBoxModel",
            "_view_module": "@jupyter-widgets/controls",
            "_model_module_version": "1.5.0",
            "_view_count": null,
            "_view_module_version": "1.5.0",
            "box_style": "",
            "layout": "IPY_MODEL_ffef1acd2a0b4d87b5431ceb48ec7105",
            "_model_module": "@jupyter-widgets/controls",
            "children": [
              "IPY_MODEL_bb03d2ddcd154bf1b9f06918975bfa09",
              "IPY_MODEL_35eb70c3048345dcb1f65bbe048b57e9",
              "IPY_MODEL_d7960a9edc27435fb083be6486df401c"
            ]
          }
        },
        "ffef1acd2a0b4d87b5431ceb48ec7105": {
          "model_module": "@jupyter-widgets/base",
          "model_name": "LayoutModel",
          "model_module_version": "1.2.0",
          "state": {
            "_view_name": "LayoutView",
            "grid_template_rows": null,
            "right": null,
            "justify_content": null,
            "_view_module": "@jupyter-widgets/base",
            "overflow": null,
            "_model_module_version": "1.2.0",
            "_view_count": null,
            "flex_flow": null,
            "width": null,
            "min_width": null,
            "border": null,
            "align_items": null,
            "bottom": null,
            "_model_module": "@jupyter-widgets/base",
            "top": null,
            "grid_column": null,
            "overflow_y": null,
            "overflow_x": null,
            "grid_auto_flow": null,
            "grid_area": null,
            "grid_template_columns": null,
            "flex": null,
            "_model_name": "LayoutModel",
            "justify_items": null,
            "grid_row": null,
            "max_height": null,
            "align_content": null,
            "visibility": null,
            "align_self": null,
            "height": null,
            "min_height": null,
            "padding": null,
            "grid_auto_rows": null,
            "grid_gap": null,
            "max_width": null,
            "order": null,
            "_view_module_version": "1.2.0",
            "grid_template_areas": null,
            "object_position": null,
            "object_fit": null,
            "grid_auto_columns": null,
            "margin": null,
            "display": null,
            "left": null
          }
        },
        "bb03d2ddcd154bf1b9f06918975bfa09": {
          "model_module": "@jupyter-widgets/controls",
          "model_name": "HTMLModel",
          "model_module_version": "1.5.0",
          "state": {
            "_view_name": "HTMLView",
            "style": "IPY_MODEL_f9de9a0f33334c37a4745c2aa5885eb0",
            "_dom_classes": [],
            "description": "",
            "_model_name": "HTMLModel",
            "placeholder": "​",
            "_view_module": "@jupyter-widgets/controls",
            "_model_module_version": "1.5.0",
            "value": "Downloading: 100%",
            "_view_count": null,
            "_view_module_version": "1.5.0",
            "description_tooltip": null,
            "_model_module": "@jupyter-widgets/controls",
            "layout": "IPY_MODEL_12d83d5eb7fd484e870af45be6fbd24f"
          }
        },
        "35eb70c3048345dcb1f65bbe048b57e9": {
          "model_module": "@jupyter-widgets/controls",
          "model_name": "FloatProgressModel",
          "model_module_version": "1.5.0",
          "state": {
            "_view_name": "ProgressView",
            "style": "IPY_MODEL_8badf91666714578981a7fb8e45c1e13",
            "_dom_classes": [],
            "description": "",
            "_model_name": "FloatProgressModel",
            "bar_style": "success",
            "max": 1355256,
            "_view_module": "@jupyter-widgets/controls",
            "_model_module_version": "1.5.0",
            "value": 1355256,
            "_view_count": null,
            "_view_module_version": "1.5.0",
            "orientation": "horizontal",
            "min": 0,
            "description_tooltip": null,
            "_model_module": "@jupyter-widgets/controls",
            "layout": "IPY_MODEL_cd531e4eabfb4b258d554c2fda6058d9"
          }
        },
        "d7960a9edc27435fb083be6486df401c": {
          "model_module": "@jupyter-widgets/controls",
          "model_name": "HTMLModel",
          "model_module_version": "1.5.0",
          "state": {
            "_view_name": "HTMLView",
            "style": "IPY_MODEL_9128e92b6c4a4fb5af71f56fff48e9e6",
            "_dom_classes": [],
            "description": "",
            "_model_name": "HTMLModel",
            "placeholder": "​",
            "_view_module": "@jupyter-widgets/controls",
            "_model_module_version": "1.5.0",
            "value": " 1.36M/1.36M [00:01&lt;00:00, 1.26MB/s]",
            "_view_count": null,
            "_view_module_version": "1.5.0",
            "description_tooltip": null,
            "_model_module": "@jupyter-widgets/controls",
            "layout": "IPY_MODEL_3e14364cdc794e58b404e418ad3058e4"
          }
        },
        "f9de9a0f33334c37a4745c2aa5885eb0": {
          "model_module": "@jupyter-widgets/controls",
          "model_name": "DescriptionStyleModel",
          "model_module_version": "1.5.0",
          "state": {
            "_view_name": "StyleView",
            "_model_name": "DescriptionStyleModel",
            "description_width": "",
            "_view_module": "@jupyter-widgets/base",
            "_model_module_version": "1.5.0",
            "_view_count": null,
            "_view_module_version": "1.2.0",
            "_model_module": "@jupyter-widgets/controls"
          }
        },
        "12d83d5eb7fd484e870af45be6fbd24f": {
          "model_module": "@jupyter-widgets/base",
          "model_name": "LayoutModel",
          "model_module_version": "1.2.0",
          "state": {
            "_view_name": "LayoutView",
            "grid_template_rows": null,
            "right": null,
            "justify_content": null,
            "_view_module": "@jupyter-widgets/base",
            "overflow": null,
            "_model_module_version": "1.2.0",
            "_view_count": null,
            "flex_flow": null,
            "width": null,
            "min_width": null,
            "border": null,
            "align_items": null,
            "bottom": null,
            "_model_module": "@jupyter-widgets/base",
            "top": null,
            "grid_column": null,
            "overflow_y": null,
            "overflow_x": null,
            "grid_auto_flow": null,
            "grid_area": null,
            "grid_template_columns": null,
            "flex": null,
            "_model_name": "LayoutModel",
            "justify_items": null,
            "grid_row": null,
            "max_height": null,
            "align_content": null,
            "visibility": null,
            "align_self": null,
            "height": null,
            "min_height": null,
            "padding": null,
            "grid_auto_rows": null,
            "grid_gap": null,
            "max_width": null,
            "order": null,
            "_view_module_version": "1.2.0",
            "grid_template_areas": null,
            "object_position": null,
            "object_fit": null,
            "grid_auto_columns": null,
            "margin": null,
            "display": null,
            "left": null
          }
        },
        "8badf91666714578981a7fb8e45c1e13": {
          "model_module": "@jupyter-widgets/controls",
          "model_name": "ProgressStyleModel",
          "model_module_version": "1.5.0",
          "state": {
            "_view_name": "StyleView",
            "_model_name": "ProgressStyleModel",
            "description_width": "",
            "_view_module": "@jupyter-widgets/base",
            "_model_module_version": "1.5.0",
            "_view_count": null,
            "_view_module_version": "1.2.0",
            "bar_color": null,
            "_model_module": "@jupyter-widgets/controls"
          }
        },
        "cd531e4eabfb4b258d554c2fda6058d9": {
          "model_module": "@jupyter-widgets/base",
          "model_name": "LayoutModel",
          "model_module_version": "1.2.0",
          "state": {
            "_view_name": "LayoutView",
            "grid_template_rows": null,
            "right": null,
            "justify_content": null,
            "_view_module": "@jupyter-widgets/base",
            "overflow": null,
            "_model_module_version": "1.2.0",
            "_view_count": null,
            "flex_flow": null,
            "width": null,
            "min_width": null,
            "border": null,
            "align_items": null,
            "bottom": null,
            "_model_module": "@jupyter-widgets/base",
            "top": null,
            "grid_column": null,
            "overflow_y": null,
            "overflow_x": null,
            "grid_auto_flow": null,
            "grid_area": null,
            "grid_template_columns": null,
            "flex": null,
            "_model_name": "LayoutModel",
            "justify_items": null,
            "grid_row": null,
            "max_height": null,
            "align_content": null,
            "visibility": null,
            "align_self": null,
            "height": null,
            "min_height": null,
            "padding": null,
            "grid_auto_rows": null,
            "grid_gap": null,
            "max_width": null,
            "order": null,
            "_view_module_version": "1.2.0",
            "grid_template_areas": null,
            "object_position": null,
            "object_fit": null,
            "grid_auto_columns": null,
            "margin": null,
            "display": null,
            "left": null
          }
        },
        "9128e92b6c4a4fb5af71f56fff48e9e6": {
          "model_module": "@jupyter-widgets/controls",
          "model_name": "DescriptionStyleModel",
          "model_module_version": "1.5.0",
          "state": {
            "_view_name": "StyleView",
            "_model_name": "DescriptionStyleModel",
            "description_width": "",
            "_view_module": "@jupyter-widgets/base",
            "_model_module_version": "1.5.0",
            "_view_count": null,
            "_view_module_version": "1.2.0",
            "_model_module": "@jupyter-widgets/controls"
          }
        },
        "3e14364cdc794e58b404e418ad3058e4": {
          "model_module": "@jupyter-widgets/base",
          "model_name": "LayoutModel",
          "model_module_version": "1.2.0",
          "state": {
            "_view_name": "LayoutView",
            "grid_template_rows": null,
            "right": null,
            "justify_content": null,
            "_view_module": "@jupyter-widgets/base",
            "overflow": null,
            "_model_module_version": "1.2.0",
            "_view_count": null,
            "flex_flow": null,
            "width": null,
            "min_width": null,
            "border": null,
            "align_items": null,
            "bottom": null,
            "_model_module": "@jupyter-widgets/base",
            "top": null,
            "grid_column": null,
            "overflow_y": null,
            "overflow_x": null,
            "grid_auto_flow": null,
            "grid_area": null,
            "grid_template_columns": null,
            "flex": null,
            "_model_name": "LayoutModel",
            "justify_items": null,
            "grid_row": null,
            "max_height": null,
            "align_content": null,
            "visibility": null,
            "align_self": null,
            "height": null,
            "min_height": null,
            "padding": null,
            "grid_auto_rows": null,
            "grid_gap": null,
            "max_width": null,
            "order": null,
            "_view_module_version": "1.2.0",
            "grid_template_areas": null,
            "object_position": null,
            "object_fit": null,
            "grid_auto_columns": null,
            "margin": null,
            "display": null,
            "left": null
          }
        },
        "6486dc3a30a0402eb568b10062cc131f": {
          "model_module": "@jupyter-widgets/controls",
          "model_name": "HBoxModel",
          "model_module_version": "1.5.0",
          "state": {
            "_view_name": "HBoxView",
            "_dom_classes": [],
            "_model_name": "HBoxModel",
            "_view_module": "@jupyter-widgets/controls",
            "_model_module_version": "1.5.0",
            "_view_count": null,
            "_view_module_version": "1.5.0",
            "box_style": "",
            "layout": "IPY_MODEL_849fe9c34aab456681833f717bd2f1cc",
            "_model_module": "@jupyter-widgets/controls",
            "children": [
              "IPY_MODEL_dec0187782c94bd081cc168f5eaf3418",
              "IPY_MODEL_98033fef1d1e4d3b83a8550f538854cd",
              "IPY_MODEL_784ad4c1b2394940aba8a10f6f1bb075"
            ]
          }
        },
        "849fe9c34aab456681833f717bd2f1cc": {
          "model_module": "@jupyter-widgets/base",
          "model_name": "LayoutModel",
          "model_module_version": "1.2.0",
          "state": {
            "_view_name": "LayoutView",
            "grid_template_rows": null,
            "right": null,
            "justify_content": null,
            "_view_module": "@jupyter-widgets/base",
            "overflow": null,
            "_model_module_version": "1.2.0",
            "_view_count": null,
            "flex_flow": null,
            "width": null,
            "min_width": null,
            "border": null,
            "align_items": null,
            "bottom": null,
            "_model_module": "@jupyter-widgets/base",
            "top": null,
            "grid_column": null,
            "overflow_y": null,
            "overflow_x": null,
            "grid_auto_flow": null,
            "grid_area": null,
            "grid_template_columns": null,
            "flex": null,
            "_model_name": "LayoutModel",
            "justify_items": null,
            "grid_row": null,
            "max_height": null,
            "align_content": null,
            "visibility": null,
            "align_self": null,
            "height": null,
            "min_height": null,
            "padding": null,
            "grid_auto_rows": null,
            "grid_gap": null,
            "max_width": null,
            "order": null,
            "_view_module_version": "1.2.0",
            "grid_template_areas": null,
            "object_position": null,
            "object_fit": null,
            "grid_auto_columns": null,
            "margin": null,
            "display": null,
            "left": null
          }
        },
        "dec0187782c94bd081cc168f5eaf3418": {
          "model_module": "@jupyter-widgets/controls",
          "model_name": "HTMLModel",
          "model_module_version": "1.5.0",
          "state": {
            "_view_name": "HTMLView",
            "style": "IPY_MODEL_56c6b1ed6f79484c96f576a4e68b9a15",
            "_dom_classes": [],
            "description": "",
            "_model_name": "HTMLModel",
            "placeholder": "​",
            "_view_module": "@jupyter-widgets/controls",
            "_model_module_version": "1.5.0",
            "value": "Downloading: 100%",
            "_view_count": null,
            "_view_module_version": "1.5.0",
            "description_tooltip": null,
            "_model_module": "@jupyter-widgets/controls",
            "layout": "IPY_MODEL_eaa584a17c854c72be0f4e3bb117b287"
          }
        },
        "98033fef1d1e4d3b83a8550f538854cd": {
          "model_module": "@jupyter-widgets/controls",
          "model_name": "FloatProgressModel",
          "model_module_version": "1.5.0",
          "state": {
            "_view_name": "ProgressView",
            "style": "IPY_MODEL_41184744b87f4fa2a425d92986f474c7",
            "_dom_classes": [],
            "description": "",
            "_model_name": "FloatProgressModel",
            "bar_style": "success",
            "max": 548118077,
            "_view_module": "@jupyter-widgets/controls",
            "_model_module_version": "1.5.0",
            "value": 548118077,
            "_view_count": null,
            "_view_module_version": "1.5.0",
            "orientation": "horizontal",
            "min": 0,
            "description_tooltip": null,
            "_model_module": "@jupyter-widgets/controls",
            "layout": "IPY_MODEL_21debfe3ccb24234acae97d8a1f01866"
          }
        },
        "784ad4c1b2394940aba8a10f6f1bb075": {
          "model_module": "@jupyter-widgets/controls",
          "model_name": "HTMLModel",
          "model_module_version": "1.5.0",
          "state": {
            "_view_name": "HTMLView",
            "style": "IPY_MODEL_373d8c8333cc4613ac5d936124b806b1",
            "_dom_classes": [],
            "description": "",
            "_model_name": "HTMLModel",
            "placeholder": "​",
            "_view_module": "@jupyter-widgets/controls",
            "_model_module_version": "1.5.0",
            "value": " 548M/548M [00:17&lt;00:00, 33.6MB/s]",
            "_view_count": null,
            "_view_module_version": "1.5.0",
            "description_tooltip": null,
            "_model_module": "@jupyter-widgets/controls",
            "layout": "IPY_MODEL_529d2f7127f648f4a237dd7a0104a14a"
          }
        },
        "56c6b1ed6f79484c96f576a4e68b9a15": {
          "model_module": "@jupyter-widgets/controls",
          "model_name": "DescriptionStyleModel",
          "model_module_version": "1.5.0",
          "state": {
            "_view_name": "StyleView",
            "_model_name": "DescriptionStyleModel",
            "description_width": "",
            "_view_module": "@jupyter-widgets/base",
            "_model_module_version": "1.5.0",
            "_view_count": null,
            "_view_module_version": "1.2.0",
            "_model_module": "@jupyter-widgets/controls"
          }
        },
        "eaa584a17c854c72be0f4e3bb117b287": {
          "model_module": "@jupyter-widgets/base",
          "model_name": "LayoutModel",
          "model_module_version": "1.2.0",
          "state": {
            "_view_name": "LayoutView",
            "grid_template_rows": null,
            "right": null,
            "justify_content": null,
            "_view_module": "@jupyter-widgets/base",
            "overflow": null,
            "_model_module_version": "1.2.0",
            "_view_count": null,
            "flex_flow": null,
            "width": null,
            "min_width": null,
            "border": null,
            "align_items": null,
            "bottom": null,
            "_model_module": "@jupyter-widgets/base",
            "top": null,
            "grid_column": null,
            "overflow_y": null,
            "overflow_x": null,
            "grid_auto_flow": null,
            "grid_area": null,
            "grid_template_columns": null,
            "flex": null,
            "_model_name": "LayoutModel",
            "justify_items": null,
            "grid_row": null,
            "max_height": null,
            "align_content": null,
            "visibility": null,
            "align_self": null,
            "height": null,
            "min_height": null,
            "padding": null,
            "grid_auto_rows": null,
            "grid_gap": null,
            "max_width": null,
            "order": null,
            "_view_module_version": "1.2.0",
            "grid_template_areas": null,
            "object_position": null,
            "object_fit": null,
            "grid_auto_columns": null,
            "margin": null,
            "display": null,
            "left": null
          }
        },
        "41184744b87f4fa2a425d92986f474c7": {
          "model_module": "@jupyter-widgets/controls",
          "model_name": "ProgressStyleModel",
          "model_module_version": "1.5.0",
          "state": {
            "_view_name": "StyleView",
            "_model_name": "ProgressStyleModel",
            "description_width": "",
            "_view_module": "@jupyter-widgets/base",
            "_model_module_version": "1.5.0",
            "_view_count": null,
            "_view_module_version": "1.2.0",
            "bar_color": null,
            "_model_module": "@jupyter-widgets/controls"
          }
        },
        "21debfe3ccb24234acae97d8a1f01866": {
          "model_module": "@jupyter-widgets/base",
          "model_name": "LayoutModel",
          "model_module_version": "1.2.0",
          "state": {
            "_view_name": "LayoutView",
            "grid_template_rows": null,
            "right": null,
            "justify_content": null,
            "_view_module": "@jupyter-widgets/base",
            "overflow": null,
            "_model_module_version": "1.2.0",
            "_view_count": null,
            "flex_flow": null,
            "width": null,
            "min_width": null,
            "border": null,
            "align_items": null,
            "bottom": null,
            "_model_module": "@jupyter-widgets/base",
            "top": null,
            "grid_column": null,
            "overflow_y": null,
            "overflow_x": null,
            "grid_auto_flow": null,
            "grid_area": null,
            "grid_template_columns": null,
            "flex": null,
            "_model_name": "LayoutModel",
            "justify_items": null,
            "grid_row": null,
            "max_height": null,
            "align_content": null,
            "visibility": null,
            "align_self": null,
            "height": null,
            "min_height": null,
            "padding": null,
            "grid_auto_rows": null,
            "grid_gap": null,
            "max_width": null,
            "order": null,
            "_view_module_version": "1.2.0",
            "grid_template_areas": null,
            "object_position": null,
            "object_fit": null,
            "grid_auto_columns": null,
            "margin": null,
            "display": null,
            "left": null
          }
        },
        "373d8c8333cc4613ac5d936124b806b1": {
          "model_module": "@jupyter-widgets/controls",
          "model_name": "DescriptionStyleModel",
          "model_module_version": "1.5.0",
          "state": {
            "_view_name": "StyleView",
            "_model_name": "DescriptionStyleModel",
            "description_width": "",
            "_view_module": "@jupyter-widgets/base",
            "_model_module_version": "1.5.0",
            "_view_count": null,
            "_view_module_version": "1.2.0",
            "_model_module": "@jupyter-widgets/controls"
          }
        },
        "529d2f7127f648f4a237dd7a0104a14a": {
          "model_module": "@jupyter-widgets/base",
          "model_name": "LayoutModel",
          "model_module_version": "1.2.0",
          "state": {
            "_view_name": "LayoutView",
            "grid_template_rows": null,
            "right": null,
            "justify_content": null,
            "_view_module": "@jupyter-widgets/base",
            "overflow": null,
            "_model_module_version": "1.2.0",
            "_view_count": null,
            "flex_flow": null,
            "width": null,
            "min_width": null,
            "border": null,
            "align_items": null,
            "bottom": null,
            "_model_module": "@jupyter-widgets/base",
            "top": null,
            "grid_column": null,
            "overflow_y": null,
            "overflow_x": null,
            "grid_auto_flow": null,
            "grid_area": null,
            "grid_template_columns": null,
            "flex": null,
            "_model_name": "LayoutModel",
            "justify_items": null,
            "grid_row": null,
            "max_height": null,
            "align_content": null,
            "visibility": null,
            "align_self": null,
            "height": null,
            "min_height": null,
            "padding": null,
            "grid_auto_rows": null,
            "grid_gap": null,
            "max_width": null,
            "order": null,
            "_view_module_version": "1.2.0",
            "grid_template_areas": null,
            "object_position": null,
            "object_fit": null,
            "grid_auto_columns": null,
            "margin": null,
            "display": null,
            "left": null
          }
        }
      }
    }
  },
  "cells": [
    {
      "cell_type": "markdown",
      "metadata": {
        "id": "view-in-github",
        "colab_type": "text"
      },
      "source": [
        "<a href=\"https://colab.research.google.com/github/stprior/explore-transformer/blob/main/attribution-gpt2b.ipynb\" target=\"_parent\"><img src=\"https://colab.research.google.com/assets/colab-badge.svg\" alt=\"Open In Colab\"/></a>"
      ]
    },
    {
      "cell_type": "markdown",
      "metadata": {
        "id": "QqLz_ymdJdMS"
      },
      "source": [
        "# Introduction\n",
        "\n",
        "This is a copy of attribution-gpt-neo-125 to compare results from gpt2 with gpt-neo."
      ]
    },
    {
      "cell_type": "markdown",
      "metadata": {
        "id": "jDQnxD9ntcM0"
      },
      "source": [
        "# Setup\n"
      ]
    },
    {
      "cell_type": "markdown",
      "metadata": {
        "id": "poBs7paeuL7I"
      },
      "source": [
        "## Packages"
      ]
    },
    {
      "cell_type": "code",
      "metadata": {
        "colab": {
          "base_uri": "https://localhost:8080/"
        },
        "id": "SndcAcq_Krxz",
        "outputId": "01ad9e90-1c3b-4c79-d17a-c9240c5beb9e"
      },
      "source": [
        "%pip install transformer_utils\n",
        "%pip install captum"
      ],
      "execution_count": 1,
      "outputs": [
        {
          "output_type": "stream",
          "text": [
            "Collecting transformer_utils\n",
            "  Downloading transformer_utils-0.1.0-py3-none-any.whl (17 kB)\n",
            "Requirement already satisfied: tqdm in /usr/local/lib/python3.7/dist-packages (from transformer_utils) (4.62.0)\n",
            "Requirement already satisfied: seaborn in /usr/local/lib/python3.7/dist-packages (from transformer_utils) (0.11.1)\n",
            "Collecting transformers\n",
            "  Downloading transformers-4.9.2-py3-none-any.whl (2.6 MB)\n",
            "\u001b[K     |████████████████████████████████| 2.6 MB 3.9 MB/s \n",
            "\u001b[?25hRequirement already satisfied: torch in /usr/local/lib/python3.7/dist-packages (from transformer_utils) (1.9.0+cu102)\n",
            "Requirement already satisfied: matplotlib>=2.2 in /usr/local/lib/python3.7/dist-packages (from seaborn->transformer_utils) (3.2.2)\n",
            "Requirement already satisfied: pandas>=0.23 in /usr/local/lib/python3.7/dist-packages (from seaborn->transformer_utils) (1.1.5)\n",
            "Requirement already satisfied: numpy>=1.15 in /usr/local/lib/python3.7/dist-packages (from seaborn->transformer_utils) (1.19.5)\n",
            "Requirement already satisfied: scipy>=1.0 in /usr/local/lib/python3.7/dist-packages (from seaborn->transformer_utils) (1.4.1)\n",
            "Requirement already satisfied: kiwisolver>=1.0.1 in /usr/local/lib/python3.7/dist-packages (from matplotlib>=2.2->seaborn->transformer_utils) (1.3.1)\n",
            "Requirement already satisfied: pyparsing!=2.0.4,!=2.1.2,!=2.1.6,>=2.0.1 in /usr/local/lib/python3.7/dist-packages (from matplotlib>=2.2->seaborn->transformer_utils) (2.4.7)\n",
            "Requirement already satisfied: cycler>=0.10 in /usr/local/lib/python3.7/dist-packages (from matplotlib>=2.2->seaborn->transformer_utils) (0.10.0)\n",
            "Requirement already satisfied: python-dateutil>=2.1 in /usr/local/lib/python3.7/dist-packages (from matplotlib>=2.2->seaborn->transformer_utils) (2.8.2)\n",
            "Requirement already satisfied: six in /usr/local/lib/python3.7/dist-packages (from cycler>=0.10->matplotlib>=2.2->seaborn->transformer_utils) (1.15.0)\n",
            "Requirement already satisfied: pytz>=2017.2 in /usr/local/lib/python3.7/dist-packages (from pandas>=0.23->seaborn->transformer_utils) (2018.9)\n",
            "Requirement already satisfied: typing-extensions in /usr/local/lib/python3.7/dist-packages (from torch->transformer_utils) (3.7.4.3)\n",
            "Collecting tokenizers<0.11,>=0.10.1\n",
            "  Downloading tokenizers-0.10.3-cp37-cp37m-manylinux_2_5_x86_64.manylinux1_x86_64.manylinux_2_12_x86_64.manylinux2010_x86_64.whl (3.3 MB)\n",
            "\u001b[K     |████████████████████████████████| 3.3 MB 33.3 MB/s \n",
            "\u001b[?25hCollecting sacremoses\n",
            "  Downloading sacremoses-0.0.45-py3-none-any.whl (895 kB)\n",
            "\u001b[K     |████████████████████████████████| 895 kB 35.4 MB/s \n",
            "\u001b[?25hCollecting pyyaml>=5.1\n",
            "  Downloading PyYAML-5.4.1-cp37-cp37m-manylinux1_x86_64.whl (636 kB)\n",
            "\u001b[K     |████████████████████████████████| 636 kB 44.5 MB/s \n",
            "\u001b[?25hRequirement already satisfied: filelock in /usr/local/lib/python3.7/dist-packages (from transformers->transformer_utils) (3.0.12)\n",
            "Collecting huggingface-hub==0.0.12\n",
            "  Downloading huggingface_hub-0.0.12-py3-none-any.whl (37 kB)\n",
            "Requirement already satisfied: importlib-metadata in /usr/local/lib/python3.7/dist-packages (from transformers->transformer_utils) (4.6.4)\n",
            "Requirement already satisfied: packaging in /usr/local/lib/python3.7/dist-packages (from transformers->transformer_utils) (21.0)\n",
            "Requirement already satisfied: regex!=2019.12.17 in /usr/local/lib/python3.7/dist-packages (from transformers->transformer_utils) (2019.12.20)\n",
            "Requirement already satisfied: requests in /usr/local/lib/python3.7/dist-packages (from transformers->transformer_utils) (2.23.0)\n",
            "Requirement already satisfied: zipp>=0.5 in /usr/local/lib/python3.7/dist-packages (from importlib-metadata->transformers->transformer_utils) (3.5.0)\n",
            "Requirement already satisfied: chardet<4,>=3.0.2 in /usr/local/lib/python3.7/dist-packages (from requests->transformers->transformer_utils) (3.0.4)\n",
            "Requirement already satisfied: urllib3!=1.25.0,!=1.25.1,<1.26,>=1.21.1 in /usr/local/lib/python3.7/dist-packages (from requests->transformers->transformer_utils) (1.24.3)\n",
            "Requirement already satisfied: certifi>=2017.4.17 in /usr/local/lib/python3.7/dist-packages (from requests->transformers->transformer_utils) (2021.5.30)\n",
            "Requirement already satisfied: idna<3,>=2.5 in /usr/local/lib/python3.7/dist-packages (from requests->transformers->transformer_utils) (2.10)\n",
            "Requirement already satisfied: click in /usr/local/lib/python3.7/dist-packages (from sacremoses->transformers->transformer_utils) (7.1.2)\n",
            "Requirement already satisfied: joblib in /usr/local/lib/python3.7/dist-packages (from sacremoses->transformers->transformer_utils) (1.0.1)\n",
            "Installing collected packages: tokenizers, sacremoses, pyyaml, huggingface-hub, transformers, transformer-utils\n",
            "  Attempting uninstall: pyyaml\n",
            "    Found existing installation: PyYAML 3.13\n",
            "    Uninstalling PyYAML-3.13:\n",
            "      Successfully uninstalled PyYAML-3.13\n",
            "Successfully installed huggingface-hub-0.0.12 pyyaml-5.4.1 sacremoses-0.0.45 tokenizers-0.10.3 transformer-utils-0.1.0 transformers-4.9.2\n",
            "Collecting captum\n",
            "  Downloading captum-0.4.0-py3-none-any.whl (1.4 MB)\n",
            "\u001b[K     |████████████████████████████████| 1.4 MB 4.1 MB/s \n",
            "\u001b[?25hRequirement already satisfied: matplotlib in /usr/local/lib/python3.7/dist-packages (from captum) (3.2.2)\n",
            "Requirement already satisfied: torch>=1.2 in /usr/local/lib/python3.7/dist-packages (from captum) (1.9.0+cu102)\n",
            "Requirement already satisfied: numpy in /usr/local/lib/python3.7/dist-packages (from captum) (1.19.5)\n",
            "Requirement already satisfied: typing-extensions in /usr/local/lib/python3.7/dist-packages (from torch>=1.2->captum) (3.7.4.3)\n",
            "Requirement already satisfied: python-dateutil>=2.1 in /usr/local/lib/python3.7/dist-packages (from matplotlib->captum) (2.8.2)\n",
            "Requirement already satisfied: kiwisolver>=1.0.1 in /usr/local/lib/python3.7/dist-packages (from matplotlib->captum) (1.3.1)\n",
            "Requirement already satisfied: cycler>=0.10 in /usr/local/lib/python3.7/dist-packages (from matplotlib->captum) (0.10.0)\n",
            "Requirement already satisfied: pyparsing!=2.0.4,!=2.1.2,!=2.1.6,>=2.0.1 in /usr/local/lib/python3.7/dist-packages (from matplotlib->captum) (2.4.7)\n",
            "Requirement already satisfied: six in /usr/local/lib/python3.7/dist-packages (from cycler>=0.10->matplotlib->captum) (1.15.0)\n",
            "Installing collected packages: captum\n",
            "Successfully installed captum-0.4.0\n"
          ],
          "name": "stdout"
        }
      ]
    },
    {
      "cell_type": "markdown",
      "metadata": {
        "id": "Axf1X_2FuS5q"
      },
      "source": [
        "## Load Model"
      ]
    },
    {
      "cell_type": "code",
      "metadata": {
        "colab": {
          "base_uri": "https://localhost:8080/",
          "height": 231,
          "referenced_widgets": [
            "18a0b0af70704e5f824278f06d2ed48a",
            "1087bae3c89543f9a99cc1be07d0a36c",
            "3dc1458ca58c4b0fb85e495fd6a81262",
            "0d23dbba3f0e4925ab717ff308adf2d2",
            "22e13490f6b7464c84fc76e05fff54cc",
            "1ab1516ea8a343e0a1de0f1d4f06b412",
            "e793941ba76246c69a8cef24f09257d3",
            "f5210a8586d144d1b4579457b4e5f9d9",
            "c754ae5d7f0e41f0900869ba9ca40b19",
            "d98f6e253cc84f658d8be5e3cc378796",
            "5dd6e725e7734fcdb232464286c94d2e",
            "d6e06668e6f4449ca1390c3ac94407ac",
            "6b5087f7208c4397b95751cad8dc5f51",
            "df5a8058272b44799acfd4e9087fbe0d",
            "8cb21f5ea2084791b3956f87df4e1c1b",
            "09d32f4bfdac4a93afd07c0916cda2c4",
            "8e6dd7f0fd9a45a8a864a7c88e087830",
            "f80fe4a02d514123ac5ee17c191d0bca",
            "4a28be1ebcfe467abb6bc4e3ce4d54b6",
            "2f0a758321544ce98fb2686ce1ecd853",
            "b20040ee689047a297497eeb0eff4c8d",
            "6ea34a10d96149cc97ea0d6d29eab6a6",
            "dc205dc6806d4e95ac7b14ec4af878c3",
            "5c71b17ee05c4d8e9a2ab42bd6519bbc",
            "27988a32dce048dd85ff7cbbe33b049f",
            "fcb576c9d23549359e43167285eb02ee",
            "9d30ae7bd0934412b19270b42d10c2f8",
            "a2c36980289446aaa84298aafee2b2b1",
            "30e4f9f253974ffc8e382d9ae5575559",
            "9c40afbfb9ee4701ba1d7a123729218b",
            "261be609aee545a48f80320a106156bd",
            "ee2e1996c59e4114ac42a68363d87716",
            "041aa2e86d9d4766b16e38222c3af639",
            "c6edcc4a309b45219ccecfbf24817d42",
            "ffef1acd2a0b4d87b5431ceb48ec7105",
            "bb03d2ddcd154bf1b9f06918975bfa09",
            "35eb70c3048345dcb1f65bbe048b57e9",
            "d7960a9edc27435fb083be6486df401c",
            "f9de9a0f33334c37a4745c2aa5885eb0",
            "12d83d5eb7fd484e870af45be6fbd24f",
            "8badf91666714578981a7fb8e45c1e13",
            "cd531e4eabfb4b258d554c2fda6058d9",
            "9128e92b6c4a4fb5af71f56fff48e9e6",
            "3e14364cdc794e58b404e418ad3058e4",
            "6486dc3a30a0402eb568b10062cc131f",
            "849fe9c34aab456681833f717bd2f1cc",
            "dec0187782c94bd081cc168f5eaf3418",
            "98033fef1d1e4d3b83a8550f538854cd",
            "784ad4c1b2394940aba8a10f6f1bb075",
            "56c6b1ed6f79484c96f576a4e68b9a15",
            "eaa584a17c854c72be0f4e3bb117b287",
            "41184744b87f4fa2a425d92986f474c7",
            "21debfe3ccb24234acae97d8a1f01866",
            "373d8c8333cc4613ac5d936124b806b1",
            "529d2f7127f648f4a237dd7a0104a14a"
          ]
        },
        "id": "mM1h1xG5JSJi",
        "outputId": "cbe95785-bcea-44c7-dac9-ed16124156d5"
      },
      "source": [
        "from transformer_utils.low_memory import enable_low_memory_load\n",
        "import transformers\n",
        "\n",
        "enable_low_memory_load()\n",
        "tokenizer = transformers.AutoTokenizer.from_pretrained(\"gpt2\")\n",
        "model = transformers.AutoModelForCausalLM.from_pretrained('gpt2')"
      ],
      "execution_count": 2,
      "outputs": [
        {
          "output_type": "display_data",
          "data": {
            "application/vnd.jupyter.widget-view+json": {
              "model_id": "18a0b0af70704e5f824278f06d2ed48a",
              "version_minor": 0,
              "version_major": 2
            },
            "text/plain": [
              "Downloading:   0%|          | 0.00/665 [00:00<?, ?B/s]"
            ]
          },
          "metadata": {}
        },
        {
          "output_type": "display_data",
          "data": {
            "application/vnd.jupyter.widget-view+json": {
              "model_id": "d6e06668e6f4449ca1390c3ac94407ac",
              "version_minor": 0,
              "version_major": 2
            },
            "text/plain": [
              "Downloading:   0%|          | 0.00/1.04M [00:00<?, ?B/s]"
            ]
          },
          "metadata": {}
        },
        {
          "output_type": "display_data",
          "data": {
            "application/vnd.jupyter.widget-view+json": {
              "model_id": "dc205dc6806d4e95ac7b14ec4af878c3",
              "version_minor": 0,
              "version_major": 2
            },
            "text/plain": [
              "Downloading:   0%|          | 0.00/456k [00:00<?, ?B/s]"
            ]
          },
          "metadata": {}
        },
        {
          "output_type": "display_data",
          "data": {
            "application/vnd.jupyter.widget-view+json": {
              "model_id": "c6edcc4a309b45219ccecfbf24817d42",
              "version_minor": 0,
              "version_major": 2
            },
            "text/plain": [
              "Downloading:   0%|          | 0.00/1.36M [00:00<?, ?B/s]"
            ]
          },
          "metadata": {}
        },
        {
          "output_type": "display_data",
          "data": {
            "application/vnd.jupyter.widget-view+json": {
              "model_id": "6486dc3a30a0402eb568b10062cc131f",
              "version_minor": 0,
              "version_major": 2
            },
            "text/plain": [
              "Downloading:   0%|          | 0.00/548M [00:00<?, ?B/s]"
            ]
          },
          "metadata": {}
        },
        {
          "output_type": "stream",
          "text": [
            "/usr/local/lib/python3.7/dist-packages/torch/nn/modules/lazy.py:178: UserWarning: Lazy modules are a new feature under heavy development so changes to the API or functionality can happen at any moment.\n",
            "  warnings.warn('Lazy modules are a new feature under heavy development '\n"
          ],
          "name": "stderr"
        }
      ]
    },
    {
      "cell_type": "code",
      "metadata": {
        "id": "U0eibldJKkxL"
      },
      "source": [
        "import torch\n",
        "\n",
        "def text_to_input_ids(text):\n",
        "    toks = tokenizer.encode(text)\n",
        "    return torch.as_tensor(toks).view(1, -1).cuda()"
      ],
      "execution_count": 3,
      "outputs": []
    },
    {
      "cell_type": "markdown",
      "metadata": {
        "id": "qBOetovgtpYe"
      },
      "source": [
        "# Exploration\n"
      ]
    },
    {
      "cell_type": "markdown",
      "metadata": {
        "id": "W2ces_YVuXAs"
      },
      "source": [
        "## Basics"
      ]
    },
    {
      "cell_type": "code",
      "metadata": {
        "colab": {
          "base_uri": "https://localhost:8080/"
        },
        "id": "IBB03uavLnNV",
        "outputId": "409351fb-5b40-403b-b7c7-f4aa0d8535cc"
      },
      "source": [
        "text = \"The forecast said that thunderstorm activity with the risk of hail will lead to localised\"\n",
        "tokens = text_to_input_ids(text)"
      ],
      "execution_count": 4,
      "outputs": [
        {
          "output_type": "execute_result",
          "data": {
            "text/plain": [
              "(tensor([[  464, 11092,   531,   326, 18355, 12135,  3842,   351,   262,  2526,\n",
              "            286, 32405,   481,  1085,   284,  1957,  1417]], device='cuda:0'),\n",
              " torch.Size([1, 17]),\n",
              " [' lead', ' to', ' local', 'ised'])"
            ]
          },
          "metadata": {},
          "execution_count": 4
        }
      ]
    },
    {
      "cell_type": "markdown",
      "metadata": {
        "id": "62EeYsE-NVmf"
      },
      "source": [
        "For each of the 17 positions, the Laguage Model makes a prediction of likelihood of each of the 50257 possible tokens being the next one. This graph shows an apparent trend, probably explained by earlier tokens being the more commonly used."
      ]
    },
    {
      "cell_type": "code",
      "metadata": {
        "colab": {
          "base_uri": "https://localhost:8080/",
          "height": 282
        },
        "id": "EA4tKSbGNfoP",
        "outputId": "f3a7f880-d281-4b1c-aaa4-83d92af31ad6"
      },
      "source": [
        "import matplotlib.pyplot as plt\n",
        "plt.plot(result.logits[0,16].cpu().detach().numpy())"
      ],
      "execution_count": 7,
      "outputs": [
        {
          "output_type": "execute_result",
          "data": {
            "text/plain": [
              "[<matplotlib.lines.Line2D at 0x7f78c1de5fd0>]"
            ]
          },
          "metadata": {},
          "execution_count": 7
        },
        {
          "output_type": "display_data",
          "data": {
            "image/png": "[encoded data removed]",
            "text/plain": [
              "<Figure size 432x288 with 1 Axes>"
            ]
          },
          "metadata": {
            "needs_background": "light"
          }
        }
      ]
    },
    {
      "cell_type": "markdown",
      "metadata": {
        "id": "p_IdJHfyTI56"
      },
      "source": [
        "## Embedding Vectors\n",
        "\n",
        "Bypassing language modelling so we can work directly with the transformer vectors, first confirm we get the same result:"
      ]
    },
    {
      "cell_type": "code",
      "metadata": {
        "colab": {
          "base_uri": "https://localhost:8080/"
        },
        "id": "OdfY45-kTlvT",
        "outputId": "4be0d979-76e1-43e0-93e8-29dc259cc1c8"
      },
      "source": [
        "embeds = model.transformer.wte(tokens)\n",
        "transformer_outputs = model.transformer.forward(inputs_embeds=embeds)\n",
        "type(transformer_outputs)"
      ],
      "execution_count": 9,
      "outputs": [
        {
          "output_type": "execute_result",
          "data": {
            "text/plain": [
              "transformers.modeling_outputs.BaseModelOutputWithPastAndCrossAttentions"
            ]
          },
          "metadata": {},
          "execution_count": 9
        }
      ]
    },
    {
      "cell_type": "code",
      "metadata": {
        "colab": {
          "base_uri": "https://localhost:8080/"
        },
        "id": "QWZ-qhiiWDQJ",
        "outputId": "58ec06de-76aa-4af9-9ea8-f91408267913"
      },
      "source": [
        "def show_prediction(transformer_outputs,posn):\n",
        "  output_vec = transformer_outputs.last_hidden_state[0,posn]\n",
        "  t_logits = model.lm_head(output_vec)\n",
        "  t_predicted = torch.argmax(t_logits)\n",
        "  print(t_predicted, tokenizer.decode(t_predicted), t_logits[t_predicted])\n",
        "\n",
        "show_prediction(transformer_outputs,16)"
      ],
      "execution_count": 11,
      "outputs": [
        {
          "output_type": "stream",
          "text": [
            "tensor(17448, device='cuda:0')  flooding tensor(-114.1670, device='cuda:0', grad_fn=<SelectBackward>)\n"
          ],
          "name": "stdout"
        }
      ]
    },
    {
      "cell_type": "markdown",
      "metadata": {
        "id": "T-pyfbNpvGO2"
      },
      "source": [
        "## Plot Embedding Vector Waveforms\n",
        "\n",
        "This compares the embedding vector generated from the input token to that output by the top layer, predicting the next token."
      ]
    },
    {
      "cell_type": "code",
      "metadata": {
        "id": "qTTCKDvpvFqA",
        "colab": {
          "base_uri": "https://localhost:8080/",
          "height": 513
        },
        "outputId": "2385d210-e12b-4d73-ec2f-b39df1e662f5"
      },
      "source": [
        "output_vec = transformer_outputs.last_hidden_state[0,16]\n",
        "plt.plot(embeds[0,16].cpu().detach().numpy())\n",
        "plt.show()\n",
        "plt.plot(output_vec.cpu().detach().numpy())\n",
        "plt.show()"
      ],
      "execution_count": 14,
      "outputs": [
        {
          "output_type": "display_data",
          "data": {
            "image/png": "[encoded data removed]",
            "text/plain": [
              "<Figure size 432x288 with 1 Axes>"
            ]
          },
          "metadata": {
            "needs_background": "light"
          }
        },
        {
          "output_type": "display_data",
          "data": {
            "image/png": "[encoded data removed]",
            "text/plain": [
              "<Figure size 432x288 with 1 Axes>"
            ]
          },
          "metadata": {
            "needs_background": "light"
          }
        }
      ]
    },
    {
      "cell_type": "markdown",
      "metadata": {
        "id": "y8SyzC8auDO5"
      },
      "source": [
        "# Attribution"
      ]
    },
    {
      "cell_type": "markdown",
      "metadata": {
        "id": "u8OiPoi9uouZ"
      },
      "source": [
        "## Attribute a specific logit output to embedding vector inputs"
      ]
    },
    {
      "cell_type": "markdown",
      "metadata": {
        "id": "tF-6Hh6JXczg"
      },
      "source": [
        "Now we can define a custom modified forward function which we can use for attribution for a specific output word vector. \n",
        "The model is wrapped in a function to allow transformer.forward be called with the inputs_embeds argument rather than default first arg, and to return the relevant logit as a single record 1d-tensor."
      ]
    },
    {
      "cell_type": "code",
      "metadata": {
        "id": "poUogA4OXHzO"
      },
      "source": [
        "\n",
        "def make_forward_with_embeds(target_position, target_tokenid):\n",
        "    \n",
        "  def forward_with_embeds(embeds):\n",
        "      \n",
        "      transformer_outputs = model.transformer.forward(inputs_embeds=embeds)\n",
        "      output_vec = transformer_outputs.last_hidden_state[0,target_position]\n",
        "      lm_logits = model.lm_head(output_vec)\n",
        "      return lm_logits[target_tokenid:target_tokenid+1] #captum expects\n",
        "    \n",
        "  return forward_with_embeds"
      ],
      "execution_count": 17,
      "outputs": []
    },
    {
      "cell_type": "markdown",
      "metadata": {
        "id": "I0Npdy1tYkL2"
      },
      "source": [
        "Test again (expect -114.1670)"
      ]
    },
    {
      "cell_type": "code",
      "metadata": {
        "colab": {
          "base_uri": "https://localhost:8080/"
        },
        "id": "gE7QcgzPYjWt",
        "outputId": "31a660ca-f672-4e8b-cbc3-6dad9e814fb9"
      },
      "source": [
        "make_forward_with_embeds( 16, 17448 )(embeds)"
      ],
      "execution_count": 18,
      "outputs": [
        {
          "output_type": "execute_result",
          "data": {
            "text/plain": [
              "tensor([-114.1670], device='cuda:0', grad_fn=<SliceBackward>)"
            ]
          },
          "metadata": {},
          "execution_count": 18
        }
      ]
    },
    {
      "cell_type": "markdown",
      "metadata": {
        "id": "RfH8lOwl7jy2"
      },
      "source": [
        "Using the [Integrated Gradients](https://arxiv.org/pdf/1703.01365.pdf) algorithm through [Captum](https://captum.ai/docs/extension/integrated_gradients) we use \n",
        "attribution to identify what part of the embedding inputs are most important to the logit for the expected output term (flooding)."
      ]
    },
    {
      "cell_type": "code",
      "metadata": {
        "id": "yY9Eq_SG-ixU"
      },
      "source": [
        "from captum.attr import IntegratedGradients\n",
        "def attribute(attributor):\n",
        "  embeds = model.transformer.wte(tokens)\n",
        "  embeds.requires_grad_()\n",
        "  return attributor.attribute(embeds)\n",
        "\n",
        "attr = attribute(IntegratedGradients(make_forward_with_embeds( 16, 17448 )))\n"
      ],
      "execution_count": 19,
      "outputs": []
    },
    {
      "cell_type": "markdown",
      "metadata": {
        "id": "Etgy87d78egq"
      },
      "source": [
        "### Input Position Salience\n",
        "\n",
        "Using norm on each vector in the input and plotting against the corresponding label gives a plausible interpretation of the importance of each term."
      ]
    },
    {
      "cell_type": "code",
      "metadata": {
        "colab": {
          "base_uri": "https://localhost:8080/",
          "height": 299
        },
        "id": "4ZrVY6lvAEwb",
        "outputId": "36683a65-faaf-49cb-c1dd-6c2a865e48ba"
      },
      "source": [
        "import numpy as np\n",
        "\n",
        "def show_posn_salience(attribution):\n",
        "  norms = np.linalg.norm(attribution.cpu().detach().numpy(), axis=1)\n",
        "  labels = [tokenizer.decode(token) for token in tokens[0]]\n",
        "\n",
        "  fig, ax = plt.subplots()\n",
        "  ax.plot(norms)\n",
        "  ax.set_xticks(np.arange(attribution.shape[0]))\n",
        "\n",
        "  ax.set_xticklabels(labels,rotation='vertical')\n",
        "  plt.show()\n",
        "\n",
        "show_posn_salience(attr[0])"
      ],
      "execution_count": 20,
      "outputs": [
        {
          "output_type": "display_data",
          "data": {
            "image/png": "[encoded data removed]",
            "text/plain": [
              "<Figure size 432x288 with 1 Axes>"
            ]
          },
          "metadata": {
            "needs_background": "light"
          }
        }
      ]
    },
    {
      "cell_type": "markdown",
      "metadata": {
        "id": "fTw8d2KZ9THj"
      },
      "source": [
        "### Attribution to a single embedding vector\n",
        "This shows attribution against the last token vector."
      ]
    },
    {
      "cell_type": "code",
      "metadata": {
        "colab": {
          "base_uri": "https://localhost:8080/",
          "height": 282
        },
        "id": "F9bxrSmm_Wdd",
        "outputId": "05aba75a-70cd-4ec7-cd20-46ca95e16805"
      },
      "source": [
        "plt.plot(attr[0,16].cpu().detach().numpy())"
      ],
      "execution_count": 21,
      "outputs": [
        {
          "output_type": "execute_result",
          "data": {
            "text/plain": [
              "[<matplotlib.lines.Line2D at 0x7f78c0d70110>]"
            ]
          },
          "metadata": {},
          "execution_count": 21
        },
        {
          "output_type": "display_data",
          "data": {
            "image/png": "[encoded data removed]",
            "text/plain": [
              "<Figure size 432x288 with 1 Axes>"
            ]
          },
          "metadata": {
            "needs_background": "light"
          }
        }
      ]
    },
    {
      "cell_type": "markdown",
      "metadata": {
        "id": "iVcVxXS1-4ao"
      },
      "source": [
        "## Attribute specific logit excess to embedding vector inputs\n",
        "\n",
        "The previous wrapper of the forward method would identify inputs as significant even if they increased logits for other symbols more than the target one. The version below outputs the difference between the target logit and the mean of all logits. Further investigation is required to see if this is helpful or not."
      ]
    },
    {
      "cell_type": "code",
      "metadata": {
        "id": "VFeVG9yJ_87J"
      },
      "source": [
        "def make_logit_less_mean_embeds(target_position, target_tokenid):\n",
        "    \n",
        "  def logit_less_mean_embeds(embeds):\n",
        "      \n",
        "      transformer_outputs = model.transformer.forward(inputs_embeds=embeds)\n",
        "      output_vec = transformer_outputs.last_hidden_state[0,target_position]\n",
        "      lm_logits = model.lm_head(output_vec)\n",
        "      logits_mean = torch.mean(lm_logits)\n",
        "      return lm_logits[target_tokenid:target_tokenid+1] -logits_mean\n",
        "    \n",
        "  return logit_less_mean_embeds"
      ],
      "execution_count": 22,
      "outputs": []
    },
    {
      "cell_type": "code",
      "metadata": {
        "colab": {
          "base_uri": "https://localhost:8080/",
          "height": 282
        },
        "id": "9FxFq6M30D91",
        "outputId": "7a1265a3-0af3-4662-a21e-77ef2a7797e8"
      },
      "source": [
        "\n",
        "attr = attribute(IntegratedGradients(make_logit_less_mean_embeds( 16, 17448 )))\n",
        "\n",
        "plt.plot(attr[0,16].cpu().detach().numpy())"
      ],
      "execution_count": 23,
      "outputs": [
        {
          "output_type": "execute_result",
          "data": {
            "text/plain": [
              "[<matplotlib.lines.Line2D at 0x7f78c0dcf150>]"
            ]
          },
          "metadata": {},
          "execution_count": 23
        },
        {
          "output_type": "display_data",
          "data": {
            "image/png": "[encoded data removed]",
            "text/plain": [
              "<Figure size 432x288 with 1 Axes>"
            ]
          },
          "metadata": {
            "needs_background": "light"
          }
        }
      ]
    },
    {
      "cell_type": "code",
      "metadata": {
        "colab": {
          "base_uri": "https://localhost:8080/",
          "height": 299
        },
        "id": "lqzisBvD0d3S",
        "outputId": "b1363eb3-e120-4c3f-bc41-c384ee9114df"
      },
      "source": [
        "\n",
        "show_posn_salience(attr[0])"
      ],
      "execution_count": 24,
      "outputs": [
        {
          "output_type": "display_data",
          "data": {
            "image/png": "[encoded data removed]",
            "text/plain": [
              "<Figure size 432x288 with 1 Axes>"
            ]
          },
          "metadata": {
            "needs_background": "light"
          }
        }
      ]
    },
    {
      "cell_type": "markdown",
      "metadata": {
        "id": "PHj6nK4fGRFd"
      },
      "source": [
        "Results are similar but fewer positions are higlighted."
      ]
    },
    {
      "cell_type": "markdown",
      "metadata": {
        "id": "wGCOS8Jl7GY5"
      },
      "source": [
        "## Verify vector attribution\n",
        "\n",
        "Attempt to verify that the attribution makes some sense, first by zeroing out the elements with the lowest attribution."
      ]
    },
    {
      "cell_type": "code",
      "metadata": {
        "id": "AeXeM8d1_uLs"
      },
      "source": [
        "def drop_low_salience(level, abs_attrib=True, posn=16):\n",
        "  embeds = model.transformer.wte(tokens)\n",
        "  attr = ig.attribute(embeds)\n",
        "  attribv = torch.abs(attr[0,posn]) if abs_attrib else attr[0,posn]\n",
        "  mask = attribv.ge(level)\n",
        "  drop_masked(embeds, mask)\n",
        "\n",
        "def drop_masked(embeds, mask, posn=16):\n",
        "  embeds = model.transformer.wte(tokens)\n",
        "  original = torch.clone(embeds[0,posn])\n",
        "  fake = torch.where(mask, original,torch.zeros_like(original))\n",
        "  embeds[0,posn]=fake\n",
        "  transformer_outputs = model.transformer.forward(inputs_embeds=embeds)\n",
        "  output_vec = transformer_outputs.last_hidden_state[0,posn]\n",
        "  t_logits = model.lm_head(output_vec)\n",
        "  t_predicted = torch.argmax(t_logits)\n",
        "  print(f'Kept {torch.count_nonzero(fake)} of {torch.count_nonzero(original)} nonzero elements')\n",
        "\n",
        "  transformer_outputs = model.transformer.forward(inputs_embeds=embeds)\n",
        "  output_vec = transformer_outputs.last_hidden_state[0,posn]\n",
        "  t_logits = model.lm_head(output_vec)\n",
        "  t_predicted = torch.argmax(t_logits)\n",
        "  print(f'Predicted token {t_predicted} \"{tokenizer.decode(t_predicted)}\" logit value: {t_logits[t_predicted]}')\n",
        "\n"
      ],
      "execution_count": 25,
      "outputs": []
    },
    {
      "cell_type": "markdown",
      "metadata": {
        "id": "B3GTKxQI7sPZ"
      },
      "source": [
        "### Drop Low Salience Elements"
      ]
    },
    {
      "cell_type": "code",
      "metadata": {
        "id": "ouATvz_uHCnA",
        "colab": {
          "base_uri": "https://localhost:8080/"
        },
        "outputId": "ee51fdea-e6e0-4112-848c-5bd416b48df3"
      },
      "source": [
        "ig = IntegratedGradients(make_logit_less_mean_embeds( 16, 17448 ))\n",
        "drop_low_salience(0.0003)\n",
        "drop_low_salience(0.0002)\n",
        "drop_low_salience(0.00015)\n",
        "drop_low_salience(0.0001)\n",
        "\n"
      ],
      "execution_count": 29,
      "outputs": [
        {
          "output_type": "stream",
          "text": [
            "Kept 22 of 768 nonzero elements\n",
            "Predicted token 18355 \" thunder\" logit value: -94.4098892211914\n",
            "Kept 63 of 768 nonzero elements\n",
            "Predicted token 1417 \"ised\" logit value: -96.73153686523438\n",
            "Kept 108 of 768 nonzero elements\n",
            "Predicted token 18355 \" thunder\" logit value: -109.29541778564453\n",
            "Kept 190 of 768 nonzero elements\n",
            "Predicted token 17448 \" flooding\" logit value: -117.55022430419922\n"
          ],
          "name": "stdout"
        }
      ]
    },
    {
      "cell_type": "code",
      "metadata": {
        "id": "2bVxVIJs7wXh",
        "colab": {
          "base_uri": "https://localhost:8080/"
        },
        "outputId": "55ac491a-c58c-461f-9613-630d1e42ff78"
      },
      "source": [
        "ig = IntegratedGradients(make_forward_with_embeds( 16, 17448 ))\n",
        "\n",
        "drop_low_salience(0.003)\n",
        "drop_low_salience(0.002)\n",
        "drop_low_salience(0.0015)\n",
        "drop_low_salience(0.001)\n"
      ],
      "execution_count": 31,
      "outputs": [
        {
          "output_type": "stream",
          "text": [
            "Kept 6 of 768 nonzero elements\n",
            "Predicted token 32405 \" hail\" logit value: -90.62446594238281\n",
            "Kept 37 of 768 nonzero elements\n",
            "Predicted token 6279 \" cloud\" logit value: -87.8970718383789\n",
            "Kept 74 of 768 nonzero elements\n",
            "Predicted token 1417 \"ised\" logit value: -80.52691650390625\n",
            "Kept 138 of 768 nonzero elements\n",
            "Predicted token 17448 \" flooding\" logit value: -115.29566192626953\n"
          ],
          "name": "stdout"
        }
      ]
    },
    {
      "cell_type": "markdown",
      "metadata": {
        "id": "0CQ4aDbQzV_1"
      },
      "source": [
        "### Drop Random Elements\n",
        "\n",
        "Compare this to randomly dropping a similar number of elements"
      ]
    },
    {
      "cell_type": "code",
      "metadata": {
        "colab": {
          "base_uri": "https://localhost:8080/"
        },
        "id": "17xC9l1VDl7v",
        "outputId": "e6e0ac90-d371-4143-db5c-7c66b9e68d73"
      },
      "source": [
        "def drop_random(rate):\n",
        "  embeds = model.transformer.wte(tokens)\n",
        "  mask = torch.rand(embeds[0,0].shape, device=embeds.device).ge(rate) \n",
        "  drop_masked(embeds, mask)\n",
        "\n",
        "drop_random(762/768)\n",
        "drop_random(731/768)\n",
        "drop_random(690/768)\n",
        "drop_random(630/768)\n",
        "drop_random(100/768)\n",
        "\n"
      ],
      "execution_count": 33,
      "outputs": [
        {
          "output_type": "stream",
          "text": [
            "Kept 7 of 768 nonzero elements\n",
            "Predicted token 18355 \" thunder\" logit value: -92.91481018066406\n",
            "Kept 38 of 768 nonzero elements\n",
            "Predicted token 20228 \" storms\" logit value: -94.1800537109375\n",
            "Kept 67 of 768 nonzero elements\n",
            "Predicted token 32405 \" hail\" logit value: -92.04132843017578\n",
            "Kept 141 of 768 nonzero elements\n",
            "Predicted token 18355 \" thunder\" logit value: -98.49168395996094\n",
            "Kept 673 of 768 nonzero elements\n",
            "Predicted token 17448 \" flooding\" logit value: -116.01563262939453\n"
          ],
          "name": "stdout"
        }
      ]
    },
    {
      "cell_type": "markdown",
      "metadata": {
        "id": "4tjYIHX24nOk"
      },
      "source": [
        "###Drop Highly Salient Elements\n",
        "\n",
        "Inverting this, how many high salience tokens do we need to drop to affect the predicted token."
      ]
    },
    {
      "cell_type": "code",
      "metadata": {
        "colab": {
          "base_uri": "https://localhost:8080/"
        },
        "id": "ZT0CIe7p3cyP",
        "outputId": "9e6ffaec-f3d9-4516-badd-f4cec552c330"
      },
      "source": [
        "def drop_high_salience(level, abs_attrib=True):\n",
        "  embeds = model.transformer.wte(tokens)\n",
        "  attr = ig.attribute(embeds)\n",
        "  attribv = torch.abs(attr[0,16]) if abs_attrib else attr[0,16]\n",
        "  mask = attribv.le(level)\n",
        "  drop_masked(embeds, mask)\n",
        "\n",
        "drop_high_salience(0.004)\n",
        "drop_high_salience(0.001)\n",
        "drop_high_salience(0.0005)\n",
        "drop_high_salience(0.0002)"
      ],
      "execution_count": 37,
      "outputs": [
        {
          "output_type": "stream",
          "text": [
            "Kept 764 of 768 nonzero elements\n",
            "Predicted token 17448 \" flooding\" logit value: -114.20236206054688\n",
            "Kept 630 of 768 nonzero elements\n",
            "Predicted token 17448 \" flooding\" logit value: -118.7251205444336\n",
            "Kept 497 of 768 nonzero elements\n",
            "Predicted token 17448 \" flooding\" logit value: -114.12141418457031\n",
            "Kept 296 of 768 nonzero elements\n",
            "Predicted token 871 \"ities\" logit value: -102.48456573486328\n"
          ],
          "name": "stdout"
        }
      ]
    },
    {
      "cell_type": "markdown",
      "metadata": {
        "id": "T3hwho9IAxnE"
      },
      "source": [
        "### Result \n",
        "\n",
        "GPT2 appears much less sensitive to individual neuron changes, both in terms of most and least salient for a particular output and random.\n"
      ]
    },
    {
      "cell_type": "markdown",
      "metadata": {
        "id": "zCUFvgIHbjmh"
      },
      "source": [
        "Checking a different position"
      ]
    },
    {
      "cell_type": "code",
      "metadata": {
        "id": "zAL4aWl1bl46",
        "colab": {
          "base_uri": "https://localhost:8080/"
        },
        "outputId": "e1f2c4a9-035c-49a1-9d35-a9740e462771"
      },
      "source": [
        "print(tokens[0,13], tokenizer.decode(tokens[0,13]))\n",
        "print(tokens[0,14], tokenizer.decode(tokens[0,14]))\n",
        "print(tokens[0,15], tokenizer.decode(tokens[0,15]))\n",
        "print(tokens[0,16], tokenizer.decode(tokens[0,16]))"
      ],
      "execution_count": 38,
      "outputs": [
        {
          "output_type": "stream",
          "text": [
            "tensor(1085, device='cuda:0')  lead\n",
            "tensor(284, device='cuda:0')  to\n",
            "tensor(1957, device='cuda:0')  local\n",
            "tensor(1417, device='cuda:0') ised\n"
          ],
          "name": "stdout"
        }
      ]
    },
    {
      "cell_type": "code",
      "metadata": {
        "id": "rz_vt5Lydxo_",
        "colab": {
          "base_uri": "https://localhost:8080/"
        },
        "outputId": "8d0c87e4-08f9-4675-f5c6-99b1f56e37f2"
      },
      "source": [
        "embeds = model.transformer.wte(tokens)\n",
        "transformer_outputs = model.transformer.forward(inputs_embeds=embeds)\n",
        "show_prediction(transformer_outputs,13)\n",
        "show_prediction(transformer_outputs,14)\n",
        "show_prediction(transformer_outputs,15)\n",
        "show_prediction(transformer_outputs,16)"
      ],
      "execution_count": 39,
      "outputs": [
        {
          "output_type": "stream",
          "text": [
            "tensor(284, device='cuda:0')  to tensor(-49.4169, device='cuda:0', grad_fn=<SelectBackward>)\n",
            "tensor(257, device='cuda:0')  a tensor(-104.9720, device='cuda:0', grad_fn=<SelectBackward>)\n",
            "tensor(17448, device='cuda:0')  flooding tensor(-105.7585, device='cuda:0', grad_fn=<SelectBackward>)\n",
            "tensor(17448, device='cuda:0')  flooding tensor(-114.1670, device='cuda:0', grad_fn=<SelectBackward>)\n"
          ],
          "name": "stdout"
        }
      ]
    },
    {
      "cell_type": "markdown",
      "metadata": {
        "id": "nTVsV0JKh6ko"
      },
      "source": [
        "First look at input 'lead' predicting token 'to'.\n",
        "In contrast to gpt-neo-125 this shows greater dependency on previous token."
      ]
    },
    {
      "cell_type": "code",
      "metadata": {
        "id": "54uCKtdsdCUQ",
        "colab": {
          "base_uri": "https://localhost:8080/",
          "height": 299
        },
        "outputId": "d83378d5-8425-479c-aab1-ddf138c52947"
      },
      "source": [
        "attr = attribute(IntegratedGradients(make_forward_with_embeds(13,284)))\n",
        "show_posn_salience(attr[0])"
      ],
      "execution_count": 40,
      "outputs": [
        {
          "output_type": "display_data",
          "data": {
            "image/png": "[encoded data removed]",
            "text/plain": [
              "<Figure size 432x288 with 1 Axes>"
            ]
          },
          "metadata": {
            "needs_background": "light"
          }
        }
      ]
    },
    {
      "cell_type": "code",
      "metadata": {
        "id": "mJm4eX0JlO5N",
        "colab": {
          "base_uri": "https://localhost:8080/",
          "height": 299
        },
        "outputId": "521d3e33-8bd6-4ca7-9903-97631673ebaa"
      },
      "source": [
        "attr = attribute(IntegratedGradients(make_forward_with_embeds(14,1957)))\n",
        "show_posn_salience(attr[0])"
      ],
      "execution_count": 41,
      "outputs": [
        {
          "output_type": "display_data",
          "data": {
            "image/png": "[encoded data removed]",
            "text/plain": [
              "<Figure size 432x288 with 1 Axes>"
            ]
          },
          "metadata": {
            "needs_background": "light"
          }
        }
      ]
    },
    {
      "cell_type": "code",
      "metadata": {
        "id": "F73ngPfcltyc",
        "colab": {
          "base_uri": "https://localhost:8080/",
          "height": 300
        },
        "outputId": "3c993750-33b6-4fa6-b4a9-08ebe9a49320"
      },
      "source": [
        "attr = attribute(IntegratedGradients(make_forward_with_embeds(15,1417)))\n",
        "show_posn_salience(attr[0])"
      ],
      "execution_count": 42,
      "outputs": [
        {
          "output_type": "display_data",
          "data": {
            "image/png": "[encoded data removed]",
            "text/plain": [
              "<Figure size 432x288 with 1 Axes>"
            ]
          },
          "metadata": {
            "needs_background": "light"
          }
        }
      ]
    },
    {
      "cell_type": "markdown",
      "metadata": {
        "id": "4KS4TxHV6Gqu"
      },
      "source": [
        "GPT2 appears much more dependent on previous token compared to gpt-neo-125"
      ]
    }
  ]
}
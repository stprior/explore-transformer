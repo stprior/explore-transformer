{
  "nbformat": 4,
  "nbformat_minor": 2,
  "metadata": {
    "colab": {
      "name": "attribution-gpt-neo-125.ipynb",
      "provenance": [],
      "collapsed_sections": [],
      "toc_visible": true,
      "authorship_tag": "ABX9TyOVqBwhdr+bQePiwS0uvKKc",
      "include_colab_link": true
    },
    "kernelspec": {
      "name": "python3",
      "display_name": "Python 3"
    },
    "language_info": {
      "name": "python"
    },
    "accelerator": "GPU",
    "widgets": {
      "application/vnd.jupyter.widget-state+json": {
        "4e963882c1d840a1806052436c6eab58": {
          "model_module": "@jupyter-widgets/controls",
          "model_name": "HBoxModel",
          "model_module_version": "1.5.0",
          "state": {
            "_view_name": "HBoxView",
            "_dom_classes": [],
            "_model_name": "HBoxModel",
            "_view_module": "@jupyter-widgets/controls",
            "_model_module_version": "1.5.0",
            "_view_count": null,
            "_view_module_version": "1.5.0",
            "box_style": "",
            "layout": "IPY_MODEL_f30633984e8c4f05aca1f4e8c043619b",
            "_model_module": "@jupyter-widgets/controls",
            "children": [
              "IPY_MODEL_4878fffc02584ebab8ca6685dacda802",
              "IPY_MODEL_3af659a817bf444b9dfecf5f3b08b808",
              "IPY_MODEL_01cdc0d7af8e49da9758cfcd648802c6"
            ]
          }
        },
        "f30633984e8c4f05aca1f4e8c043619b": {
          "model_module": "@jupyter-widgets/base",
          "model_name": "LayoutModel",
          "model_module_version": "1.2.0",
          "state": {
            "_view_name": "LayoutView",
            "grid_template_rows": null,
            "right": null,
            "justify_content": null,
            "_view_module": "@jupyter-widgets/base",
            "overflow": null,
            "_model_module_version": "1.2.0",
            "_view_count": null,
            "flex_flow": null,
            "width": null,
            "min_width": null,
            "border": null,
            "align_items": null,
            "bottom": null,
            "_model_module": "@jupyter-widgets/base",
            "top": null,
            "grid_column": null,
            "overflow_y": null,
            "overflow_x": null,
            "grid_auto_flow": null,
            "grid_area": null,
            "grid_template_columns": null,
            "flex": null,
            "_model_name": "LayoutModel",
            "justify_items": null,
            "grid_row": null,
            "max_height": null,
            "align_content": null,
            "visibility": null,
            "align_self": null,
            "height": null,
            "min_height": null,
            "padding": null,
            "grid_auto_rows": null,
            "grid_gap": null,
            "max_width": null,
            "order": null,
            "_view_module_version": "1.2.0",
            "grid_template_areas": null,
            "object_position": null,
            "object_fit": null,
            "grid_auto_columns": null,
            "margin": null,
            "display": null,
            "left": null
          }
        },
        "4878fffc02584ebab8ca6685dacda802": {
          "model_module": "@jupyter-widgets/controls",
          "model_name": "HTMLModel",
          "model_module_version": "1.5.0",
          "state": {
            "_view_name": "HTMLView",
            "style": "IPY_MODEL_f9e7bfdd72794c1ea9cdab9132f89a75",
            "_dom_classes": [],
            "description": "",
            "_model_name": "HTMLModel",
            "placeholder": "​",
            "_view_module": "@jupyter-widgets/controls",
            "_model_module_version": "1.5.0",
            "value": "Downloading: 100%",
            "_view_count": null,
            "_view_module_version": "1.5.0",
            "description_tooltip": null,
            "_model_module": "@jupyter-widgets/controls",
            "layout": "IPY_MODEL_41740317c7c7416bbefbd22aef2a0ba0"
          }
        },
        "3af659a817bf444b9dfecf5f3b08b808": {
          "model_module": "@jupyter-widgets/controls",
          "model_name": "FloatProgressModel",
          "model_module_version": "1.5.0",
          "state": {
            "_view_name": "ProgressView",
            "style": "IPY_MODEL_403ace3084684a89afbed61def0ba961",
            "_dom_classes": [],
            "description": "",
            "_model_name": "FloatProgressModel",
            "bar_style": "success",
            "max": 665,
            "_view_module": "@jupyter-widgets/controls",
            "_model_module_version": "1.5.0",
            "value": 665,
            "_view_count": null,
            "_view_module_version": "1.5.0",
            "orientation": "horizontal",
            "min": 0,
            "description_tooltip": null,
            "_model_module": "@jupyter-widgets/controls",
            "layout": "IPY_MODEL_cbb7e1f53356419dbe24dd3952870c7b"
          }
        },
        "01cdc0d7af8e49da9758cfcd648802c6": {
          "model_module": "@jupyter-widgets/controls",
          "model_name": "HTMLModel",
          "model_module_version": "1.5.0",
          "state": {
            "_view_name": "HTMLView",
            "style": "IPY_MODEL_2d1c51c3dd194a079878e2267ae70753",
            "_dom_classes": [],
            "description": "",
            "_model_name": "HTMLModel",
            "placeholder": "​",
            "_view_module": "@jupyter-widgets/controls",
            "_model_module_version": "1.5.0",
            "value": " 665/665 [00:00&lt;00:00, 18.6kB/s]",
            "_view_count": null,
            "_view_module_version": "1.5.0",
            "description_tooltip": null,
            "_model_module": "@jupyter-widgets/controls",
            "layout": "IPY_MODEL_ff436b30a46f429f894cc0840d98a86f"
          }
        },
        "f9e7bfdd72794c1ea9cdab9132f89a75": {
          "model_module": "@jupyter-widgets/controls",
          "model_name": "DescriptionStyleModel",
          "model_module_version": "1.5.0",
          "state": {
            "_view_name": "StyleView",
            "_model_name": "DescriptionStyleModel",
            "description_width": "",
            "_view_module": "@jupyter-widgets/base",
            "_model_module_version": "1.5.0",
            "_view_count": null,
            "_view_module_version": "1.2.0",
            "_model_module": "@jupyter-widgets/controls"
          }
        },
        "41740317c7c7416bbefbd22aef2a0ba0": {
          "model_module": "@jupyter-widgets/base",
          "model_name": "LayoutModel",
          "model_module_version": "1.2.0",
          "state": {
            "_view_name": "LayoutView",
            "grid_template_rows": null,
            "right": null,
            "justify_content": null,
            "_view_module": "@jupyter-widgets/base",
            "overflow": null,
            "_model_module_version": "1.2.0",
            "_view_count": null,
            "flex_flow": null,
            "width": null,
            "min_width": null,
            "border": null,
            "align_items": null,
            "bottom": null,
            "_model_module": "@jupyter-widgets/base",
            "top": null,
            "grid_column": null,
            "overflow_y": null,
            "overflow_x": null,
            "grid_auto_flow": null,
            "grid_area": null,
            "grid_template_columns": null,
            "flex": null,
            "_model_name": "LayoutModel",
            "justify_items": null,
            "grid_row": null,
            "max_height": null,
            "align_content": null,
            "visibility": null,
            "align_self": null,
            "height": null,
            "min_height": null,
            "padding": null,
            "grid_auto_rows": null,
            "grid_gap": null,
            "max_width": null,
            "order": null,
            "_view_module_version": "1.2.0",
            "grid_template_areas": null,
            "object_position": null,
            "object_fit": null,
            "grid_auto_columns": null,
            "margin": null,
            "display": null,
            "left": null
          }
        },
        "403ace3084684a89afbed61def0ba961": {
          "model_module": "@jupyter-widgets/controls",
          "model_name": "ProgressStyleModel",
          "model_module_version": "1.5.0",
          "state": {
            "_view_name": "StyleView",
            "_model_name": "ProgressStyleModel",
            "description_width": "",
            "_view_module": "@jupyter-widgets/base",
            "_model_module_version": "1.5.0",
            "_view_count": null,
            "_view_module_version": "1.2.0",
            "bar_color": null,
            "_model_module": "@jupyter-widgets/controls"
          }
        },
        "cbb7e1f53356419dbe24dd3952870c7b": {
          "model_module": "@jupyter-widgets/base",
          "model_name": "LayoutModel",
          "model_module_version": "1.2.0",
          "state": {
            "_view_name": "LayoutView",
            "grid_template_rows": null,
            "right": null,
            "justify_content": null,
            "_view_module": "@jupyter-widgets/base",
            "overflow": null,
            "_model_module_version": "1.2.0",
            "_view_count": null,
            "flex_flow": null,
            "width": null,
            "min_width": null,
            "border": null,
            "align_items": null,
            "bottom": null,
            "_model_module": "@jupyter-widgets/base",
            "top": null,
            "grid_column": null,
            "overflow_y": null,
            "overflow_x": null,
            "grid_auto_flow": null,
            "grid_area": null,
            "grid_template_columns": null,
            "flex": null,
            "_model_name": "LayoutModel",
            "justify_items": null,
            "grid_row": null,
            "max_height": null,
            "align_content": null,
            "visibility": null,
            "align_self": null,
            "height": null,
            "min_height": null,
            "padding": null,
            "grid_auto_rows": null,
            "grid_gap": null,
            "max_width": null,
            "order": null,
            "_view_module_version": "1.2.0",
            "grid_template_areas": null,
            "object_position": null,
            "object_fit": null,
            "grid_auto_columns": null,
            "margin": null,
            "display": null,
            "left": null
          }
        },
        "2d1c51c3dd194a079878e2267ae70753": {
          "model_module": "@jupyter-widgets/controls",
          "model_name": "DescriptionStyleModel",
          "model_module_version": "1.5.0",
          "state": {
            "_view_name": "StyleView",
            "_model_name": "DescriptionStyleModel",
            "description_width": "",
            "_view_module": "@jupyter-widgets/base",
            "_model_module_version": "1.5.0",
            "_view_count": null,
            "_view_module_version": "1.2.0",
            "_model_module": "@jupyter-widgets/controls"
          }
        },
        "ff436b30a46f429f894cc0840d98a86f": {
          "model_module": "@jupyter-widgets/base",
          "model_name": "LayoutModel",
          "model_module_version": "1.2.0",
          "state": {
            "_view_name": "LayoutView",
            "grid_template_rows": null,
            "right": null,
            "justify_content": null,
            "_view_module": "@jupyter-widgets/base",
            "overflow": null,
            "_model_module_version": "1.2.0",
            "_view_count": null,
            "flex_flow": null,
            "width": null,
            "min_width": null,
            "border": null,
            "align_items": null,
            "bottom": null,
            "_model_module": "@jupyter-widgets/base",
            "top": null,
            "grid_column": null,
            "overflow_y": null,
            "overflow_x": null,
            "grid_auto_flow": null,
            "grid_area": null,
            "grid_template_columns": null,
            "flex": null,
            "_model_name": "LayoutModel",
            "justify_items": null,
            "grid_row": null,
            "max_height": null,
            "align_content": null,
            "visibility": null,
            "align_self": null,
            "height": null,
            "min_height": null,
            "padding": null,
            "grid_auto_rows": null,
            "grid_gap": null,
            "max_width": null,
            "order": null,
            "_view_module_version": "1.2.0",
            "grid_template_areas": null,
            "object_position": null,
            "object_fit": null,
            "grid_auto_columns": null,
            "margin": null,
            "display": null,
            "left": null
          }
        },
        "3a56454c3ece45749edb7840899e8245": {
          "model_module": "@jupyter-widgets/controls",
          "model_name": "HBoxModel",
          "model_module_version": "1.5.0",
          "state": {
            "_view_name": "HBoxView",
            "_dom_classes": [],
            "_model_name": "HBoxModel",
            "_view_module": "@jupyter-widgets/controls",
            "_model_module_version": "1.5.0",
            "_view_count": null,
            "_view_module_version": "1.5.0",
            "box_style": "",
            "layout": "IPY_MODEL_6f19dfd3feff4f389b25bf7d7ede4fd5",
            "_model_module": "@jupyter-widgets/controls",
            "children": [
              "IPY_MODEL_1aee2bde7bac4cf58fe1982a09f0b444",
              "IPY_MODEL_20e185722e8443efb7baa20652bac57f",
              "IPY_MODEL_e8e9cb3291a74f12b7b3a754532347de"
            ]
          }
        },
        "6f19dfd3feff4f389b25bf7d7ede4fd5": {
          "model_module": "@jupyter-widgets/base",
          "model_name": "LayoutModel",
          "model_module_version": "1.2.0",
          "state": {
            "_view_name": "LayoutView",
            "grid_template_rows": null,
            "right": null,
            "justify_content": null,
            "_view_module": "@jupyter-widgets/base",
            "overflow": null,
            "_model_module_version": "1.2.0",
            "_view_count": null,
            "flex_flow": null,
            "width": null,
            "min_width": null,
            "border": null,
            "align_items": null,
            "bottom": null,
            "_model_module": "@jupyter-widgets/base",
            "top": null,
            "grid_column": null,
            "overflow_y": null,
            "overflow_x": null,
            "grid_auto_flow": null,
            "grid_area": null,
            "grid_template_columns": null,
            "flex": null,
            "_model_name": "LayoutModel",
            "justify_items": null,
            "grid_row": null,
            "max_height": null,
            "align_content": null,
            "visibility": null,
            "align_self": null,
            "height": null,
            "min_height": null,
            "padding": null,
            "grid_auto_rows": null,
            "grid_gap": null,
            "max_width": null,
            "order": null,
            "_view_module_version": "1.2.0",
            "grid_template_areas": null,
            "object_position": null,
            "object_fit": null,
            "grid_auto_columns": null,
            "margin": null,
            "display": null,
            "left": null
          }
        },
        "1aee2bde7bac4cf58fe1982a09f0b444": {
          "model_module": "@jupyter-widgets/controls",
          "model_name": "HTMLModel",
          "model_module_version": "1.5.0",
          "state": {
            "_view_name": "HTMLView",
            "style": "IPY_MODEL_9c1e29290c3d4e4181168bcd7da23d86",
            "_dom_classes": [],
            "description": "",
            "_model_name": "HTMLModel",
            "placeholder": "​",
            "_view_module": "@jupyter-widgets/controls",
            "_model_module_version": "1.5.0",
            "value": "Downloading: 100%",
            "_view_count": null,
            "_view_module_version": "1.5.0",
            "description_tooltip": null,
            "_model_module": "@jupyter-widgets/controls",
            "layout": "IPY_MODEL_5bccf253db1a4123930e3e050030b65c"
          }
        },
        "20e185722e8443efb7baa20652bac57f": {
          "model_module": "@jupyter-widgets/controls",
          "model_name": "FloatProgressModel",
          "model_module_version": "1.5.0",
          "state": {
            "_view_name": "ProgressView",
            "style": "IPY_MODEL_b7fc18a0bddd4ef4b73ee51e89fc3e9b",
            "_dom_classes": [],
            "description": "",
            "_model_name": "FloatProgressModel",
            "bar_style": "success",
            "max": 1042301,
            "_view_module": "@jupyter-widgets/controls",
            "_model_module_version": "1.5.0",
            "value": 1042301,
            "_view_count": null,
            "_view_module_version": "1.5.0",
            "orientation": "horizontal",
            "min": 0,
            "description_tooltip": null,
            "_model_module": "@jupyter-widgets/controls",
            "layout": "IPY_MODEL_b003ae1f0ffe4ac4bc7d401e1015734e"
          }
        },
        "e8e9cb3291a74f12b7b3a754532347de": {
          "model_module": "@jupyter-widgets/controls",
          "model_name": "HTMLModel",
          "model_module_version": "1.5.0",
          "state": {
            "_view_name": "HTMLView",
            "style": "IPY_MODEL_019d8623d84645198208e79dc4611874",
            "_dom_classes": [],
            "description": "",
            "_model_name": "HTMLModel",
            "placeholder": "​",
            "_view_module": "@jupyter-widgets/controls",
            "_model_module_version": "1.5.0",
            "value": " 1.04M/1.04M [00:00&lt;00:00, 4.50MB/s]",
            "_view_count": null,
            "_view_module_version": "1.5.0",
            "description_tooltip": null,
            "_model_module": "@jupyter-widgets/controls",
            "layout": "IPY_MODEL_a911d60219004b95a1dd2f7a9cfb508f"
          }
        },
        "9c1e29290c3d4e4181168bcd7da23d86": {
          "model_module": "@jupyter-widgets/controls",
          "model_name": "DescriptionStyleModel",
          "model_module_version": "1.5.0",
          "state": {
            "_view_name": "StyleView",
            "_model_name": "DescriptionStyleModel",
            "description_width": "",
            "_view_module": "@jupyter-widgets/base",
            "_model_module_version": "1.5.0",
            "_view_count": null,
            "_view_module_version": "1.2.0",
            "_model_module": "@jupyter-widgets/controls"
          }
        },
        "5bccf253db1a4123930e3e050030b65c": {
          "model_module": "@jupyter-widgets/base",
          "model_name": "LayoutModel",
          "model_module_version": "1.2.0",
          "state": {
            "_view_name": "LayoutView",
            "grid_template_rows": null,
            "right": null,
            "justify_content": null,
            "_view_module": "@jupyter-widgets/base",
            "overflow": null,
            "_model_module_version": "1.2.0",
            "_view_count": null,
            "flex_flow": null,
            "width": null,
            "min_width": null,
            "border": null,
            "align_items": null,
            "bottom": null,
            "_model_module": "@jupyter-widgets/base",
            "top": null,
            "grid_column": null,
            "overflow_y": null,
            "overflow_x": null,
            "grid_auto_flow": null,
            "grid_area": null,
            "grid_template_columns": null,
            "flex": null,
            "_model_name": "LayoutModel",
            "justify_items": null,
            "grid_row": null,
            "max_height": null,
            "align_content": null,
            "visibility": null,
            "align_self": null,
            "height": null,
            "min_height": null,
            "padding": null,
            "grid_auto_rows": null,
            "grid_gap": null,
            "max_width": null,
            "order": null,
            "_view_module_version": "1.2.0",
            "grid_template_areas": null,
            "object_position": null,
            "object_fit": null,
            "grid_auto_columns": null,
            "margin": null,
            "display": null,
            "left": null
          }
        },
        "b7fc18a0bddd4ef4b73ee51e89fc3e9b": {
          "model_module": "@jupyter-widgets/controls",
          "model_name": "ProgressStyleModel",
          "model_module_version": "1.5.0",
          "state": {
            "_view_name": "StyleView",
            "_model_name": "ProgressStyleModel",
            "description_width": "",
            "_view_module": "@jupyter-widgets/base",
            "_model_module_version": "1.5.0",
            "_view_count": null,
            "_view_module_version": "1.2.0",
            "bar_color": null,
            "_model_module": "@jupyter-widgets/controls"
          }
        },
        "b003ae1f0ffe4ac4bc7d401e1015734e": {
          "model_module": "@jupyter-widgets/base",
          "model_name": "LayoutModel",
          "model_module_version": "1.2.0",
          "state": {
            "_view_name": "LayoutView",
            "grid_template_rows": null,
            "right": null,
            "justify_content": null,
            "_view_module": "@jupyter-widgets/base",
            "overflow": null,
            "_model_module_version": "1.2.0",
            "_view_count": null,
            "flex_flow": null,
            "width": null,
            "min_width": null,
            "border": null,
            "align_items": null,
            "bottom": null,
            "_model_module": "@jupyter-widgets/base",
            "top": null,
            "grid_column": null,
            "overflow_y": null,
            "overflow_x": null,
            "grid_auto_flow": null,
            "grid_area": null,
            "grid_template_columns": null,
            "flex": null,
            "_model_name": "LayoutModel",
            "justify_items": null,
            "grid_row": null,
            "max_height": null,
            "align_content": null,
            "visibility": null,
            "align_self": null,
            "height": null,
            "min_height": null,
            "padding": null,
            "grid_auto_rows": null,
            "grid_gap": null,
            "max_width": null,
            "order": null,
            "_view_module_version": "1.2.0",
            "grid_template_areas": null,
            "object_position": null,
            "object_fit": null,
            "grid_auto_columns": null,
            "margin": null,
            "display": null,
            "left": null
          }
        },
        "019d8623d84645198208e79dc4611874": {
          "model_module": "@jupyter-widgets/controls",
          "model_name": "DescriptionStyleModel",
          "model_module_version": "1.5.0",
          "state": {
            "_view_name": "StyleView",
            "_model_name": "DescriptionStyleModel",
            "description_width": "",
            "_view_module": "@jupyter-widgets/base",
            "_model_module_version": "1.5.0",
            "_view_count": null,
            "_view_module_version": "1.2.0",
            "_model_module": "@jupyter-widgets/controls"
          }
        },
        "a911d60219004b95a1dd2f7a9cfb508f": {
          "model_module": "@jupyter-widgets/base",
          "model_name": "LayoutModel",
          "model_module_version": "1.2.0",
          "state": {
            "_view_name": "LayoutView",
            "grid_template_rows": null,
            "right": null,
            "justify_content": null,
            "_view_module": "@jupyter-widgets/base",
            "overflow": null,
            "_model_module_version": "1.2.0",
            "_view_count": null,
            "flex_flow": null,
            "width": null,
            "min_width": null,
            "border": null,
            "align_items": null,
            "bottom": null,
            "_model_module": "@jupyter-widgets/base",
            "top": null,
            "grid_column": null,
            "overflow_y": null,
            "overflow_x": null,
            "grid_auto_flow": null,
            "grid_area": null,
            "grid_template_columns": null,
            "flex": null,
            "_model_name": "LayoutModel",
            "justify_items": null,
            "grid_row": null,
            "max_height": null,
            "align_content": null,
            "visibility": null,
            "align_self": null,
            "height": null,
            "min_height": null,
            "padding": null,
            "grid_auto_rows": null,
            "grid_gap": null,
            "max_width": null,
            "order": null,
            "_view_module_version": "1.2.0",
            "grid_template_areas": null,
            "object_position": null,
            "object_fit": null,
            "grid_auto_columns": null,
            "margin": null,
            "display": null,
            "left": null
          }
        },
        "a6f6f1ace01441768fea9768bd063932": {
          "model_module": "@jupyter-widgets/controls",
          "model_name": "HBoxModel",
          "model_module_version": "1.5.0",
          "state": {
            "_view_name": "HBoxView",
            "_dom_classes": [],
            "_model_name": "HBoxModel",
            "_view_module": "@jupyter-widgets/controls",
            "_model_module_version": "1.5.0",
            "_view_count": null,
            "_view_module_version": "1.5.0",
            "box_style": "",
            "layout": "IPY_MODEL_9dbe82c0beb24b09b29b20afd7a20f8e",
            "_model_module": "@jupyter-widgets/controls",
            "children": [
              "IPY_MODEL_56d831b73f994342ade30e0bb087106e",
              "IPY_MODEL_ef88cf72d2494a5b8cf2fdc23ee61d36",
              "IPY_MODEL_097daca2e3d24cbd903c01c0c957c2ab"
            ]
          }
        },
        "9dbe82c0beb24b09b29b20afd7a20f8e": {
          "model_module": "@jupyter-widgets/base",
          "model_name": "LayoutModel",
          "model_module_version": "1.2.0",
          "state": {
            "_view_name": "LayoutView",
            "grid_template_rows": null,
            "right": null,
            "justify_content": null,
            "_view_module": "@jupyter-widgets/base",
            "overflow": null,
            "_model_module_version": "1.2.0",
            "_view_count": null,
            "flex_flow": null,
            "width": null,
            "min_width": null,
            "border": null,
            "align_items": null,
            "bottom": null,
            "_model_module": "@jupyter-widgets/base",
            "top": null,
            "grid_column": null,
            "overflow_y": null,
            "overflow_x": null,
            "grid_auto_flow": null,
            "grid_area": null,
            "grid_template_columns": null,
            "flex": null,
            "_model_name": "LayoutModel",
            "justify_items": null,
            "grid_row": null,
            "max_height": null,
            "align_content": null,
            "visibility": null,
            "align_self": null,
            "height": null,
            "min_height": null,
            "padding": null,
            "grid_auto_rows": null,
            "grid_gap": null,
            "max_width": null,
            "order": null,
            "_view_module_version": "1.2.0",
            "grid_template_areas": null,
            "object_position": null,
            "object_fit": null,
            "grid_auto_columns": null,
            "margin": null,
            "display": null,
            "left": null
          }
        },
        "56d831b73f994342ade30e0bb087106e": {
          "model_module": "@jupyter-widgets/controls",
          "model_name": "HTMLModel",
          "model_module_version": "1.5.0",
          "state": {
            "_view_name": "HTMLView",
            "style": "IPY_MODEL_571db74d97544ba3a26f110426a1ed0e",
            "_dom_classes": [],
            "description": "",
            "_model_name": "HTMLModel",
            "placeholder": "​",
            "_view_module": "@jupyter-widgets/controls",
            "_model_module_version": "1.5.0",
            "value": "Downloading: 100%",
            "_view_count": null,
            "_view_module_version": "1.5.0",
            "description_tooltip": null,
            "_model_module": "@jupyter-widgets/controls",
            "layout": "IPY_MODEL_0622647e9a3f4da28a4208e63df5b026"
          }
        },
        "ef88cf72d2494a5b8cf2fdc23ee61d36": {
          "model_module": "@jupyter-widgets/controls",
          "model_name": "FloatProgressModel",
          "model_module_version": "1.5.0",
          "state": {
            "_view_name": "ProgressView",
            "style": "IPY_MODEL_11587e8628c2477a8014076002868409",
            "_dom_classes": [],
            "description": "",
            "_model_name": "FloatProgressModel",
            "bar_style": "success",
            "max": 456318,
            "_view_module": "@jupyter-widgets/controls",
            "_model_module_version": "1.5.0",
            "value": 456318,
            "_view_count": null,
            "_view_module_version": "1.5.0",
            "orientation": "horizontal",
            "min": 0,
            "description_tooltip": null,
            "_model_module": "@jupyter-widgets/controls",
            "layout": "IPY_MODEL_a9f9fadb3df145469b5f223cbcd06662"
          }
        },
        "097daca2e3d24cbd903c01c0c957c2ab": {
          "model_module": "@jupyter-widgets/controls",
          "model_name": "HTMLModel",
          "model_module_version": "1.5.0",
          "state": {
            "_view_name": "HTMLView",
            "style": "IPY_MODEL_3a4cd0984f634565b1510eef3a79860a",
            "_dom_classes": [],
            "description": "",
            "_model_name": "HTMLModel",
            "placeholder": "​",
            "_view_module": "@jupyter-widgets/controls",
            "_model_module_version": "1.5.0",
            "value": " 456k/456k [00:00&lt;00:00, 1.48MB/s]",
            "_view_count": null,
            "_view_module_version": "1.5.0",
            "description_tooltip": null,
            "_model_module": "@jupyter-widgets/controls",
            "layout": "IPY_MODEL_a3efc2fe5b91454bbb07fed39ae576a2"
          }
        },
        "571db74d97544ba3a26f110426a1ed0e": {
          "model_module": "@jupyter-widgets/controls",
          "model_name": "DescriptionStyleModel",
          "model_module_version": "1.5.0",
          "state": {
            "_view_name": "StyleView",
            "_model_name": "DescriptionStyleModel",
            "description_width": "",
            "_view_module": "@jupyter-widgets/base",
            "_model_module_version": "1.5.0",
            "_view_count": null,
            "_view_module_version": "1.2.0",
            "_model_module": "@jupyter-widgets/controls"
          }
        },
        "0622647e9a3f4da28a4208e63df5b026": {
          "model_module": "@jupyter-widgets/base",
          "model_name": "LayoutModel",
          "model_module_version": "1.2.0",
          "state": {
            "_view_name": "LayoutView",
            "grid_template_rows": null,
            "right": null,
            "justify_content": null,
            "_view_module": "@jupyter-widgets/base",
            "overflow": null,
            "_model_module_version": "1.2.0",
            "_view_count": null,
            "flex_flow": null,
            "width": null,
            "min_width": null,
            "border": null,
            "align_items": null,
            "bottom": null,
            "_model_module": "@jupyter-widgets/base",
            "top": null,
            "grid_column": null,
            "overflow_y": null,
            "overflow_x": null,
            "grid_auto_flow": null,
            "grid_area": null,
            "grid_template_columns": null,
            "flex": null,
            "_model_name": "LayoutModel",
            "justify_items": null,
            "grid_row": null,
            "max_height": null,
            "align_content": null,
            "visibility": null,
            "align_self": null,
            "height": null,
            "min_height": null,
            "padding": null,
            "grid_auto_rows": null,
            "grid_gap": null,
            "max_width": null,
            "order": null,
            "_view_module_version": "1.2.0",
            "grid_template_areas": null,
            "object_position": null,
            "object_fit": null,
            "grid_auto_columns": null,
            "margin": null,
            "display": null,
            "left": null
          }
        },
        "11587e8628c2477a8014076002868409": {
          "model_module": "@jupyter-widgets/controls",
          "model_name": "ProgressStyleModel",
          "model_module_version": "1.5.0",
          "state": {
            "_view_name": "StyleView",
            "_model_name": "ProgressStyleModel",
            "description_width": "",
            "_view_module": "@jupyter-widgets/base",
            "_model_module_version": "1.5.0",
            "_view_count": null,
            "_view_module_version": "1.2.0",
            "bar_color": null,
            "_model_module": "@jupyter-widgets/controls"
          }
        },
        "a9f9fadb3df145469b5f223cbcd06662": {
          "model_module": "@jupyter-widgets/base",
          "model_name": "LayoutModel",
          "model_module_version": "1.2.0",
          "state": {
            "_view_name": "LayoutView",
            "grid_template_rows": null,
            "right": null,
            "justify_content": null,
            "_view_module": "@jupyter-widgets/base",
            "overflow": null,
            "_model_module_version": "1.2.0",
            "_view_count": null,
            "flex_flow": null,
            "width": null,
            "min_width": null,
            "border": null,
            "align_items": null,
            "bottom": null,
            "_model_module": "@jupyter-widgets/base",
            "top": null,
            "grid_column": null,
            "overflow_y": null,
            "overflow_x": null,
            "grid_auto_flow": null,
            "grid_area": null,
            "grid_template_columns": null,
            "flex": null,
            "_model_name": "LayoutModel",
            "justify_items": null,
            "grid_row": null,
            "max_height": null,
            "align_content": null,
            "visibility": null,
            "align_self": null,
            "height": null,
            "min_height": null,
            "padding": null,
            "grid_auto_rows": null,
            "grid_gap": null,
            "max_width": null,
            "order": null,
            "_view_module_version": "1.2.0",
            "grid_template_areas": null,
            "object_position": null,
            "object_fit": null,
            "grid_auto_columns": null,
            "margin": null,
            "display": null,
            "left": null
          }
        },
        "3a4cd0984f634565b1510eef3a79860a": {
          "model_module": "@jupyter-widgets/controls",
          "model_name": "DescriptionStyleModel",
          "model_module_version": "1.5.0",
          "state": {
            "_view_name": "StyleView",
            "_model_name": "DescriptionStyleModel",
            "description_width": "",
            "_view_module": "@jupyter-widgets/base",
            "_model_module_version": "1.5.0",
            "_view_count": null,
            "_view_module_version": "1.2.0",
            "_model_module": "@jupyter-widgets/controls"
          }
        },
        "a3efc2fe5b91454bbb07fed39ae576a2": {
          "model_module": "@jupyter-widgets/base",
          "model_name": "LayoutModel",
          "model_module_version": "1.2.0",
          "state": {
            "_view_name": "LayoutView",
            "grid_template_rows": null,
            "right": null,
            "justify_content": null,
            "_view_module": "@jupyter-widgets/base",
            "overflow": null,
            "_model_module_version": "1.2.0",
            "_view_count": null,
            "flex_flow": null,
            "width": null,
            "min_width": null,
            "border": null,
            "align_items": null,
            "bottom": null,
            "_model_module": "@jupyter-widgets/base",
            "top": null,
            "grid_column": null,
            "overflow_y": null,
            "overflow_x": null,
            "grid_auto_flow": null,
            "grid_area": null,
            "grid_template_columns": null,
            "flex": null,
            "_model_name": "LayoutModel",
            "justify_items": null,
            "grid_row": null,
            "max_height": null,
            "align_content": null,
            "visibility": null,
            "align_self": null,
            "height": null,
            "min_height": null,
            "padding": null,
            "grid_auto_rows": null,
            "grid_gap": null,
            "max_width": null,
            "order": null,
            "_view_module_version": "1.2.0",
            "grid_template_areas": null,
            "object_position": null,
            "object_fit": null,
            "grid_auto_columns": null,
            "margin": null,
            "display": null,
            "left": null
          }
        },
        "c650ebfe1de547bdbebfe492e28452a4": {
          "model_module": "@jupyter-widgets/controls",
          "model_name": "HBoxModel",
          "model_module_version": "1.5.0",
          "state": {
            "_view_name": "HBoxView",
            "_dom_classes": [],
            "_model_name": "HBoxModel",
            "_view_module": "@jupyter-widgets/controls",
            "_model_module_version": "1.5.0",
            "_view_count": null,
            "_view_module_version": "1.5.0",
            "box_style": "",
            "layout": "IPY_MODEL_819a07b5802f4031aac1a4916ce1b3dd",
            "_model_module": "@jupyter-widgets/controls",
            "children": [
              "IPY_MODEL_d0159babad5349d9b24f4ffd0f9ff662",
              "IPY_MODEL_aebb1dd11ea14434aefa2d51b02d4c28",
              "IPY_MODEL_2c278c6492d14018873d608a2fac031c"
            ]
          }
        },
        "819a07b5802f4031aac1a4916ce1b3dd": {
          "model_module": "@jupyter-widgets/base",
          "model_name": "LayoutModel",
          "model_module_version": "1.2.0",
          "state": {
            "_view_name": "LayoutView",
            "grid_template_rows": null,
            "right": null,
            "justify_content": null,
            "_view_module": "@jupyter-widgets/base",
            "overflow": null,
            "_model_module_version": "1.2.0",
            "_view_count": null,
            "flex_flow": null,
            "width": null,
            "min_width": null,
            "border": null,
            "align_items": null,
            "bottom": null,
            "_model_module": "@jupyter-widgets/base",
            "top": null,
            "grid_column": null,
            "overflow_y": null,
            "overflow_x": null,
            "grid_auto_flow": null,
            "grid_area": null,
            "grid_template_columns": null,
            "flex": null,
            "_model_name": "LayoutModel",
            "justify_items": null,
            "grid_row": null,
            "max_height": null,
            "align_content": null,
            "visibility": null,
            "align_self": null,
            "height": null,
            "min_height": null,
            "padding": null,
            "grid_auto_rows": null,
            "grid_gap": null,
            "max_width": null,
            "order": null,
            "_view_module_version": "1.2.0",
            "grid_template_areas": null,
            "object_position": null,
            "object_fit": null,
            "grid_auto_columns": null,
            "margin": null,
            "display": null,
            "left": null
          }
        },
        "d0159babad5349d9b24f4ffd0f9ff662": {
          "model_module": "@jupyter-widgets/controls",
          "model_name": "HTMLModel",
          "model_module_version": "1.5.0",
          "state": {
            "_view_name": "HTMLView",
            "style": "IPY_MODEL_a0688635bb0b4fcbbea83fd612872ceb",
            "_dom_classes": [],
            "description": "",
            "_model_name": "HTMLModel",
            "placeholder": "​",
            "_view_module": "@jupyter-widgets/controls",
            "_model_module_version": "1.5.0",
            "value": "Downloading: 100%",
            "_view_count": null,
            "_view_module_version": "1.5.0",
            "description_tooltip": null,
            "_model_module": "@jupyter-widgets/controls",
            "layout": "IPY_MODEL_988f46e22a7b42008d01352f339f3ce8"
          }
        },
        "aebb1dd11ea14434aefa2d51b02d4c28": {
          "model_module": "@jupyter-widgets/controls",
          "model_name": "FloatProgressModel",
          "model_module_version": "1.5.0",
          "state": {
            "_view_name": "ProgressView",
            "style": "IPY_MODEL_28dfc6faebad4e4bb20462b8a2fb9d53",
            "_dom_classes": [],
            "description": "",
            "_model_name": "FloatProgressModel",
            "bar_style": "success",
            "max": 1355256,
            "_view_module": "@jupyter-widgets/controls",
            "_model_module_version": "1.5.0",
            "value": 1355256,
            "_view_count": null,
            "_view_module_version": "1.5.0",
            "orientation": "horizontal",
            "min": 0,
            "description_tooltip": null,
            "_model_module": "@jupyter-widgets/controls",
            "layout": "IPY_MODEL_eae80bde1f3e4bbcac09a2cc56ef9eba"
          }
        },
        "2c278c6492d14018873d608a2fac031c": {
          "model_module": "@jupyter-widgets/controls",
          "model_name": "HTMLModel",
          "model_module_version": "1.5.0",
          "state": {
            "_view_name": "HTMLView",
            "style": "IPY_MODEL_d3bc787c7ae741008b8118bd085f47f8",
            "_dom_classes": [],
            "description": "",
            "_model_name": "HTMLModel",
            "placeholder": "​",
            "_view_module": "@jupyter-widgets/controls",
            "_model_module_version": "1.5.0",
            "value": " 1.36M/1.36M [00:00&lt;00:00, 4.62MB/s]",
            "_view_count": null,
            "_view_module_version": "1.5.0",
            "description_tooltip": null,
            "_model_module": "@jupyter-widgets/controls",
            "layout": "IPY_MODEL_c2d06aca041e4b01b2f6fe53d64171b5"
          }
        },
        "a0688635bb0b4fcbbea83fd612872ceb": {
          "model_module": "@jupyter-widgets/controls",
          "model_name": "DescriptionStyleModel",
          "model_module_version": "1.5.0",
          "state": {
            "_view_name": "StyleView",
            "_model_name": "DescriptionStyleModel",
            "description_width": "",
            "_view_module": "@jupyter-widgets/base",
            "_model_module_version": "1.5.0",
            "_view_count": null,
            "_view_module_version": "1.2.0",
            "_model_module": "@jupyter-widgets/controls"
          }
        },
        "988f46e22a7b42008d01352f339f3ce8": {
          "model_module": "@jupyter-widgets/base",
          "model_name": "LayoutModel",
          "model_module_version": "1.2.0",
          "state": {
            "_view_name": "LayoutView",
            "grid_template_rows": null,
            "right": null,
            "justify_content": null,
            "_view_module": "@jupyter-widgets/base",
            "overflow": null,
            "_model_module_version": "1.2.0",
            "_view_count": null,
            "flex_flow": null,
            "width": null,
            "min_width": null,
            "border": null,
            "align_items": null,
            "bottom": null,
            "_model_module": "@jupyter-widgets/base",
            "top": null,
            "grid_column": null,
            "overflow_y": null,
            "overflow_x": null,
            "grid_auto_flow": null,
            "grid_area": null,
            "grid_template_columns": null,
            "flex": null,
            "_model_name": "LayoutModel",
            "justify_items": null,
            "grid_row": null,
            "max_height": null,
            "align_content": null,
            "visibility": null,
            "align_self": null,
            "height": null,
            "min_height": null,
            "padding": null,
            "grid_auto_rows": null,
            "grid_gap": null,
            "max_width": null,
            "order": null,
            "_view_module_version": "1.2.0",
            "grid_template_areas": null,
            "object_position": null,
            "object_fit": null,
            "grid_auto_columns": null,
            "margin": null,
            "display": null,
            "left": null
          }
        },
        "28dfc6faebad4e4bb20462b8a2fb9d53": {
          "model_module": "@jupyter-widgets/controls",
          "model_name": "ProgressStyleModel",
          "model_module_version": "1.5.0",
          "state": {
            "_view_name": "StyleView",
            "_model_name": "ProgressStyleModel",
            "description_width": "",
            "_view_module": "@jupyter-widgets/base",
            "_model_module_version": "1.5.0",
            "_view_count": null,
            "_view_module_version": "1.2.0",
            "bar_color": null,
            "_model_module": "@jupyter-widgets/controls"
          }
        },
        "eae80bde1f3e4bbcac09a2cc56ef9eba": {
          "model_module": "@jupyter-widgets/base",
          "model_name": "LayoutModel",
          "model_module_version": "1.2.0",
          "state": {
            "_view_name": "LayoutView",
            "grid_template_rows": null,
            "right": null,
            "justify_content": null,
            "_view_module": "@jupyter-widgets/base",
            "overflow": null,
            "_model_module_version": "1.2.0",
            "_view_count": null,
            "flex_flow": null,
            "width": null,
            "min_width": null,
            "border": null,
            "align_items": null,
            "bottom": null,
            "_model_module": "@jupyter-widgets/base",
            "top": null,
            "grid_column": null,
            "overflow_y": null,
            "overflow_x": null,
            "grid_auto_flow": null,
            "grid_area": null,
            "grid_template_columns": null,
            "flex": null,
            "_model_name": "LayoutModel",
            "justify_items": null,
            "grid_row": null,
            "max_height": null,
            "align_content": null,
            "visibility": null,
            "align_self": null,
            "height": null,
            "min_height": null,
            "padding": null,
            "grid_auto_rows": null,
            "grid_gap": null,
            "max_width": null,
            "order": null,
            "_view_module_version": "1.2.0",
            "grid_template_areas": null,
            "object_position": null,
            "object_fit": null,
            "grid_auto_columns": null,
            "margin": null,
            "display": null,
            "left": null
          }
        },
        "d3bc787c7ae741008b8118bd085f47f8": {
          "model_module": "@jupyter-widgets/controls",
          "model_name": "DescriptionStyleModel",
          "model_module_version": "1.5.0",
          "state": {
            "_view_name": "StyleView",
            "_model_name": "DescriptionStyleModel",
            "description_width": "",
            "_view_module": "@jupyter-widgets/base",
            "_model_module_version": "1.5.0",
            "_view_count": null,
            "_view_module_version": "1.2.0",
            "_model_module": "@jupyter-widgets/controls"
          }
        },
        "c2d06aca041e4b01b2f6fe53d64171b5": {
          "model_module": "@jupyter-widgets/base",
          "model_name": "LayoutModel",
          "model_module_version": "1.2.0",
          "state": {
            "_view_name": "LayoutView",
            "grid_template_rows": null,
            "right": null,
            "justify_content": null,
            "_view_module": "@jupyter-widgets/base",
            "overflow": null,
            "_model_module_version": "1.2.0",
            "_view_count": null,
            "flex_flow": null,
            "width": null,
            "min_width": null,
            "border": null,
            "align_items": null,
            "bottom": null,
            "_model_module": "@jupyter-widgets/base",
            "top": null,
            "grid_column": null,
            "overflow_y": null,
            "overflow_x": null,
            "grid_auto_flow": null,
            "grid_area": null,
            "grid_template_columns": null,
            "flex": null,
            "_model_name": "LayoutModel",
            "justify_items": null,
            "grid_row": null,
            "max_height": null,
            "align_content": null,
            "visibility": null,
            "align_self": null,
            "height": null,
            "min_height": null,
            "padding": null,
            "grid_auto_rows": null,
            "grid_gap": null,
            "max_width": null,
            "order": null,
            "_view_module_version": "1.2.0",
            "grid_template_areas": null,
            "object_position": null,
            "object_fit": null,
            "grid_auto_columns": null,
            "margin": null,
            "display": null,
            "left": null
          }
        },
        "b3f65d02423448ba8035186a78d521fe": {
          "model_module": "@jupyter-widgets/controls",
          "model_name": "HBoxModel",
          "model_module_version": "1.5.0",
          "state": {
            "_view_name": "HBoxView",
            "_dom_classes": [],
            "_model_name": "HBoxModel",
            "_view_module": "@jupyter-widgets/controls",
            "_model_module_version": "1.5.0",
            "_view_count": null,
            "_view_module_version": "1.5.0",
            "box_style": "",
            "layout": "IPY_MODEL_bc7ba4bfe5684a9f9e13d7e4308bbeea",
            "_model_module": "@jupyter-widgets/controls",
            "children": [
              "IPY_MODEL_e44e654c38574098b2930bf639de8997",
              "IPY_MODEL_65a3d17b7e92496883642397ca2d9c05",
              "IPY_MODEL_1e491b52f49e4578a431c5a9ad2a3d29"
            ]
          }
        },
        "bc7ba4bfe5684a9f9e13d7e4308bbeea": {
          "model_module": "@jupyter-widgets/base",
          "model_name": "LayoutModel",
          "model_module_version": "1.2.0",
          "state": {
            "_view_name": "LayoutView",
            "grid_template_rows": null,
            "right": null,
            "justify_content": null,
            "_view_module": "@jupyter-widgets/base",
            "overflow": null,
            "_model_module_version": "1.2.0",
            "_view_count": null,
            "flex_flow": null,
            "width": null,
            "min_width": null,
            "border": null,
            "align_items": null,
            "bottom": null,
            "_model_module": "@jupyter-widgets/base",
            "top": null,
            "grid_column": null,
            "overflow_y": null,
            "overflow_x": null,
            "grid_auto_flow": null,
            "grid_area": null,
            "grid_template_columns": null,
            "flex": null,
            "_model_name": "LayoutModel",
            "justify_items": null,
            "grid_row": null,
            "max_height": null,
            "align_content": null,
            "visibility": null,
            "align_self": null,
            "height": null,
            "min_height": null,
            "padding": null,
            "grid_auto_rows": null,
            "grid_gap": null,
            "max_width": null,
            "order": null,
            "_view_module_version": "1.2.0",
            "grid_template_areas": null,
            "object_position": null,
            "object_fit": null,
            "grid_auto_columns": null,
            "margin": null,
            "display": null,
            "left": null
          }
        },
        "e44e654c38574098b2930bf639de8997": {
          "model_module": "@jupyter-widgets/controls",
          "model_name": "HTMLModel",
          "model_module_version": "1.5.0",
          "state": {
            "_view_name": "HTMLView",
            "style": "IPY_MODEL_e059684665f24d22bd80ff167ad362ef",
            "_dom_classes": [],
            "description": "",
            "_model_name": "HTMLModel",
            "placeholder": "​",
            "_view_module": "@jupyter-widgets/controls",
            "_model_module_version": "1.5.0",
            "value": "Downloading: 100%",
            "_view_count": null,
            "_view_module_version": "1.5.0",
            "description_tooltip": null,
            "_model_module": "@jupyter-widgets/controls",
            "layout": "IPY_MODEL_eb172694edb74b67922c97c217e978fa"
          }
        },
        "65a3d17b7e92496883642397ca2d9c05": {
          "model_module": "@jupyter-widgets/controls",
          "model_name": "FloatProgressModel",
          "model_module_version": "1.5.0",
          "state": {
            "_view_name": "ProgressView",
            "style": "IPY_MODEL_a4a702445bcb4547932fc0b82607878e",
            "_dom_classes": [],
            "description": "",
            "_model_name": "FloatProgressModel",
            "bar_style": "success",
            "max": 1007,
            "_view_module": "@jupyter-widgets/controls",
            "_model_module_version": "1.5.0",
            "value": 1007,
            "_view_count": null,
            "_view_module_version": "1.5.0",
            "orientation": "horizontal",
            "min": 0,
            "description_tooltip": null,
            "_model_module": "@jupyter-widgets/controls",
            "layout": "IPY_MODEL_8ca3af5f836e4a27a7a9272544fdadfc"
          }
        },
        "1e491b52f49e4578a431c5a9ad2a3d29": {
          "model_module": "@jupyter-widgets/controls",
          "model_name": "HTMLModel",
          "model_module_version": "1.5.0",
          "state": {
            "_view_name": "HTMLView",
            "style": "IPY_MODEL_8045228d8d004d81b284c79a52f97d29",
            "_dom_classes": [],
            "description": "",
            "_model_name": "HTMLModel",
            "placeholder": "​",
            "_view_module": "@jupyter-widgets/controls",
            "_model_module_version": "1.5.0",
            "value": " 1.01k/1.01k [00:00&lt;00:00, 26.5kB/s]",
            "_view_count": null,
            "_view_module_version": "1.5.0",
            "description_tooltip": null,
            "_model_module": "@jupyter-widgets/controls",
            "layout": "IPY_MODEL_98976ac673c046dda6fec6c341b5ce48"
          }
        },
        "e059684665f24d22bd80ff167ad362ef": {
          "model_module": "@jupyter-widgets/controls",
          "model_name": "DescriptionStyleModel",
          "model_module_version": "1.5.0",
          "state": {
            "_view_name": "StyleView",
            "_model_name": "DescriptionStyleModel",
            "description_width": "",
            "_view_module": "@jupyter-widgets/base",
            "_model_module_version": "1.5.0",
            "_view_count": null,
            "_view_module_version": "1.2.0",
            "_model_module": "@jupyter-widgets/controls"
          }
        },
        "eb172694edb74b67922c97c217e978fa": {
          "model_module": "@jupyter-widgets/base",
          "model_name": "LayoutModel",
          "model_module_version": "1.2.0",
          "state": {
            "_view_name": "LayoutView",
            "grid_template_rows": null,
            "right": null,
            "justify_content": null,
            "_view_module": "@jupyter-widgets/base",
            "overflow": null,
            "_model_module_version": "1.2.0",
            "_view_count": null,
            "flex_flow": null,
            "width": null,
            "min_width": null,
            "border": null,
            "align_items": null,
            "bottom": null,
            "_model_module": "@jupyter-widgets/base",
            "top": null,
            "grid_column": null,
            "overflow_y": null,
            "overflow_x": null,
            "grid_auto_flow": null,
            "grid_area": null,
            "grid_template_columns": null,
            "flex": null,
            "_model_name": "LayoutModel",
            "justify_items": null,
            "grid_row": null,
            "max_height": null,
            "align_content": null,
            "visibility": null,
            "align_self": null,
            "height": null,
            "min_height": null,
            "padding": null,
            "grid_auto_rows": null,
            "grid_gap": null,
            "max_width": null,
            "order": null,
            "_view_module_version": "1.2.0",
            "grid_template_areas": null,
            "object_position": null,
            "object_fit": null,
            "grid_auto_columns": null,
            "margin": null,
            "display": null,
            "left": null
          }
        },
        "a4a702445bcb4547932fc0b82607878e": {
          "model_module": "@jupyter-widgets/controls",
          "model_name": "ProgressStyleModel",
          "model_module_version": "1.5.0",
          "state": {
            "_view_name": "StyleView",
            "_model_name": "ProgressStyleModel",
            "description_width": "",
            "_view_module": "@jupyter-widgets/base",
            "_model_module_version": "1.5.0",
            "_view_count": null,
            "_view_module_version": "1.2.0",
            "bar_color": null,
            "_model_module": "@jupyter-widgets/controls"
          }
        },
        "8ca3af5f836e4a27a7a9272544fdadfc": {
          "model_module": "@jupyter-widgets/base",
          "model_name": "LayoutModel",
          "model_module_version": "1.2.0",
          "state": {
            "_view_name": "LayoutView",
            "grid_template_rows": null,
            "right": null,
            "justify_content": null,
            "_view_module": "@jupyter-widgets/base",
            "overflow": null,
            "_model_module_version": "1.2.0",
            "_view_count": null,
            "flex_flow": null,
            "width": null,
            "min_width": null,
            "border": null,
            "align_items": null,
            "bottom": null,
            "_model_module": "@jupyter-widgets/base",
            "top": null,
            "grid_column": null,
            "overflow_y": null,
            "overflow_x": null,
            "grid_auto_flow": null,
            "grid_area": null,
            "grid_template_columns": null,
            "flex": null,
            "_model_name": "LayoutModel",
            "justify_items": null,
            "grid_row": null,
            "max_height": null,
            "align_content": null,
            "visibility": null,
            "align_self": null,
            "height": null,
            "min_height": null,
            "padding": null,
            "grid_auto_rows": null,
            "grid_gap": null,
            "max_width": null,
            "order": null,
            "_view_module_version": "1.2.0",
            "grid_template_areas": null,
            "object_position": null,
            "object_fit": null,
            "grid_auto_columns": null,
            "margin": null,
            "display": null,
            "left": null
          }
        },
        "8045228d8d004d81b284c79a52f97d29": {
          "model_module": "@jupyter-widgets/controls",
          "model_name": "DescriptionStyleModel",
          "model_module_version": "1.5.0",
          "state": {
            "_view_name": "StyleView",
            "_model_name": "DescriptionStyleModel",
            "description_width": "",
            "_view_module": "@jupyter-widgets/base",
            "_model_module_version": "1.5.0",
            "_view_count": null,
            "_view_module_version": "1.2.0",
            "_model_module": "@jupyter-widgets/controls"
          }
        },
        "98976ac673c046dda6fec6c341b5ce48": {
          "model_module": "@jupyter-widgets/base",
          "model_name": "LayoutModel",
          "model_module_version": "1.2.0",
          "state": {
            "_view_name": "LayoutView",
            "grid_template_rows": null,
            "right": null,
            "justify_content": null,
            "_view_module": "@jupyter-widgets/base",
            "overflow": null,
            "_model_module_version": "1.2.0",
            "_view_count": null,
            "flex_flow": null,
            "width": null,
            "min_width": null,
            "border": null,
            "align_items": null,
            "bottom": null,
            "_model_module": "@jupyter-widgets/base",
            "top": null,
            "grid_column": null,
            "overflow_y": null,
            "overflow_x": null,
            "grid_auto_flow": null,
            "grid_area": null,
            "grid_template_columns": null,
            "flex": null,
            "_model_name": "LayoutModel",
            "justify_items": null,
            "grid_row": null,
            "max_height": null,
            "align_content": null,
            "visibility": null,
            "align_self": null,
            "height": null,
            "min_height": null,
            "padding": null,
            "grid_auto_rows": null,
            "grid_gap": null,
            "max_width": null,
            "order": null,
            "_view_module_version": "1.2.0",
            "grid_template_areas": null,
            "object_position": null,
            "object_fit": null,
            "grid_auto_columns": null,
            "margin": null,
            "display": null,
            "left": null
          }
        },
        "49888523c1a4494b96441b3c981fa186": {
          "model_module": "@jupyter-widgets/controls",
          "model_name": "HBoxModel",
          "model_module_version": "1.5.0",
          "state": {
            "_view_name": "HBoxView",
            "_dom_classes": [],
            "_model_name": "HBoxModel",
            "_view_module": "@jupyter-widgets/controls",
            "_model_module_version": "1.5.0",
            "_view_count": null,
            "_view_module_version": "1.5.0",
            "box_style": "",
            "layout": "IPY_MODEL_00eb6c1fe2c049f090ce18a366383bbe",
            "_model_module": "@jupyter-widgets/controls",
            "children": [
              "IPY_MODEL_3480223bf3744e7db9107f027152c840",
              "IPY_MODEL_d73712fe7126403b83296e6a113c4973",
              "IPY_MODEL_6e2fbe705d20476d88b647d918913b7c"
            ]
          }
        },
        "00eb6c1fe2c049f090ce18a366383bbe": {
          "model_module": "@jupyter-widgets/base",
          "model_name": "LayoutModel",
          "model_module_version": "1.2.0",
          "state": {
            "_view_name": "LayoutView",
            "grid_template_rows": null,
            "right": null,
            "justify_content": null,
            "_view_module": "@jupyter-widgets/base",
            "overflow": null,
            "_model_module_version": "1.2.0",
            "_view_count": null,
            "flex_flow": null,
            "width": null,
            "min_width": null,
            "border": null,
            "align_items": null,
            "bottom": null,
            "_model_module": "@jupyter-widgets/base",
            "top": null,
            "grid_column": null,
            "overflow_y": null,
            "overflow_x": null,
            "grid_auto_flow": null,
            "grid_area": null,
            "grid_template_columns": null,
            "flex": null,
            "_model_name": "LayoutModel",
            "justify_items": null,
            "grid_row": null,
            "max_height": null,
            "align_content": null,
            "visibility": null,
            "align_self": null,
            "height": null,
            "min_height": null,
            "padding": null,
            "grid_auto_rows": null,
            "grid_gap": null,
            "max_width": null,
            "order": null,
            "_view_module_version": "1.2.0",
            "grid_template_areas": null,
            "object_position": null,
            "object_fit": null,
            "grid_auto_columns": null,
            "margin": null,
            "display": null,
            "left": null
          }
        },
        "3480223bf3744e7db9107f027152c840": {
          "model_module": "@jupyter-widgets/controls",
          "model_name": "HTMLModel",
          "model_module_version": "1.5.0",
          "state": {
            "_view_name": "HTMLView",
            "style": "IPY_MODEL_f74a108a352144888c3a2b2d0b4af365",
            "_dom_classes": [],
            "description": "",
            "_model_name": "HTMLModel",
            "placeholder": "​",
            "_view_module": "@jupyter-widgets/controls",
            "_model_module_version": "1.5.0",
            "value": "Downloading: 100%",
            "_view_count": null,
            "_view_module_version": "1.5.0",
            "description_tooltip": null,
            "_model_module": "@jupyter-widgets/controls",
            "layout": "IPY_MODEL_50aff9a98148401a99af877e1abd9f72"
          }
        },
        "d73712fe7126403b83296e6a113c4973": {
          "model_module": "@jupyter-widgets/controls",
          "model_name": "FloatProgressModel",
          "model_module_version": "1.5.0",
          "state": {
            "_view_name": "ProgressView",
            "style": "IPY_MODEL_5d3eccb0599440d7aaddef1593834ebb",
            "_dom_classes": [],
            "description": "",
            "_model_name": "FloatProgressModel",
            "bar_style": "success",
            "max": 526017373,
            "_view_module": "@jupyter-widgets/controls",
            "_model_module_version": "1.5.0",
            "value": 526017373,
            "_view_count": null,
            "_view_module_version": "1.5.0",
            "orientation": "horizontal",
            "min": 0,
            "description_tooltip": null,
            "_model_module": "@jupyter-widgets/controls",
            "layout": "IPY_MODEL_d7e374c0e4aa4a0a9b5e4ef739d180a4"
          }
        },
        "6e2fbe705d20476d88b647d918913b7c": {
          "model_module": "@jupyter-widgets/controls",
          "model_name": "HTMLModel",
          "model_module_version": "1.5.0",
          "state": {
            "_view_name": "HTMLView",
            "style": "IPY_MODEL_f4c22284a3da42a0b601b5b34b894216",
            "_dom_classes": [],
            "description": "",
            "_model_name": "HTMLModel",
            "placeholder": "​",
            "_view_module": "@jupyter-widgets/controls",
            "_model_module_version": "1.5.0",
            "value": " 526M/526M [00:10&lt;00:00, 51.5MB/s]",
            "_view_count": null,
            "_view_module_version": "1.5.0",
            "description_tooltip": null,
            "_model_module": "@jupyter-widgets/controls",
            "layout": "IPY_MODEL_6a11028cdc4f4deeb76b2f7a371ff977"
          }
        },
        "f74a108a352144888c3a2b2d0b4af365": {
          "model_module": "@jupyter-widgets/controls",
          "model_name": "DescriptionStyleModel",
          "model_module_version": "1.5.0",
          "state": {
            "_view_name": "StyleView",
            "_model_name": "DescriptionStyleModel",
            "description_width": "",
            "_view_module": "@jupyter-widgets/base",
            "_model_module_version": "1.5.0",
            "_view_count": null,
            "_view_module_version": "1.2.0",
            "_model_module": "@jupyter-widgets/controls"
          }
        },
        "50aff9a98148401a99af877e1abd9f72": {
          "model_module": "@jupyter-widgets/base",
          "model_name": "LayoutModel",
          "model_module_version": "1.2.0",
          "state": {
            "_view_name": "LayoutView",
            "grid_template_rows": null,
            "right": null,
            "justify_content": null,
            "_view_module": "@jupyter-widgets/base",
            "overflow": null,
            "_model_module_version": "1.2.0",
            "_view_count": null,
            "flex_flow": null,
            "width": null,
            "min_width": null,
            "border": null,
            "align_items": null,
            "bottom": null,
            "_model_module": "@jupyter-widgets/base",
            "top": null,
            "grid_column": null,
            "overflow_y": null,
            "overflow_x": null,
            "grid_auto_flow": null,
            "grid_area": null,
            "grid_template_columns": null,
            "flex": null,
            "_model_name": "LayoutModel",
            "justify_items": null,
            "grid_row": null,
            "max_height": null,
            "align_content": null,
            "visibility": null,
            "align_self": null,
            "height": null,
            "min_height": null,
            "padding": null,
            "grid_auto_rows": null,
            "grid_gap": null,
            "max_width": null,
            "order": null,
            "_view_module_version": "1.2.0",
            "grid_template_areas": null,
            "object_position": null,
            "object_fit": null,
            "grid_auto_columns": null,
            "margin": null,
            "display": null,
            "left": null
          }
        },
        "5d3eccb0599440d7aaddef1593834ebb": {
          "model_module": "@jupyter-widgets/controls",
          "model_name": "ProgressStyleModel",
          "model_module_version": "1.5.0",
          "state": {
            "_view_name": "StyleView",
            "_model_name": "ProgressStyleModel",
            "description_width": "",
            "_view_module": "@jupyter-widgets/base",
            "_model_module_version": "1.5.0",
            "_view_count": null,
            "_view_module_version": "1.2.0",
            "bar_color": null,
            "_model_module": "@jupyter-widgets/controls"
          }
        },
        "d7e374c0e4aa4a0a9b5e4ef739d180a4": {
          "model_module": "@jupyter-widgets/base",
          "model_name": "LayoutModel",
          "model_module_version": "1.2.0",
          "state": {
            "_view_name": "LayoutView",
            "grid_template_rows": null,
            "right": null,
            "justify_content": null,
            "_view_module": "@jupyter-widgets/base",
            "overflow": null,
            "_model_module_version": "1.2.0",
            "_view_count": null,
            "flex_flow": null,
            "width": null,
            "min_width": null,
            "border": null,
            "align_items": null,
            "bottom": null,
            "_model_module": "@jupyter-widgets/base",
            "top": null,
            "grid_column": null,
            "overflow_y": null,
            "overflow_x": null,
            "grid_auto_flow": null,
            "grid_area": null,
            "grid_template_columns": null,
            "flex": null,
            "_model_name": "LayoutModel",
            "justify_items": null,
            "grid_row": null,
            "max_height": null,
            "align_content": null,
            "visibility": null,
            "align_self": null,
            "height": null,
            "min_height": null,
            "padding": null,
            "grid_auto_rows": null,
            "grid_gap": null,
            "max_width": null,
            "order": null,
            "_view_module_version": "1.2.0",
            "grid_template_areas": null,
            "object_position": null,
            "object_fit": null,
            "grid_auto_columns": null,
            "margin": null,
            "display": null,
            "left": null
          }
        },
        "f4c22284a3da42a0b601b5b34b894216": {
          "model_module": "@jupyter-widgets/controls",
          "model_name": "DescriptionStyleModel",
          "model_module_version": "1.5.0",
          "state": {
            "_view_name": "StyleView",
            "_model_name": "DescriptionStyleModel",
            "description_width": "",
            "_view_module": "@jupyter-widgets/base",
            "_model_module_version": "1.5.0",
            "_view_count": null,
            "_view_module_version": "1.2.0",
            "_model_module": "@jupyter-widgets/controls"
          }
        },
        "6a11028cdc4f4deeb76b2f7a371ff977": {
          "model_module": "@jupyter-widgets/base",
          "model_name": "LayoutModel",
          "model_module_version": "1.2.0",
          "state": {
            "_view_name": "LayoutView",
            "grid_template_rows": null,
            "right": null,
            "justify_content": null,
            "_view_module": "@jupyter-widgets/base",
            "overflow": null,
            "_model_module_version": "1.2.0",
            "_view_count": null,
            "flex_flow": null,
            "width": null,
            "min_width": null,
            "border": null,
            "align_items": null,
            "bottom": null,
            "_model_module": "@jupyter-widgets/base",
            "top": null,
            "grid_column": null,
            "overflow_y": null,
            "overflow_x": null,
            "grid_auto_flow": null,
            "grid_area": null,
            "grid_template_columns": null,
            "flex": null,
            "_model_name": "LayoutModel",
            "justify_items": null,
            "grid_row": null,
            "max_height": null,
            "align_content": null,
            "visibility": null,
            "align_self": null,
            "height": null,
            "min_height": null,
            "padding": null,
            "grid_auto_rows": null,
            "grid_gap": null,
            "max_width": null,
            "order": null,
            "_view_module_version": "1.2.0",
            "grid_template_areas": null,
            "object_position": null,
            "object_fit": null,
            "grid_auto_columns": null,
            "margin": null,
            "display": null,
            "left": null
          }
        }
      }
    }
  },
  "cells": [
    {
      "cell_type": "markdown",
      "source": [
        "<a href=\"https://colab.research.google.com/gist/stprior/3adb6b501ef5e1b98eca6e4a45b0c6bb/down-and-across.ipynb\" target=\"_parent\"><img src=\"https://colab.research.google.com/assets/colab-badge.svg\" alt=\"Open In Colab\"/></a>"
      ],
      "metadata": {
        "id": "view-in-github",
        "colab_type": "text"
      }
    },
    {
      "cell_type": "markdown",
      "source": [
        "# Introduction\r\n",
        "\r\n",
        "This is a copy of attribution-gpt-neo-125 to compare results from gpt2 with gpt-neo."
      ],
      "metadata": {
        "id": "QqLz_ymdJdMS"
      }
    },
    {
      "cell_type": "markdown",
      "source": [
        "# Setup\n"
      ],
      "metadata": {
        "id": "jDQnxD9ntcM0"
      }
    },
    {
      "cell_type": "markdown",
      "source": [
        "## Packages"
      ],
      "metadata": {
        "id": "poBs7paeuL7I"
      }
    },
    {
      "cell_type": "code",
      "execution_count": 2,
      "source": [
        "%pip install transformer_utils\r\n",
        "%pip install captum"
      ],
      "outputs": [
        {
          "output_type": "stream",
          "name": "stdout",
          "text": [
            "Collecting transformer_utils\n",
            "  Downloading transformer_utils-0.1.0-py3-none-any.whl (17 kB)\n",
            "Requirement already satisfied: torch in /usr/local/lib/python3.7/dist-packages (from transformer_utils) (1.9.0+cu102)\n",
            "Collecting transformers\n",
            "  Downloading transformers-4.9.2-py3-none-any.whl (2.6 MB)\n",
            "\u001b[K     |████████████████████████████████| 2.6 MB 10.0 MB/s \n",
            "\u001b[?25hRequirement already satisfied: seaborn in /usr/local/lib/python3.7/dist-packages (from transformer_utils) (0.11.1)\n",
            "Requirement already satisfied: tqdm in /usr/local/lib/python3.7/dist-packages (from transformer_utils) (4.62.0)\n",
            "Requirement already satisfied: scipy>=1.0 in /usr/local/lib/python3.7/dist-packages (from seaborn->transformer_utils) (1.4.1)\n",
            "Requirement already satisfied: matplotlib>=2.2 in /usr/local/lib/python3.7/dist-packages (from seaborn->transformer_utils) (3.2.2)\n",
            "Requirement already satisfied: pandas>=0.23 in /usr/local/lib/python3.7/dist-packages (from seaborn->transformer_utils) (1.1.5)\n",
            "Requirement already satisfied: numpy>=1.15 in /usr/local/lib/python3.7/dist-packages (from seaborn->transformer_utils) (1.19.5)\n",
            "Requirement already satisfied: kiwisolver>=1.0.1 in /usr/local/lib/python3.7/dist-packages (from matplotlib>=2.2->seaborn->transformer_utils) (1.3.1)\n",
            "Requirement already satisfied: pyparsing!=2.0.4,!=2.1.2,!=2.1.6,>=2.0.1 in /usr/local/lib/python3.7/dist-packages (from matplotlib>=2.2->seaborn->transformer_utils) (2.4.7)\n",
            "Requirement already satisfied: cycler>=0.10 in /usr/local/lib/python3.7/dist-packages (from matplotlib>=2.2->seaborn->transformer_utils) (0.10.0)\n",
            "Requirement already satisfied: python-dateutil>=2.1 in /usr/local/lib/python3.7/dist-packages (from matplotlib>=2.2->seaborn->transformer_utils) (2.8.2)\n",
            "Requirement already satisfied: six in /usr/local/lib/python3.7/dist-packages (from cycler>=0.10->matplotlib>=2.2->seaborn->transformer_utils) (1.15.0)\n",
            "Requirement already satisfied: pytz>=2017.2 in /usr/local/lib/python3.7/dist-packages (from pandas>=0.23->seaborn->transformer_utils) (2018.9)\n",
            "Requirement already satisfied: typing-extensions in /usr/local/lib/python3.7/dist-packages (from torch->transformer_utils) (3.7.4.3)\n",
            "Collecting pyyaml>=5.1\n",
            "  Downloading PyYAML-5.4.1-cp37-cp37m-manylinux1_x86_64.whl (636 kB)\n",
            "\u001b[K     |████████████████████████████████| 636 kB 70.7 MB/s \n",
            "\u001b[?25hRequirement already satisfied: regex!=2019.12.17 in /usr/local/lib/python3.7/dist-packages (from transformers->transformer_utils) (2019.12.20)\n",
            "Collecting huggingface-hub==0.0.12\n",
            "  Downloading huggingface_hub-0.0.12-py3-none-any.whl (37 kB)\n",
            "Requirement already satisfied: requests in /usr/local/lib/python3.7/dist-packages (from transformers->transformer_utils) (2.23.0)\n",
            "Requirement already satisfied: importlib-metadata in /usr/local/lib/python3.7/dist-packages (from transformers->transformer_utils) (4.6.3)\n",
            "Collecting tokenizers<0.11,>=0.10.1\n",
            "  Downloading tokenizers-0.10.3-cp37-cp37m-manylinux_2_5_x86_64.manylinux1_x86_64.manylinux_2_12_x86_64.manylinux2010_x86_64.whl (3.3 MB)\n",
            "\u001b[K     |████████████████████████████████| 3.3 MB 55.4 MB/s \n",
            "\u001b[?25hCollecting sacremoses\n",
            "  Downloading sacremoses-0.0.45-py3-none-any.whl (895 kB)\n",
            "\u001b[K     |████████████████████████████████| 895 kB 58.8 MB/s \n",
            "\u001b[?25hRequirement already satisfied: filelock in /usr/local/lib/python3.7/dist-packages (from transformers->transformer_utils) (3.0.12)\n",
            "Requirement already satisfied: packaging in /usr/local/lib/python3.7/dist-packages (from transformers->transformer_utils) (21.0)\n",
            "Requirement already satisfied: zipp>=0.5 in /usr/local/lib/python3.7/dist-packages (from importlib-metadata->transformers->transformer_utils) (3.5.0)\n",
            "Requirement already satisfied: chardet<4,>=3.0.2 in /usr/local/lib/python3.7/dist-packages (from requests->transformers->transformer_utils) (3.0.4)\n",
            "Requirement already satisfied: urllib3!=1.25.0,!=1.25.1,<1.26,>=1.21.1 in /usr/local/lib/python3.7/dist-packages (from requests->transformers->transformer_utils) (1.24.3)\n",
            "Requirement already satisfied: certifi>=2017.4.17 in /usr/local/lib/python3.7/dist-packages (from requests->transformers->transformer_utils) (2021.5.30)\n",
            "Requirement already satisfied: idna<3,>=2.5 in /usr/local/lib/python3.7/dist-packages (from requests->transformers->transformer_utils) (2.10)\n",
            "Requirement already satisfied: click in /usr/local/lib/python3.7/dist-packages (from sacremoses->transformers->transformer_utils) (7.1.2)\n",
            "Requirement already satisfied: joblib in /usr/local/lib/python3.7/dist-packages (from sacremoses->transformers->transformer_utils) (1.0.1)\n",
            "Installing collected packages: tokenizers, sacremoses, pyyaml, huggingface-hub, transformers, transformer-utils\n",
            "  Attempting uninstall: pyyaml\n",
            "    Found existing installation: PyYAML 3.13\n",
            "    Uninstalling PyYAML-3.13:\n",
            "      Successfully uninstalled PyYAML-3.13\n",
            "Successfully installed huggingface-hub-0.0.12 pyyaml-5.4.1 sacremoses-0.0.45 tokenizers-0.10.3 transformer-utils-0.1.0 transformers-4.9.2\n",
            "Collecting captum\n",
            "  Downloading captum-0.4.0-py3-none-any.whl (1.4 MB)\n",
            "\u001b[K     |████████████████████████████████| 1.4 MB 9.9 MB/s \n",
            "\u001b[?25hRequirement already satisfied: numpy in /usr/local/lib/python3.7/dist-packages (from captum) (1.19.5)\n",
            "Requirement already satisfied: matplotlib in /usr/local/lib/python3.7/dist-packages (from captum) (3.2.2)\n",
            "Requirement already satisfied: torch>=1.2 in /usr/local/lib/python3.7/dist-packages (from captum) (1.9.0+cu102)\n",
            "Requirement already satisfied: typing-extensions in /usr/local/lib/python3.7/dist-packages (from torch>=1.2->captum) (3.7.4.3)\n",
            "Requirement already satisfied: python-dateutil>=2.1 in /usr/local/lib/python3.7/dist-packages (from matplotlib->captum) (2.8.2)\n",
            "Requirement already satisfied: cycler>=0.10 in /usr/local/lib/python3.7/dist-packages (from matplotlib->captum) (0.10.0)\n",
            "Requirement already satisfied: kiwisolver>=1.0.1 in /usr/local/lib/python3.7/dist-packages (from matplotlib->captum) (1.3.1)\n",
            "Requirement already satisfied: pyparsing!=2.0.4,!=2.1.2,!=2.1.6,>=2.0.1 in /usr/local/lib/python3.7/dist-packages (from matplotlib->captum) (2.4.7)\n",
            "Requirement already satisfied: six in /usr/local/lib/python3.7/dist-packages (from cycler>=0.10->matplotlib->captum) (1.15.0)\n",
            "Installing collected packages: captum\n",
            "Successfully installed captum-0.4.0\n"
          ]
        }
      ],
      "metadata": {
        "colab": {
          "base_uri": "https://localhost:8080/"
        },
        "id": "SndcAcq_Krxz",
        "outputId": "e2ed3b64-6076-4244-c87e-571951fb1879"
      }
    },
    {
      "cell_type": "markdown",
      "source": [
        "## Load Model"
      ],
      "metadata": {
        "id": "Axf1X_2FuS5q"
      }
    },
    {
      "cell_type": "code",
      "execution_count": 3,
      "source": [
        "from transformer_utils.low_memory import enable_low_memory_load\r\n",
        "import transformers\r\n",
        "\r\n",
        "enable_low_memory_load()\r\n",
        "tokenizer = transformers.AutoTokenizer.from_pretrained(\"gpt2\")\r\n",
        "model = transformers.AutoModelForCausalLM.from_pretrained('gpt2')"
      ],
      "outputs": [
        {
          "output_type": "display_data",
          "data": {
            "text/plain": [
              "Downloading:   0%|          | 0.00/665 [00:00<?, ?B/s]"
            ],
            "application/vnd.jupyter.widget-view+json": {
              "model_id": "4e963882c1d840a1806052436c6eab58",
              "version_minor": 0,
              "version_major": 2
            }
          },
          "metadata": {
            "tags": []
          }
        },
        {
          "output_type": "display_data",
          "data": {
            "text/plain": [
              "Downloading:   0%|          | 0.00/1.04M [00:00<?, ?B/s]"
            ],
            "application/vnd.jupyter.widget-view+json": {
              "model_id": "3a56454c3ece45749edb7840899e8245",
              "version_minor": 0,
              "version_major": 2
            }
          },
          "metadata": {
            "tags": []
          }
        },
        {
          "output_type": "display_data",
          "data": {
            "text/plain": [
              "Downloading:   0%|          | 0.00/456k [00:00<?, ?B/s]"
            ],
            "application/vnd.jupyter.widget-view+json": {
              "model_id": "a6f6f1ace01441768fea9768bd063932",
              "version_minor": 0,
              "version_major": 2
            }
          },
          "metadata": {
            "tags": []
          }
        },
        {
          "output_type": "display_data",
          "data": {
            "text/plain": [
              "Downloading:   0%|          | 0.00/1.36M [00:00<?, ?B/s]"
            ],
            "application/vnd.jupyter.widget-view+json": {
              "model_id": "c650ebfe1de547bdbebfe492e28452a4",
              "version_minor": 0,
              "version_major": 2
            }
          },
          "metadata": {
            "tags": []
          }
        },
        {
          "output_type": "display_data",
          "data": {
            "text/plain": [
              "Downloading:   0%|          | 0.00/1.01k [00:00<?, ?B/s]"
            ],
            "application/vnd.jupyter.widget-view+json": {
              "model_id": "b3f65d02423448ba8035186a78d521fe",
              "version_minor": 0,
              "version_major": 2
            }
          },
          "metadata": {
            "tags": []
          }
        },
        {
          "output_type": "display_data",
          "data": {
            "text/plain": [
              "Downloading:   0%|          | 0.00/526M [00:00<?, ?B/s]"
            ],
            "application/vnd.jupyter.widget-view+json": {
              "model_id": "49888523c1a4494b96441b3c981fa186",
              "version_minor": 0,
              "version_major": 2
            }
          },
          "metadata": {
            "tags": []
          }
        },
        {
          "output_type": "stream",
          "name": "stderr",
          "text": [
            "/usr/local/lib/python3.7/dist-packages/torch/nn/modules/lazy.py:178: UserWarning: Lazy modules are a new feature under heavy development so changes to the API or functionality can happen at any moment.\n",
            "  warnings.warn('Lazy modules are a new feature under heavy development '\n"
          ]
        }
      ],
      "metadata": {
        "colab": {
          "base_uri": "https://localhost:8080/",
          "height": 262,
          "referenced_widgets": [
            "4e963882c1d840a1806052436c6eab58",
            "f30633984e8c4f05aca1f4e8c043619b",
            "4878fffc02584ebab8ca6685dacda802",
            "3af659a817bf444b9dfecf5f3b08b808",
            "01cdc0d7af8e49da9758cfcd648802c6",
            "f9e7bfdd72794c1ea9cdab9132f89a75",
            "41740317c7c7416bbefbd22aef2a0ba0",
            "403ace3084684a89afbed61def0ba961",
            "cbb7e1f53356419dbe24dd3952870c7b",
            "2d1c51c3dd194a079878e2267ae70753",
            "ff436b30a46f429f894cc0840d98a86f",
            "3a56454c3ece45749edb7840899e8245",
            "6f19dfd3feff4f389b25bf7d7ede4fd5",
            "1aee2bde7bac4cf58fe1982a09f0b444",
            "20e185722e8443efb7baa20652bac57f",
            "e8e9cb3291a74f12b7b3a754532347de",
            "9c1e29290c3d4e4181168bcd7da23d86",
            "5bccf253db1a4123930e3e050030b65c",
            "b7fc18a0bddd4ef4b73ee51e89fc3e9b",
            "b003ae1f0ffe4ac4bc7d401e1015734e",
            "019d8623d84645198208e79dc4611874",
            "a911d60219004b95a1dd2f7a9cfb508f",
            "a6f6f1ace01441768fea9768bd063932",
            "9dbe82c0beb24b09b29b20afd7a20f8e",
            "56d831b73f994342ade30e0bb087106e",
            "ef88cf72d2494a5b8cf2fdc23ee61d36",
            "097daca2e3d24cbd903c01c0c957c2ab",
            "571db74d97544ba3a26f110426a1ed0e",
            "0622647e9a3f4da28a4208e63df5b026",
            "11587e8628c2477a8014076002868409",
            "a9f9fadb3df145469b5f223cbcd06662",
            "3a4cd0984f634565b1510eef3a79860a",
            "a3efc2fe5b91454bbb07fed39ae576a2",
            "c650ebfe1de547bdbebfe492e28452a4",
            "819a07b5802f4031aac1a4916ce1b3dd",
            "d0159babad5349d9b24f4ffd0f9ff662",
            "aebb1dd11ea14434aefa2d51b02d4c28",
            "2c278c6492d14018873d608a2fac031c",
            "a0688635bb0b4fcbbea83fd612872ceb",
            "988f46e22a7b42008d01352f339f3ce8",
            "28dfc6faebad4e4bb20462b8a2fb9d53",
            "eae80bde1f3e4bbcac09a2cc56ef9eba",
            "d3bc787c7ae741008b8118bd085f47f8",
            "c2d06aca041e4b01b2f6fe53d64171b5",
            "b3f65d02423448ba8035186a78d521fe",
            "bc7ba4bfe5684a9f9e13d7e4308bbeea",
            "e44e654c38574098b2930bf639de8997",
            "65a3d17b7e92496883642397ca2d9c05",
            "1e491b52f49e4578a431c5a9ad2a3d29",
            "e059684665f24d22bd80ff167ad362ef",
            "eb172694edb74b67922c97c217e978fa",
            "a4a702445bcb4547932fc0b82607878e",
            "8ca3af5f836e4a27a7a9272544fdadfc",
            "8045228d8d004d81b284c79a52f97d29",
            "98976ac673c046dda6fec6c341b5ce48",
            "49888523c1a4494b96441b3c981fa186",
            "00eb6c1fe2c049f090ce18a366383bbe",
            "3480223bf3744e7db9107f027152c840",
            "d73712fe7126403b83296e6a113c4973",
            "6e2fbe705d20476d88b647d918913b7c",
            "f74a108a352144888c3a2b2d0b4af365",
            "50aff9a98148401a99af877e1abd9f72",
            "5d3eccb0599440d7aaddef1593834ebb",
            "d7e374c0e4aa4a0a9b5e4ef739d180a4",
            "f4c22284a3da42a0b601b5b34b894216",
            "6a11028cdc4f4deeb76b2f7a371ff977"
          ]
        },
        "id": "mM1h1xG5JSJi",
        "outputId": "543aa485-f2c6-49c8-e785-b4018a74b0c0"
      }
    },
    {
      "cell_type": "code",
      "execution_count": 4,
      "source": [
        "import torch\r\n",
        "\r\n",
        "def text_to_input_ids(text):\r\n",
        "    toks = tokenizer.encode(text)\r\n",
        "    return torch.as_tensor(toks).view(1, -1).cuda()"
      ],
      "outputs": [],
      "metadata": {
        "id": "U0eibldJKkxL"
      }
    },
    {
      "cell_type": "markdown",
      "source": [
        "# Exploration\n"
      ],
      "metadata": {
        "id": "qBOetovgtpYe"
      }
    },
    {
      "cell_type": "markdown",
      "source": [
        "## Basics"
      ],
      "metadata": {
        "id": "W2ces_YVuXAs"
      }
    },
    {
      "cell_type": "code",
      "execution_count": 5,
      "source": [
        "text = \"The forecast said that thunderstorm activity with the risk of hail will lead to localised\"\n",
        "tokens = text_to_input_ids(text)\n",
        "tokens, tokens.shape, tokenizer.batch_decode(tokens[0][-4:])"
      ],
      "outputs": [
        {
          "output_type": "execute_result",
          "data": {
            "text/plain": [
              "(tensor([[  464, 11092,   531,   326, 18355, 12135,  3842,   351,   262,  2526,\n",
              "            286, 32405,   481,  1085,   284,  1957,  1417]], device='cuda:0'),\n",
              " torch.Size([1, 17]),\n",
              " [' lead', ' to', ' local', 'ised'])"
            ]
          },
          "metadata": {
            "tags": []
          },
          "execution_count": 5
        }
      ],
      "metadata": {
        "colab": {
          "base_uri": "https://localhost:8080/"
        },
        "id": "IBB03uavLnNV",
        "outputId": "94c170b0-c192-4146-9985-e57916f1a5bf"
      }
    },
    {
      "cell_type": "code",
      "execution_count": 6,
      "source": [
        "result = model.forward(tokens)"
      ],
      "outputs": [],
      "metadata": {
        "id": "M1ZKteu4Lz55"
      }
    },
    {
      "cell_type": "code",
      "execution_count": 7,
      "source": [
        "result.logits.shape"
      ],
      "outputs": [
        {
          "output_type": "execute_result",
          "data": {
            "text/plain": [
              "torch.Size([1, 17, 50257])"
            ]
          },
          "metadata": {
            "tags": []
          },
          "execution_count": 7
        }
      ],
      "metadata": {
        "colab": {
          "base_uri": "https://localhost:8080/"
        },
        "id": "XTuLlT0hMA5M",
        "outputId": "52cfe38e-2639-4bd1-91cb-98d6bb2eec3f"
      }
    },
    {
      "cell_type": "markdown",
      "source": [
        "For each of the 17 positions, the Laguage Model makes a prediction of likelihood of each of the 50257 possible tokens being the next one. This graph shows an apparent trend, probably explained by earlier tokens being the more commonly used."
      ],
      "metadata": {
        "id": "62EeYsE-NVmf"
      }
    },
    {
      "cell_type": "code",
      "execution_count": 8,
      "source": [
        "import matplotlib.pyplot as plt\n",
        "plt.plot(result.logits[0,16].cpu().detach().numpy())"
      ],
      "outputs": [
        {
          "output_type": "execute_result",
          "data": {
            "text/plain": [
              "[<matplotlib.lines.Line2D at 0x7fcc0e7339d0>]"
            ]
          },
          "metadata": {
            "tags": []
          },
          "execution_count": 8
        },
        {
          "output_type": "display_data",
          "data": {
            "text/plain": [
              "<Figure size 432x288 with 1 Axes>"
            ],
            "image/png": "[encoded data removed]"
          },
          "metadata": {
            "tags": [],
            "needs_background": "light"
          }
        }
      ],
      "metadata": {
        "colab": {
          "base_uri": "https://localhost:8080/",
          "height": 282
        },
        "id": "EA4tKSbGNfoP",
        "outputId": "3c8ec3b8-88b9-4fcf-9798-7ef0b58da2b0"
      }
    },
    {
      "cell_type": "markdown",
      "source": [
        "Argmax gives the reasonable prediction of 'flooding' in the last position."
      ],
      "metadata": {
        "id": "wUYfyLygPaQF"
      }
    },
    {
      "cell_type": "code",
      "execution_count": 9,
      "source": [
        "predicted = torch.argmax(result.logits[0,16])\n",
        "predicted, tokenizer.decode(predicted), result.logits[0,16,predicted]"
      ],
      "outputs": [
        {
          "output_type": "execute_result",
          "data": {
            "text/plain": [
              "(tensor(17448, device='cuda:0'),\n",
              " ' flooding',\n",
              " tensor(-0.7156, device='cuda:0', grad_fn=<SelectBackward>))"
            ]
          },
          "metadata": {
            "tags": []
          },
          "execution_count": 9
        }
      ],
      "metadata": {
        "colab": {
          "base_uri": "https://localhost:8080/"
        },
        "id": "YJcAddt6MFDl",
        "outputId": "ed4606ec-1dd4-4555-a9b2-cad75cc857b2"
      }
    },
    {
      "cell_type": "markdown",
      "source": [
        "## Embedding Vectors\n",
        "\n",
        "Bypassing language modelling so we can work directly with the transformer vectors, first confirm we get the same result:"
      ],
      "metadata": {
        "id": "p_IdJHfyTI56"
      }
    },
    {
      "cell_type": "code",
      "execution_count": 10,
      "source": [
        "embeds = model.transformer.wte(tokens)\n",
        "transformer_outputs = model.transformer.forward(inputs_embeds=embeds)\n",
        "type(transformer_outputs)"
      ],
      "outputs": [
        {
          "output_type": "execute_result",
          "data": {
            "text/plain": [
              "transformers.modeling_outputs.BaseModelOutputWithPast"
            ]
          },
          "metadata": {
            "tags": []
          },
          "execution_count": 10
        }
      ],
      "metadata": {
        "colab": {
          "base_uri": "https://localhost:8080/"
        },
        "id": "OdfY45-kTlvT",
        "outputId": "f40d9e47-ecc4-4a4b-cb68-6fc76e99b2eb"
      }
    },
    {
      "cell_type": "code",
      "execution_count": 11,
      "source": [
        "transformer_outputs.last_hidden_state.shape\n"
      ],
      "outputs": [
        {
          "output_type": "execute_result",
          "data": {
            "text/plain": [
              "torch.Size([1, 17, 768])"
            ]
          },
          "metadata": {
            "tags": []
          },
          "execution_count": 11
        }
      ],
      "metadata": {
        "colab": {
          "base_uri": "https://localhost:8080/"
        },
        "id": "V6RE0RumVqN-",
        "outputId": "18f6cc29-4206-4303-b1bf-584a579150f7"
      }
    },
    {
      "cell_type": "code",
      "execution_count": 35,
      "source": [
        "def show_prediction(transformer_outputs,posn):\n",
        "  output_vec = transformer_outputs.last_hidden_state[0,posn]\n",
        "  t_logits = model.lm_head(output_vec)\n",
        "  t_predicted = torch.argmax(t_logits)\n",
        "  print(t_predicted, tokenizer.decode(t_predicted), t_logits[t_predicted])\n",
        "\n",
        "show_prediction(transformer_outputs,16)"
      ],
      "outputs": [
        {
          "output_type": "stream",
          "name": "stdout",
          "text": [
            "tensor(17448, device='cuda:0')  flooding tensor(-0.7156, device='cuda:0', grad_fn=<SelectBackward>)\n"
          ]
        }
      ],
      "metadata": {
        "colab": {
          "base_uri": "https://localhost:8080/"
        },
        "id": "QWZ-qhiiWDQJ",
        "outputId": "840ad6d7-8517-4459-e447-79ee037a0e4d"
      }
    },
    {
      "cell_type": "markdown",
      "source": [
        "## Plot Embedding Vector Waveforms\n",
        "\n",
        "This compares the embedding vector generated from the input token to that output by the top layer, predicting the next token."
      ],
      "metadata": {
        "id": "T-pyfbNpvGO2"
      }
    },
    {
      "cell_type": "code",
      "execution_count": 13,
      "source": [
        "plt.plot(embeds[0,16].cpu().detach().numpy())\n",
        "plt.show()\n",
        "plt.plot(output_vec.cpu().detach().numpy())\n",
        "plt.show()"
      ],
      "outputs": [
        {
          "output_type": "display_data",
          "data": {
            "text/plain": [
              "<Figure size 432x288 with 1 Axes>"
            ],
            "image/png": "[encoded data removed]"
          },
          "metadata": {
            "tags": [],
            "needs_background": "light"
          }
        },
        {
          "output_type": "display_data",
          "data": {
            "text/plain": [
              "<Figure size 432x288 with 1 Axes>"
            ],
            "image/png": "[encoded data removed]"
          },
          "metadata": {
            "tags": [],
            "needs_background": "light"
          }
        }
      ],
      "metadata": {
        "id": "qTTCKDvpvFqA",
        "outputId": "425a6935-c396-4de3-8095-68c95620c8e0",
        "colab": {
          "base_uri": "https://localhost:8080/",
          "height": 513
        }
      }
    },
    {
      "cell_type": "markdown",
      "source": [
        "# Attribution"
      ],
      "metadata": {
        "id": "y8SyzC8auDO5"
      }
    },
    {
      "cell_type": "markdown",
      "source": [
        "## Attribute a specific logit output to embedding vector inputs"
      ],
      "metadata": {
        "id": "u8OiPoi9uouZ"
      }
    },
    {
      "cell_type": "markdown",
      "source": [
        "Now we can define a custom modified forward function which we can use for attribution for a specific output word vector. \n",
        "The model is wrapped in a function to allow transformer.forward be called with the inputs_embeds argument rather than default first arg, and to return the relevant logit as a single record 1d-tensor."
      ],
      "metadata": {
        "id": "tF-6Hh6JXczg"
      }
    },
    {
      "cell_type": "code",
      "execution_count": 14,
      "source": [
        "\n",
        "def make_forward_with_embeds(target_position, target_tokenid):\n",
        "    \n",
        "  def forward_with_embeds(embeds):\n",
        "      \n",
        "      transformer_outputs = model.transformer.forward(inputs_embeds=embeds)\n",
        "      output_vec = transformer_outputs.last_hidden_state[0,target_position]\n",
        "      lm_logits = model.lm_head(output_vec)\n",
        "      return lm_logits[target_tokenid:target_tokenid+1] #captum expects\n",
        "    \n",
        "  return forward_with_embeds"
      ],
      "outputs": [],
      "metadata": {
        "id": "poUogA4OXHzO"
      }
    },
    {
      "cell_type": "markdown",
      "source": [
        "Test again (expect -0.7156)"
      ],
      "metadata": {
        "id": "I0Npdy1tYkL2"
      }
    },
    {
      "cell_type": "code",
      "execution_count": 15,
      "source": [
        "make_forward_with_embeds( 16, 17448 )(embeds)"
      ],
      "outputs": [
        {
          "output_type": "execute_result",
          "data": {
            "text/plain": [
              "tensor([-0.7156], device='cuda:0', grad_fn=<SliceBackward>)"
            ]
          },
          "metadata": {
            "tags": []
          },
          "execution_count": 15
        }
      ],
      "metadata": {
        "colab": {
          "base_uri": "https://localhost:8080/"
        },
        "id": "gE7QcgzPYjWt",
        "outputId": "afce1e43-6b81-4513-9787-0d9d599dce78"
      }
    },
    {
      "cell_type": "markdown",
      "source": [
        "Using the [Integrated Gradients](https://arxiv.org/pdf/1703.01365.pdf) algorithm through [Captum](https://captum.ai/docs/extension/integrated_gradients) we use \n",
        "attribution to identify what part of the embedding inputs are most important to the logit for the expected output term (flooding)."
      ],
      "metadata": {
        "id": "RfH8lOwl7jy2"
      }
    },
    {
      "cell_type": "code",
      "execution_count": 16,
      "source": [
        "from captum.attr import IntegratedGradients\n",
        "def attribute(attributor):\n",
        "  embeds = model.transformer.wte(tokens)\n",
        "  embeds.requires_grad_()\n",
        "  return attributor.attribute(embeds)\n",
        "\n",
        "attr = attribute(IntegratedGradients(make_forward_with_embeds( 16, 17448 )))\n"
      ],
      "outputs": [],
      "metadata": {
        "id": "yY9Eq_SG-ixU"
      }
    },
    {
      "cell_type": "markdown",
      "source": [
        "### Input Position Salience\n",
        "\n",
        "Using norm on each vector in the input and plotting against the corresponding label gives a plausible interpretation of the importance of each term."
      ],
      "metadata": {
        "id": "Etgy87d78egq"
      }
    },
    {
      "cell_type": "code",
      "execution_count": 17,
      "source": [
        "import numpy as np\n",
        "\n",
        "def show_posn_salience(attribution):\n",
        "  norms = np.linalg.norm(attribution.cpu().detach().numpy(), axis=1)\n",
        "  labels = [tokenizer.decode(token) for token in tokens[0]]\n",
        "\n",
        "  fig, ax = plt.subplots()\n",
        "  ax.plot(norms)\n",
        "  ax.set_xticks(np.arange(attribution.shape[0]))\n",
        "\n",
        "  ax.set_xticklabels(labels,rotation='vertical')\n",
        "  plt.show()\n",
        "\n",
        "show_posn_salience(attr[0])"
      ],
      "outputs": [
        {
          "output_type": "display_data",
          "data": {
            "text/plain": [
              "<Figure size 432x288 with 1 Axes>"
            ],
            "image/png": "[encoded data removed]"
          },
          "metadata": {
            "tags": [],
            "needs_background": "light"
          }
        }
      ],
      "metadata": {
        "colab": {
          "base_uri": "https://localhost:8080/",
          "height": 299
        },
        "id": "4ZrVY6lvAEwb",
        "outputId": "1d06e547-5112-49cb-b8b7-e046063b001c"
      }
    },
    {
      "cell_type": "markdown",
      "source": [
        "### Attribution to a single embedding vector\n",
        "This shows attribution against the last token vector."
      ],
      "metadata": {
        "id": "fTw8d2KZ9THj"
      }
    },
    {
      "cell_type": "code",
      "execution_count": 18,
      "source": [
        "plt.plot(attr[0,16].cpu().detach().numpy())"
      ],
      "outputs": [
        {
          "output_type": "execute_result",
          "data": {
            "text/plain": [
              "[<matplotlib.lines.Line2D at 0x7fcc0129fd50>]"
            ]
          },
          "metadata": {
            "tags": []
          },
          "execution_count": 18
        },
        {
          "output_type": "display_data",
          "data": {
            "text/plain": [
              "<Figure size 432x288 with 1 Axes>"
            ],
            "image/png": "[encoded data removed]"
          },
          "metadata": {
            "tags": [],
            "needs_background": "light"
          }
        }
      ],
      "metadata": {
        "colab": {
          "base_uri": "https://localhost:8080/",
          "height": 282
        },
        "id": "F9bxrSmm_Wdd",
        "outputId": "2a5cade4-f982-44dd-e863-2b633b3f3ae0"
      }
    },
    {
      "cell_type": "markdown",
      "source": [
        "## Attribute specific logit excess to embedding vector inputs\n",
        "\n",
        "The previous wrapper of the forward method would identify inputs as significant even if they increased logits for other symbols more than the target one. The version below outputs the difference between the target logit and the mean of all logits. Further investigation is required to see if this is helpful or not."
      ],
      "metadata": {
        "id": "iVcVxXS1-4ao"
      }
    },
    {
      "cell_type": "code",
      "execution_count": 19,
      "source": [
        "def make_logit_less_mean_embeds(target_position, target_tokenid):\n",
        "    \n",
        "  def logit_less_mean_embeds(embeds):\n",
        "      \n",
        "      transformer_outputs = model.transformer.forward(inputs_embeds=embeds)\n",
        "      output_vec = transformer_outputs.last_hidden_state[0,target_position]\n",
        "      lm_logits = model.lm_head(output_vec)\n",
        "      logits_mean = torch.mean(lm_logits)\n",
        "      return lm_logits[target_tokenid:target_tokenid+1] -logits_mean\n",
        "    \n",
        "  return logit_less_mean_embeds"
      ],
      "outputs": [],
      "metadata": {
        "id": "VFeVG9yJ_87J"
      }
    },
    {
      "cell_type": "code",
      "execution_count": 20,
      "source": [
        "\n",
        "attr = attribute(IntegratedGradients(make_logit_less_mean_embeds( 16, 17448 )))\n",
        "\n",
        "plt.plot(attr[0,16].cpu().detach().numpy())"
      ],
      "outputs": [
        {
          "output_type": "execute_result",
          "data": {
            "text/plain": [
              "[<matplotlib.lines.Line2D at 0x7fcc0121f7d0>]"
            ]
          },
          "metadata": {
            "tags": []
          },
          "execution_count": 20
        },
        {
          "output_type": "display_data",
          "data": {
            "text/plain": [
              "<Figure size 432x288 with 1 Axes>"
            ],
            "image/png": "[encoded data removed]"
          },
          "metadata": {
            "tags": [],
            "needs_background": "light"
          }
        }
      ],
      "metadata": {
        "colab": {
          "base_uri": "https://localhost:8080/",
          "height": 282
        },
        "id": "9FxFq6M30D91",
        "outputId": "ffa24de0-e3ee-4af1-b072-bd3faf1fa7b6"
      }
    },
    {
      "cell_type": "code",
      "execution_count": 21,
      "source": [
        "\n",
        "show_posn_salience(attr[0])"
      ],
      "outputs": [
        {
          "output_type": "display_data",
          "data": {
            "text/plain": [
              "<Figure size 432x288 with 1 Axes>"
            ],
            "image/png": "[encoded data removed]"
          },
          "metadata": {
            "tags": [],
            "needs_background": "light"
          }
        }
      ],
      "metadata": {
        "colab": {
          "base_uri": "https://localhost:8080/",
          "height": 299
        },
        "id": "lqzisBvD0d3S",
        "outputId": "1ebd9246-7b7f-4ee6-8a09-4d5d8bfd5f7d"
      }
    },
    {
      "cell_type": "markdown",
      "source": [
        "Results are similar but fewer positions are higlighted."
      ],
      "metadata": {
        "id": "PHj6nK4fGRFd"
      }
    },
    {
      "cell_type": "markdown",
      "source": [
        "## Verify vector attribution\n",
        "\n",
        "Attempt to verify that the attribution makes some sense, first by zeroing out the elements with the lowest attribution."
      ],
      "metadata": {
        "id": "wGCOS8Jl7GY5"
      }
    },
    {
      "cell_type": "code",
      "execution_count": 22,
      "source": [
        "def drop_low_salience(level, abs_attrib=True, posn=16):\n",
        "  embeds = model.transformer.wte(tokens)\n",
        "  attr = ig.attribute(embeds)\n",
        "  attribv = torch.abs(attr[0,posn]) if abs_attrib else attr[0,posn]\n",
        "  mask = attribv.ge(level)\n",
        "  drop_masked(embeds, mask)\n",
        "\n",
        "def drop_masked(embeds, mask, posn=16):\n",
        "  embeds = model.transformer.wte(tokens)\n",
        "  original = torch.clone(embeds[0,posn])\n",
        "  fake = torch.where(mask, original,torch.zeros_like(original))\n",
        "  embeds[0,posn]=fake\n",
        "  transformer_outputs = model.transformer.forward(inputs_embeds=embeds)\n",
        "  output_vec = transformer_outputs.last_hidden_state[0,posn]\n",
        "  t_logits = model.lm_head(output_vec)\n",
        "  t_predicted = torch.argmax(t_logits)\n",
        "  print(f'Kept {torch.count_nonzero(fake)} of {torch.count_nonzero(original)} nonzero elements')\n",
        "\n",
        "  transformer_outputs = model.transformer.forward(inputs_embeds=embeds)\n",
        "  output_vec = transformer_outputs.last_hidden_state[0,posn]\n",
        "  t_logits = model.lm_head(output_vec)\n",
        "  t_predicted = torch.argmax(t_logits)\n",
        "  print(f'Predicted token {t_predicted} \"{tokenizer.decode(t_predicted)}\" logit value: {t_logits[t_predicted]}')\n",
        "\n"
      ],
      "outputs": [],
      "metadata": {
        "id": "AeXeM8d1_uLs"
      }
    },
    {
      "cell_type": "markdown",
      "source": [
        "### Drop Low Salience Elements"
      ],
      "metadata": {
        "id": "B3GTKxQI7sPZ"
      }
    },
    {
      "cell_type": "code",
      "execution_count": 23,
      "source": [
        "ig = IntegratedGradients(make_logit_less_mean_embeds( 16, 17448 ))\n",
        "drop_low_salience(0.005)\n",
        "drop_low_salience(0.003)\n",
        "drop_low_salience(0.002)\n",
        "drop_low_salience(0.001)\n",
        "\n"
      ],
      "outputs": [
        {
          "output_type": "stream",
          "name": "stdout",
          "text": [
            "Kept 651 of 768 nonzero elements\n",
            "Predicted token 9725 \" roads\" logit value: -3.4601354598999023\n",
            "Kept 681 of 768 nonzero elements\n",
            "Predicted token 1956 \" land\" logit value: -3.5060105323791504\n",
            "Kept 718 of 768 nonzero elements\n",
            "Predicted token 32405 \" hail\" logit value: -1.1598320007324219\n",
            "Kept 737 of 768 nonzero elements\n",
            "Predicted token 17448 \" flooding\" logit value: 0.6034219264984131\n"
          ]
        }
      ],
      "metadata": {
        "id": "ouATvz_uHCnA",
        "outputId": "ded7923d-f639-4270-be6b-485f85c84588",
        "colab": {
          "base_uri": "https://localhost:8080/"
        }
      }
    },
    {
      "cell_type": "code",
      "execution_count": 24,
      "source": [
        "ig = IntegratedGradients(make_forward_with_embeds( 16, 17448 ))\n",
        "\n",
        "drop_low_salience(0.01)\n",
        "drop_low_salience(0.008)\n",
        "drop_low_salience(0.005)\n",
        "drop_low_salience(0.003)\n"
      ],
      "outputs": [
        {
          "output_type": "stream",
          "name": "stdout",
          "text": [
            "Kept 663 of 768 nonzero elements\n",
            "Predicted token 68 \"e\" logit value: -4.121610164642334\n",
            "Kept 683 of 768 nonzero elements\n",
            "Predicted token 12 \"-\" logit value: -4.719791412353516\n",
            "Kept 713 of 768 nonzero elements\n",
            "Predicted token 6193 \" weather\" logit value: 0.20048046112060547\n",
            "Kept 730 of 768 nonzero elements\n",
            "Predicted token 6193 \" weather\" logit value: -1.3550100326538086\n"
          ]
        }
      ],
      "metadata": {
        "id": "2bVxVIJs7wXh",
        "outputId": "458daffa-8327-4026-fcb8-19efb5d9c033",
        "colab": {
          "base_uri": "https://localhost:8080/"
        }
      }
    },
    {
      "cell_type": "markdown",
      "source": [
        "### Drop Random Elements\n",
        "\n",
        "Compare this to randomly dropping a similar number of elements"
      ],
      "metadata": {
        "id": "0CQ4aDbQzV_1"
      }
    },
    {
      "cell_type": "code",
      "execution_count": 25,
      "source": [
        "def drop_random(rate):\n",
        "  embeds = model.transformer.wte(tokens)\n",
        "  mask = torch.rand(embeds[0,0].shape, device=embeds.device).ge(rate) \n",
        "  drop_masked(embeds, mask)\n",
        "\n",
        "drop_random(31/768)\n",
        "drop_random(20/768)\n",
        "drop_random(10/768)\n",
        "drop_random(5/768)\n",
        "drop_random(1/768)\n",
        "\n"
      ],
      "outputs": [
        {
          "output_type": "stream",
          "name": "stdout",
          "text": [
            "Kept 727 of 768 nonzero elements\n",
            "Predicted token 12 \"-\" logit value: -0.5765995979309082\n",
            "Kept 746 of 768 nonzero elements\n",
            "Predicted token 9 \"*\" logit value: -2.5034475326538086\n",
            "Kept 758 of 768 nonzero elements\n",
            "Predicted token 2465 \" damage\" logit value: -0.4099869728088379\n",
            "Kept 764 of 768 nonzero elements\n",
            "Predicted token 17448 \" flooding\" logit value: 0.0221405029296875\n",
            "Kept 768 of 768 nonzero elements\n",
            "Predicted token 17448 \" flooding\" logit value: -0.7155776023864746\n"
          ]
        }
      ],
      "metadata": {
        "colab": {
          "base_uri": "https://localhost:8080/"
        },
        "id": "17xC9l1VDl7v",
        "outputId": "7ba2faf5-7929-4856-afe3-44f63557939d"
      }
    },
    {
      "cell_type": "markdown",
      "source": [
        "###Drop Highly Salient Elements\n",
        "\n",
        "Inverting this, how many high salience tokens do we need to drop to affect the predicted token."
      ],
      "metadata": {
        "id": "4tjYIHX24nOk"
      }
    },
    {
      "cell_type": "code",
      "execution_count": 26,
      "source": [
        "def drop_high_salience(level, abs_attrib=True):\n",
        "  embeds = model.transformer.wte(tokens)\n",
        "  attr = ig.attribute(embeds)\n",
        "  attribv = torch.abs(attr[0,16]) if abs_attrib else attr[0,16]\n",
        "  mask = attribv.le(level)\n",
        "  drop_masked(embeds, mask)\n",
        "\n",
        "drop_high_salience(0.1)\n",
        "drop_high_salience(0.2)\n",
        "drop_high_salience(0.4)\n",
        "drop_high_salience(0.4, False)"
      ],
      "outputs": [
        {
          "output_type": "stream",
          "name": "stdout",
          "text": [
            "Kept 437 of 768 nonzero elements\n",
            "Predicted token 447 \"�\" logit value: -18.424091339111328\n",
            "Kept 585 of 768 nonzero elements\n",
            "Predicted token 447 \"�\" logit value: -22.182804107666016\n",
            "Kept 709 of 768 nonzero elements\n",
            "Predicted token 357 \" (\" logit value: -25.75557518005371\n",
            "Kept 734 of 768 nonzero elements\n",
            "Predicted token 564 \" �\" logit value: -23.998882293701172\n"
          ]
        }
      ],
      "metadata": {
        "colab": {
          "base_uri": "https://localhost:8080/"
        },
        "id": "ZT0CIe7p3cyP",
        "outputId": "857d1ee3-eda7-4428-e639-fea3e25778eb"
      }
    },
    {
      "cell_type": "markdown",
      "source": [
        "### Result \n",
        "\n",
        "Integrated Gradients seems to correctly identify important dimensions in the input embedding vector.\n",
        "\n",
        "Dropping low salience vector elements results in conceptually similar output tokens, and approx 30 can be dropped. Dropping 1 high salient element changes the output.\n",
        "\n",
        "Next, repeat with other tokens\n"
      ],
      "metadata": {
        "id": "T3hwho9IAxnE"
      }
    },
    {
      "cell_type": "markdown",
      "source": [
        "Checking a different position"
      ],
      "metadata": {
        "id": "zCUFvgIHbjmh"
      }
    },
    {
      "cell_type": "code",
      "execution_count": 40,
      "source": [
        "print(tokens[0,13], tokenizer.decode(tokens[0,13]))\n",
        "print(tokens[0,14], tokenizer.decode(tokens[0,14]))\n",
        "print(tokens[0,15], tokenizer.decode(tokens[0,15]))\n",
        "print(tokens[0,16], tokenizer.decode(tokens[0,16]))"
      ],
      "outputs": [
        {
          "output_type": "stream",
          "name": "stdout",
          "text": [
            "tensor(1085, device='cuda:0')  lead\n",
            "tensor(284, device='cuda:0')  to\n",
            "tensor(1957, device='cuda:0')  local\n",
            "tensor(1417, device='cuda:0') ised\n"
          ]
        }
      ],
      "metadata": {
        "id": "zAL4aWl1bl46",
        "colab": {
          "base_uri": "https://localhost:8080/"
        },
        "outputId": "79dd481c-942e-4ed8-9bac-79a2d0dc42ed"
      }
    },
    {
      "cell_type": "markdown",
      "source": [
        "First look at input 'lead' predicting token 'to'.\n",
        "Surprisingly this doesn't appear to depend very little on the previous token which makes me think there is a mistake in the calculation or interpretation. Possibly it is because 'to' is a grammatical word and so depends on the overall sentence structure or frame rather than the specific previous word."
      ],
      "metadata": {
        "id": "nTVsV0JKh6ko"
      }
    },
    {
      "cell_type": "code",
      "execution_count": 41,
      "source": [
        "attr = attribute(IntegratedGradients(make_forward_with_embeds(13,284)))\n",
        "show_posn_salience(attr[0])"
      ],
      "outputs": [
        {
          "output_type": "display_data",
          "data": {
            "text/plain": [
              "<Figure size 432x288 with 1 Axes>"
            ],
            "image/png": "[encoded data removed]"
          },
          "metadata": {
            "tags": [],
            "needs_background": "light"
          }
        }
      ],
      "metadata": {
        "id": "54uCKtdsdCUQ",
        "colab": {
          "base_uri": "https://localhost:8080/",
          "height": 299
        },
        "outputId": "04754463-a735-4357-8472-d7ae483fecc4"
      }
    },
    {
      "cell_type": "code",
      "execution_count": 42,
      "source": [
        "attr = attribute(IntegratedGradients(make_forward_with_embeds(14,1957)))\n",
        "show_posn_salience(attr[0])"
      ],
      "outputs": [
        {
          "output_type": "display_data",
          "data": {
            "text/plain": [
              "<Figure size 432x288 with 1 Axes>"
            ],
            "image/png": "[encoded data removed]"
          },
          "metadata": {
            "tags": [],
            "needs_background": "light"
          }
        }
      ],
      "metadata": {
        "id": "mJm4eX0JlO5N",
        "outputId": "8646b636-b11c-4f4a-dfd2-676a3dced989",
        "colab": {
          "base_uri": "https://localhost:8080/",
          "height": 299
        }
      }
    },
    {
      "cell_type": "code",
      "execution_count": 43,
      "source": [
        "attr = attribute(IntegratedGradients(make_forward_with_embeds(15,1417)))\n",
        "show_posn_salience(attr[0])"
      ],
      "outputs": [
        {
          "output_type": "display_data",
          "data": {
            "text/plain": [
              "<Figure size 432x288 with 1 Axes>"
            ],
            "image/png": "[encoded data removed]"
          },
          "metadata": {
            "tags": [],
            "needs_background": "light"
          }
        }
      ],
      "metadata": {
        "id": "F73ngPfcltyc",
        "outputId": "5501077d-6027-4806-cab9-9a64abb8c91d",
        "colab": {
          "base_uri": "https://localhost:8080/",
          "height": 299
        }
      }
    },
    {
      "cell_type": "markdown",
      "source": [
        "These look less plausible, but passsed in actual rather than predicted token. Checking the  predicted tokens:"
      ],
      "metadata": {
        "id": "EVWvcZJPieq6"
      }
    },
    {
      "cell_type": "code",
      "execution_count": 36,
      "source": [
        "embeds = model.transformer.wte(tokens)\n",
        "transformer_outputs = model.transformer.forward(inputs_embeds=embeds)\n",
        "show_prediction(transformer_outputs,13)\n",
        "show_prediction(transformer_outputs,14)\n",
        "show_prediction(transformer_outputs,15)"
      ],
      "outputs": [
        {
          "output_type": "stream",
          "name": "stdout",
          "text": [
            "tensor(284, device='cuda:0')  to tensor(0.5942, device='cuda:0', grad_fn=<SelectBackward>)\n",
            "tensor(257, device='cuda:0')  a tensor(-0.9616, device='cuda:0', grad_fn=<SelectBackward>)\n",
            "tensor(290, device='cuda:0')  and tensor(-0.9020, device='cuda:0', grad_fn=<SelectBackward>)\n"
          ]
        }
      ],
      "metadata": {
        "id": "rz_vt5Lydxo_",
        "colab": {
          "base_uri": "https://localhost:8080/"
        },
        "outputId": "4b6af7d4-10f7-4000-9ef6-c0748ea2ec94"
      }
    },
    {
      "cell_type": "markdown",
      "source": [
        "# Layer Attribution\n"
      ],
      "metadata": {
        "id": "KB47J1NumzWk"
      }
    },
    {
      "cell_type": "code",
      "execution_count": null,
      "source": [],
      "outputs": [],
      "metadata": {
        "id": "OHZWpwYZm1RD"
      }
    }
  ]
}